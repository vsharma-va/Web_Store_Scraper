{
 "cells": [
  {
   "cell_type": "code",
   "execution_count": 224,
   "id": "b437d0ef",
   "metadata": {},
   "outputs": [],
   "source": [
    "import csv\n",
    "import random\n",
    "import time\n",
    "import os\n",
    "from bs4 import BeautifulSoup"
   ]
  },
  {
   "cell_type": "code",
   "execution_count": 225,
   "id": "bf77030c",
   "metadata": {
    "scrolled": true
   },
   "outputs": [],
   "source": [
    "from selenium import webdriver"
   ]
  },
  {
   "cell_type": "code",
   "execution_count": 226,
   "id": "953a40bc",
   "metadata": {},
   "outputs": [],
   "source": [
    "driver = webdriver.Firefox()"
   ]
  },
  {
   "cell_type": "code",
   "execution_count": 227,
   "id": "3c464dfe",
   "metadata": {},
   "outputs": [],
   "source": [
    "url = \"https://www.amazon.in\"\n",
    "driver.get(url)"
   ]
  },
  {
   "cell_type": "code",
   "execution_count": 228,
   "id": "98c88d70",
   "metadata": {},
   "outputs": [],
   "source": [
    "def create_url(search_item):\n",
    "    template = \"https://www.amazon.in/s?k={}&ref=nb_sb_noss_2\"\n",
    "    item = search_item.replace(' ', '+')\n",
    "    url = template.format(item)\n",
    "    return url\n",
    "\n",
    "search = \"Xiaomi\"\n",
    "driver.get(create_url(search))"
   ]
  },
  {
   "cell_type": "code",
   "execution_count": 243,
   "id": "5c25bb92",
   "metadata": {},
   "outputs": [],
   "source": [
    "soup = BeautifulSoup(driver.page_source, 'html.parser')\n",
    "results = soup.find_all('div', {'data-component-type' : 's-search-result'})\n",
    "\n",
    "actual_price = []\n",
    "discounted_price = []\n",
    "device_names = []\n",
    "hovered_items = []\n",
    "hovered_price_actual = []\n",
    "hovered_price_discount = []\n",
    "amazons_items = []\n",
    "amazons_price_actual = []\n",
    "amazons_price_discount = []"
   ]
  },
  {
   "cell_type": "code",
   "execution_count": 237,
   "id": "5e873ca2",
   "metadata": {
    "scrolled": true
   },
   "outputs": [
    {
     "data": {
      "text/plain": [
       "<div class=\"s-result-item s-asin sg-col-0-of-12 sg-col-16-of-20 sg-col sg-col-12-of-16\" data-asin=\"B08697N43N\" data-cel-widget=\"search_result_1\" data-component-id=\"37\" data-component-type=\"s-search-result\" data-index=\"1\" data-uuid=\"18eb93ca-506c-46c7-a0c0-8c491add00b9\"><div class=\"sg-col-inner\">\n",
       "<span cel_widget_id=\"MAIN-SEARCH_RESULTS-1\" class=\"celwidget slot=MAIN template=SEARCH_RESULTS widgetId=search-results_1\" data-cel-widget=\"MAIN-SEARCH_RESULTS-1\" data-csa-c-id=\"f56gd0-yizeii-uce8qf-kvebsj\">\n",
       "<div class=\"s-expand-height s-include-content-margin s-latency-cf-section s-border-bottom\"><div class=\"a-section a-spacing-medium\"><div class=\"sg-row\"><div class=\"a-section a-spacing-micro s-min-height-small\"><a class=\"a-link-normal\" href=\"/gp/bestsellers/electronics/ref=sr_bs_0_electronics_1\"><span class=\"rush-component\" data-component-id=\"1\" data-component-props='{\"badgeType\":\"best-seller\",\"asin\":\"B08697N43N\"}' data-component-type=\"s-status-badge-component\"><div class=\"a-row a-badge-region\"><span aria-labelledby=\"B08697N43N-best-seller-label B08697N43N-best-seller-supplementary\" class=\"a-badge\" data-a-badge-supplementary-position=\"right\" data-a-badge-type=\"status\" id=\"B08697N43N-best-seller\" tabindex=\"0\"><span aria-hidden=\"true\" class=\"a-badge-label\" data-a-badge-color=\"sx-orange\" id=\"B08697N43N-best-seller-label\"><span class=\"a-badge-label-inner a-text-ellipsis\"><span class=\"a-badge-text\" data-a-badge-color=\"sx-cloud\">Best seller</span></span></span><span aria-hidden=\"true\" class=\"a-badge-supplementary-text a-text-ellipsis\" id=\"B08697N43N-best-seller-supplementary\">in Electronics</span></span></div></span> </a> </div></div><div class=\"sg-row\"><div class=\"sg-col sg-col-4-of-12 sg-col-4-of-16 sg-col-4-of-20\"><div class=\"sg-col-inner\"><div class=\"a-section a-spacing-none\"><span class=\"rush-component\" data-component-id=\"2\" data-component-type=\"s-product-image\"><a class=\"a-link-normal s-no-outline\" href=\"/Redmi-Sky-Blue-64GB-Storage/dp/B08697N43N/ref=sr_1_1?dchild=1&amp;keywords=Xiaomi&amp;qid=1630137039&amp;sr=8-1\" target=\"_blank\"><div class=\"a-section aok-relative s-image-fixed-height\"><img alt=\"Redmi 9 (Sky Blue, 4GB RAM, 64GB Storage) | 2.3GHz Mediatek Helio G35 Octa core Processor\" class=\"s-image\" data-image-index=\"1\" data-image-latency=\"s-product-image\" data-image-load=\"\" data-image-source-density=\"1\" src=\"https://m.media-amazon.com/images/I/71A9Vo1BatL._AC_UY218_.jpg\" srcset=\"https://m.media-amazon.com/images/I/71A9Vo1BatL._AC_UY218_.jpg 1x, https://m.media-amazon.com/images/I/71A9Vo1BatL._AC_UY327_QL65_.jpg 1.5x, https://m.media-amazon.com/images/I/71A9Vo1BatL._AC_UY436_QL65_.jpg 2x, https://m.media-amazon.com/images/I/71A9Vo1BatL._AC_UY545_QL65_.jpg 2.5x, https://m.media-amazon.com/images/I/71A9Vo1BatL._AC_UY654_QL65_.jpg 3x\"/></div></a></span></div></div></div><div class=\"sg-col sg-col-4-of-12 sg-col-8-of-16 sg-col-12-of-20\"><div class=\"sg-col-inner\"><div class=\"a-section a-spacing-none\"><div class=\"a-section a-spacing-none\"><h2 class=\"a-size-mini a-spacing-none a-color-base s-line-clamp-2\"><a class=\"a-link-normal a-text-normal\" href=\"/Redmi-Sky-Blue-64GB-Storage/dp/B08697N43N/ref=sr_1_1?dchild=1&amp;keywords=Xiaomi&amp;qid=1630137039&amp;sr=8-1\" target=\"_blank\"><span class=\"a-size-medium a-color-base a-text-normal\">Redmi 9 (Sky Blue, 4GB RAM, 64GB Storage) | 2.3GHz Mediatek Helio G35 Octa core Processor</span> </a> </h2></div><div class=\"a-section a-spacing-none a-spacing-top-micro\"><div class=\"a-row a-size-small\"><span aria-label=\"4.2 out of 5 stars\"><span class=\"a-declarative\" data-a-popover='{\"closeButton\":false,\"closeButtonLabel\":\"\",\"position\":\"triggerBottom\",\"popoverLabel\":\"\",\"url\":\"/review/widgets/average-customer-review/popover/ref=acr_search__popover?ie=UTF8&amp;asin=B08697N43N&amp;ref=acr_search__popover&amp;contextId=search\"}' data-action=\"a-popover\"><a class=\"a-popover-trigger a-declarative\" href=\"javascript:void(0)\" role=\"button\"><i class=\"a-icon a-icon-star-small a-star-small-4 aok-align-bottom\"><span class=\"a-icon-alt\">4.2 out of 5 stars</span></i><i class=\"a-icon a-icon-popover\"></i></a></span> </span><span aria-label=\"82,315\"><a class=\"a-link-normal\" href=\"/Redmi-Sky-Blue-64GB-Storage/dp/B08697N43N/ref=sr_1_1?dchild=1&amp;keywords=Xiaomi&amp;qid=1630137039&amp;sr=8-1#customerReviews\" target=\"_blank\"><span class=\"a-size-base\">82,315</span> </a> </span></div></div><div class=\"sg-row\"><div class=\"sg-col sg-col-4-of-12 sg-col-4-of-16 sg-col-4-of-20\"><div class=\"sg-col-inner\"><div class=\"a-section a-spacing-none a-spacing-top-small\"><div class=\"a-row\"><a class=\"a-link-normal\" href=\"/gp/goldbox/\"><span class=\"a-badge\" data-a-badge-type=\"deal\" id=\"BEST_DEAL_B08697N43N\"><span class=\"a-badge-label\" data-a-badge-color=\"sx-lightning-deal-red\" id=\"BEST_DEAL_B08697N43N-label\"><span class=\"a-badge-label-inner a-text-ellipsis\"><span class=\"a-badge-text\" data-a-badge-color=\"sx-cloud\">Limited time deal</span></span></span></span> </a> </div><div class=\"a-row a-size-base a-color-base\"><a class=\"a-size-base a-link-normal a-text-normal\" href=\"/Redmi-Sky-Blue-64GB-Storage/dp/B08697N43N/ref=sr_1_1?dchild=1&amp;keywords=Xiaomi&amp;qid=1630137039&amp;sr=8-1\" target=\"_blank\"><span class=\"a-price\" data-a-color=\"price\" data-a-size=\"l\"><span class=\"a-offscreen\">₹8,999</span><span aria-hidden=\"true\"><span class=\"a-price-symbol\">₹</span><span class=\"a-price-whole\">8,999</span></span></span> <span class=\"a-price a-text-price\" data-a-color=\"secondary\" data-a-size=\"b\" data-a-strike=\"true\"><span class=\"a-offscreen\">₹10,999</span><span aria-hidden=\"true\">₹10,999</span></span> </a> <span class=\"a-letter-space\"></span><span>Save ₹2,000 (18%)</span><span class=\"a-letter-space\"></span></div></div><div class=\"a-section a-spacing-none a-spacing-top-micro\"><div class=\"a-row a-size-base a-color-secondary s-align-children-center\"><span aria-label=\"FREE Delivery by Amazon\"><span>FREE Delivery by Amazon</span></span></div><div class=\"a-row a-size-base a-color-secondary\"><span aria-label=\"In stock on September 6, 2021.\"><span class=\"a-size-small\">In stock on September 6, 2021.</span></span></div></div></div></div><div class=\"sg-col sg-col-4-of-12 sg-col-4-of-16 sg-col-8-of-20\"><div class=\"sg-col-inner\"></div></div></div></div></div></div></div></div></div>\n",
       "</span>\n",
       "</div></div>"
      ]
     },
     "execution_count": 237,
     "metadata": {},
     "output_type": "execute_result"
    }
   ],
   "source": [
    "results[0]"
   ]
  },
  {
   "cell_type": "code",
   "execution_count": 238,
   "id": "ba6b8e1f",
   "metadata": {},
   "outputs": [
    {
     "name": "stdout",
     "output_type": "stream",
     "text": [
      "Redmi 9 (Sky Blue, 4GB RAM, 64GB Storage) | 2.3GHz Mediatek Helio G35 Octa core Processor\n",
      "None\n"
     ]
    }
   ],
   "source": [
    "itemx = results[0]\n",
    "product_name = itemx.h2.a.span\n",
    "print(product_name.text)\n",
    "############ remove from list\n",
    "sponsored = itemx.find('span',{'aria-label':\"Amazon's Choice\"})\n",
    "print(sponsored)\n",
    "\n",
    "hover_sponsored =itemx.find('span', {'class':'s-label-popover-hover'})\n"
   ]
  },
  {
   "cell_type": "code",
   "execution_count": 239,
   "id": "1d4ca0e9",
   "metadata": {},
   "outputs": [
    {
     "data": {
      "text/plain": [
       "'15,990'"
      ]
     },
     "execution_count": 239,
     "metadata": {},
     "output_type": "execute_result"
    }
   ],
   "source": [
    "product_price = item.find('a', {'class':'a-size-base a-link-normal a-text-normal'})\n",
    "discounted_and_actual_wrong = product_price.text.split(' ', 1)\n",
    "unwanted_discounted = discounted_and_actual_wrong[0].split('₹')\n",
    "discounted = unwanted_discounted[1]\n",
    "unwanted_actual = discounted_and_actual_wrong[1].split('₹')\n",
    "actual = unwanted_actual[1]\n",
    "actual"
   ]
  },
  {
   "cell_type": "code",
   "execution_count": 242,
   "id": "4c8b8ba1",
   "metadata": {},
   "outputs": [
    {
     "ename": "IndentationError",
     "evalue": "unexpected indent (Temp/ipykernel_8336/3327395865.py, line 63)",
     "output_type": "error",
     "traceback": [
      "\u001b[1;36m  File \u001b[1;32m\"C:\\Users\\yavsv\\AppData\\Local\\Temp/ipykernel_8336/3327395865.py\"\u001b[1;36m, line \u001b[1;32m63\u001b[0m\n\u001b[1;33m    continue\u001b[0m\n\u001b[1;37m    ^\u001b[0m\n\u001b[1;31mIndentationError\u001b[0m\u001b[1;31m:\u001b[0m unexpected indent\n"
     ]
    }
   ],
   "source": [
    "total_products_on_page = len(results)\n",
    "for i in range(total_products_on_page):\n",
    "    print(i)\n",
    "    item = results[i]\n",
    "    # check if they are sponsored or not\n",
    "    amazons_choice = item.find('span',{'aria-label':\"Amazon's Choice\"})\n",
    "    hovered_sponsor = item.find('span', {'class':'s-label-popover-hover'})\n",
    "    \n",
    "    \n",
    "    if amazons_choice is not None:\n",
    "        item_name_choice = item.h2.a.span\n",
    "        item_name_choice_text = item_name_choice.text\n",
    "        amazons_items.append(item_name_choice_text)\n",
    "        product_price = item.find('a', {'class':'a-size-base a-link-normal a-text-normal'})\n",
    "    \n",
    "        try:\n",
    "            discounted_and_actual_wrong = product_price.text.split(' ', 1)\n",
    "            unwanted_discounted = discounted_and_actual_wrong[0].split('₹')\n",
    "            discounted = unwanted_discounted[1]\n",
    "            unwanted_actual = discounted_and_actual_wrong[1].split('₹')\n",
    "            actual = unwanted_actual[1]\n",
    "            amazons_price_discount(discounted)\n",
    "            amazons_price_actual(actual)\n",
    "        except AttributeError:\n",
    "            amazons_price_discount.append('0')\n",
    "            amazons_price_actual.append('0')\n",
    "            print(\"Amazons Choice\")\n",
    "            continue\n",
    "    \n",
    "    \n",
    "    if hovered_sponsor is not None:\n",
    "        item_name_hovered = item.h2.a.span\n",
    "        item_name_hovered_text = item_name_hovered.text\n",
    "        hovered_items.append(item_name_hovered_text)\n",
    "        product_price = item.find('a', {'class':'a-size-base a-link-normal a-text-normal'})\n",
    "    \n",
    "        try:\n",
    "            discounted_and_actual_wrong = product_price.text.split(' ', 1)\n",
    "            unwanted_discounted = discounted_and_actual_wrong[0].split('₹')\n",
    "            discounted = unwanted_discounted[1]\n",
    "            unwanted_actual = discounted_and_actual_wrong[1].split('₹')\n",
    "            actual = unwanted_actual[1]\n",
    "            hovered_price_discount.append(discounted)\n",
    "            hovered_price_actual.append(actual)\n",
    "        except AttributeError:\n",
    "            hovered_price_discount.append('0')\n",
    "            hovered_price_actual.append('0')\n",
    "            print(\"Hovered Sponsor\")\n",
    "            continue\n",
    "     \n",
    "    \n",
    "    \n",
    "    try:\n",
    "        item_name = item.h2.a.span\n",
    "        device_names.append(item_name.text)\n",
    "    except AttributeError:\n",
    "        print(\"No Name\")\n",
    "    \n",
    "    product_price = item.find('a', {'class':'a-size-base a-link-normal a-text-normal'})\n",
    "    \n",
    "    \n",
    "    \n",
    "    try:\n",
    "        discounted_and_actual_wrong = product_price.text.split(' ', 1)\n",
    "        unwanted_discounted = discounted_and_actual_wrong[0].split('₹')\n",
    "        discounted = unwanted_discounted[1]\n",
    "        unwanted_actual = discounted_and_actual_wrong[1].split('₹')\n",
    "        actual = unwanted_actual[1]\n",
    "        discounted_price.append(discounted)\n",
    "        actual_price.append(actual)\n",
    "    except AttributeError:\n",
    "        discounted_price.append('0')\n",
    "        actual_price.append('0')\n",
    "\n",
    "counter = 0\n",
    "print(\"\\nThe sponsored items are as follows:--\")\n",
    "for z in hovered_items:\n",
    "    print(counter, z)\n",
    "    counter += 1\n",
    "for x in amazons_items:\n",
    "    print(counter, x)\n",
    "    counter += 1\n",
    "\n",
    "not_done = True\n",
    "while not_done:\n",
    "    \n",
    "    delete_item_idx = int(input('''Enter the index of the item you want to delete\n",
    "Enter a number less than 0 to exit'''))\n",
    "\n",
    "    if(delete_item_idx >= len(hovered_items)):\n",
    "        amazons_items.pop(delete_item_idx - len(hovered_items))\n",
    "        amazons_price_discount.pop(delete_item_idx - len(hovered_items))\n",
    "        amazons_price_actual.pop(delete_item_idx - len(hovered_items))\n",
    "    elif(delete_item_idx < len(hovered_items)):\n",
    "        hovered_items.pop(delete_item_idx)\n",
    "        hovered_price_actual.pop(delete_item_idx)\n",
    "        hovered_price_discount.pop(delete_item_idx)\n",
    "    elif(delete_item_idx < 0):\n",
    "        not_done = True\n",
    "        continue\n",
    "\n",
    "print(\"These are the remaining items. What would you like to do with them ?\")\n",
    "for z in hovered_items:\n",
    "    print(counter, z)\n",
    "    counter += 1\n",
    "for x in amazons_items:\n",
    "    print(counter, x)\n",
    "    counter += 1\n",
    "\n",
    "print(\"Type ad to add all the remaining devices to the csv file if they are not already present\")\n",
    "print(\"Type de to discard all the remaining devices\")\n",
    "user_answer = input(\"Enter your choice\")\n",
    "if(user_answer == \"ad\"):\n",
    "    for i in range(len(hovered_items)):\n",
    "        device_names.append(hovered_items[i])\n",
    "        actual_price.append(hovered_price_actual[i])\n",
    "        discounted_price.append(hovered_price_discounted[i])\n",
    "    for h in range(len(amazons_items)):\n",
    "        device_names.append(amazons_items[i])\n",
    "        actual_price.append(amazons_price_actual[i])\n",
    "        discounted_price.append(amazons_price_discount[i])"
   ]
  },
  {
   "cell_type": "code",
   "execution_count": 241,
   "id": "f2d404f9",
   "metadata": {},
   "outputs": [
    {
     "data": {
      "text/plain": [
       "[]"
      ]
     },
     "execution_count": 241,
     "metadata": {},
     "output_type": "execute_result"
    }
   ],
   "source": [
    "amazons_items"
   ]
  },
  {
   "cell_type": "code",
   "execution_count": 187,
   "id": "4c74e225",
   "metadata": {},
   "outputs": [
    {
     "data": {
      "text/plain": [
       "['12,850',\n",
       " '13,499',\n",
       " '11,999',\n",
       " '9,999',\n",
       " '8,999',\n",
       " '27,999',\n",
       " '10,999',\n",
       " '8,999',\n",
       " '11,999',\n",
       " '9,999',\n",
       " '21,999',\n",
       " '13,499',\n",
       " '21,999',\n",
       " '0',\n",
       " '1,699']"
      ]
     },
     "execution_count": 187,
     "metadata": {},
     "output_type": "execute_result"
    }
   ],
   "source": [
    "discounted_price"
   ]
  },
  {
   "cell_type": "code",
   "execution_count": 188,
   "id": "9a409893",
   "metadata": {},
   "outputs": [
    {
     "data": {
      "text/plain": [
       "['17,499',\n",
       " '16,999',\n",
       " '14,999',\n",
       " '11,999',\n",
       " '10,999',\n",
       " '33,999',\n",
       " '13,999',\n",
       " '10,999',\n",
       " '14,999',\n",
       " '11,999',\n",
       " '24,999',\n",
       " '16,999',\n",
       " '24,999',\n",
       " '0',\n",
       " '2,199']"
      ]
     },
     "execution_count": 188,
     "metadata": {},
     "output_type": "execute_result"
    }
   ],
   "source": [
    "actual_price"
   ]
  },
  {
   "cell_type": "code",
   "execution_count": 189,
   "id": "7575eee0",
   "metadata": {},
   "outputs": [
    {
     "data": {
      "text/plain": [
       "['Xiaomi Mi A2 (Gold, 4GB RAM, 64GB Storage)',\n",
       " 'Redmi 9 Power (Blazing Blue, 6GB RAM, 128GB Storage) - 6000mAh Battery |FHD+ Screen | 48MP Quad Camera | Snapdragon 662 Processor | Alexa Hands-Free Capable',\n",
       " 'Redmi Note 9 (Pebble Grey, 4GB RAM 64GB Storage) - 48MP Quad Camera & Full HD+ Display',\n",
       " 'Redmi 9 Prime (Matte Black, 4GB RAM, 64GB Storage) - Full HD+ Display & AI Quad Camera',\n",
       " 'Redmi 9 (Sky Blue, 4GB RAM, 64GB Storage) | 2.3GHz Mediatek Helio G35 Octa core Processor',\n",
       " 'Mi 11X 5G Cosmic Black 6GB RAM 128GB ROM | SD 870 | DisplayMate A+ rated E4 AMOLED',\n",
       " 'Redmi 9 Power (Mighty Black 4GB RAM 64GB Storage) - 6000mAh Battery |FHD+ Screen | 48MP Quad Camera | Alexa Hands-Free Capable',\n",
       " 'Redmi 9 (Sporty Orange, 4GB RAM, 64GB Storage) | 2.3GHz Mediatek Helio G35 Octa core Processor',\n",
       " 'Redmi Note 9 (Aqua Green, 4GB RAM, 64GB Storage) - 48MP Quad Camera & Full HD+ Display',\n",
       " 'Redmi 9 Prime (Sunrise Flare, 4GB RAM, 64GB Storage)- Full HD+ Display & AI Quad Camera',\n",
       " 'Mi 10i 5G (Atlantic Blue, 6GB RAM, 128GB Storage) - 108MP Quad Camera | Snapdragon 750G Processor',\n",
       " 'Redmi 9 Power (Mighty Black, 6GB RAM, 128GB Storage) - 6000mAh Battery |FHD+ Screen| 48MP Quad Camera | Snapdragon 662 Processor | Alexa Hands-Free Capable',\n",
       " 'Mi 10i 5G (Midnight Black, 6GB RAM, 128GB Storage) - 108MP Quad Camera | Snapdragon 750G Processor',\n",
       " 'Redmi 9 Prime (Mint Green, 4GB RAM, 64GB Storage)- Full HD+ Display & AI Quad Camera',\n",
       " 'Mi Power Bank 3i 20000mAh | 18W Fast PD Charging | Input- Type C and Micro USB| Triple Output | Sandstone Black']"
      ]
     },
     "execution_count": 189,
     "metadata": {},
     "output_type": "execute_result"
    }
   ],
   "source": [
    "device_names"
   ]
  },
  {
   "cell_type": "code",
   "execution_count": 190,
   "id": "3c5370b0",
   "metadata": {},
   "outputs": [
    {
     "data": {
      "text/plain": [
       "15"
      ]
     },
     "execution_count": 190,
     "metadata": {},
     "output_type": "execute_result"
    }
   ],
   "source": [
    "len(discounted_price)"
   ]
  },
  {
   "cell_type": "code",
   "execution_count": 191,
   "id": "17bd9ee3",
   "metadata": {},
   "outputs": [
    {
     "data": {
      "text/plain": [
       "15"
      ]
     },
     "execution_count": 191,
     "metadata": {},
     "output_type": "execute_result"
    }
   ],
   "source": [
    "len(actual_price)"
   ]
  },
  {
   "cell_type": "code",
   "execution_count": 195,
   "id": "02ef005c",
   "metadata": {},
   "outputs": [
    {
     "data": {
      "text/plain": [
       "[['Xiaomi Mi A2 (Gold, 4GB RAM, 64GB Storage)', '17,499', '12,850'],\n",
       " ['Redmi 9 Power (Blazing Blue, 6GB RAM, 128GB Storage) - 6000mAh Battery |FHD+ Screen | 48MP Quad Camera | Snapdragon 662 Processor | Alexa Hands-Free Capable',\n",
       "  '16,999',\n",
       "  '13,499'],\n",
       " ['Redmi Note 9 (Pebble Grey, 4GB RAM 64GB Storage) - 48MP Quad Camera & Full HD+ Display',\n",
       "  '14,999',\n",
       "  '11,999'],\n",
       " ['Redmi 9 Prime (Matte Black, 4GB RAM, 64GB Storage) - Full HD+ Display & AI Quad Camera',\n",
       "  '11,999',\n",
       "  '9,999'],\n",
       " ['Redmi 9 (Sky Blue, 4GB RAM, 64GB Storage) | 2.3GHz Mediatek Helio G35 Octa core Processor',\n",
       "  '10,999',\n",
       "  '8,999'],\n",
       " ['Mi 11X 5G Cosmic Black 6GB RAM 128GB ROM | SD 870 | DisplayMate A+ rated E4 AMOLED',\n",
       "  '33,999',\n",
       "  '27,999'],\n",
       " ['Redmi 9 Power (Mighty Black 4GB RAM 64GB Storage) - 6000mAh Battery |FHD+ Screen | 48MP Quad Camera | Alexa Hands-Free Capable',\n",
       "  '13,999',\n",
       "  '10,999'],\n",
       " ['Redmi 9 (Sporty Orange, 4GB RAM, 64GB Storage) | 2.3GHz Mediatek Helio G35 Octa core Processor',\n",
       "  '10,999',\n",
       "  '8,999'],\n",
       " ['Redmi Note 9 (Aqua Green, 4GB RAM, 64GB Storage) - 48MP Quad Camera & Full HD+ Display',\n",
       "  '14,999',\n",
       "  '11,999'],\n",
       " ['Redmi 9 Prime (Sunrise Flare, 4GB RAM, 64GB Storage)- Full HD+ Display & AI Quad Camera',\n",
       "  '11,999',\n",
       "  '9,999'],\n",
       " ['Mi 10i 5G (Atlantic Blue, 6GB RAM, 128GB Storage) - 108MP Quad Camera | Snapdragon 750G Processor',\n",
       "  '24,999',\n",
       "  '21,999'],\n",
       " ['Redmi 9 Power (Mighty Black, 6GB RAM, 128GB Storage) - 6000mAh Battery |FHD+ Screen| 48MP Quad Camera | Snapdragon 662 Processor | Alexa Hands-Free Capable',\n",
       "  '16,999',\n",
       "  '13,499'],\n",
       " ['Mi 10i 5G (Midnight Black, 6GB RAM, 128GB Storage) - 108MP Quad Camera | Snapdragon 750G Processor',\n",
       "  '24,999',\n",
       "  '21,999'],\n",
       " ['Redmi 9 Prime (Mint Green, 4GB RAM, 64GB Storage)- Full HD+ Display & AI Quad Camera',\n",
       "  '0',\n",
       "  '0'],\n",
       " ['Mi Power Bank 3i 20000mAh | 18W Fast PD Charging | Input- Type C and Micro USB| Triple Output | Sandstone Black',\n",
       "  '2,199',\n",
       "  '1,699']]"
      ]
     },
     "execution_count": 195,
     "metadata": {},
     "output_type": "execute_result"
    }
   ],
   "source": [
    "temp_list = []\n",
    "records_to_write = []\n",
    "for i in range(len(device_names)):\n",
    "    records_to_write.append([device_names[i], actual_price[i], discounted_price[i]])\n",
    "records_to_write"
   ]
  },
  {
   "cell_type": "code",
   "execution_count": 203,
   "id": "9598e206",
   "metadata": {},
   "outputs": [],
   "source": [
    "if (os.path.isfile('Amazon.csv')):\n",
    "    with open(\"Amazon.csv\", 'a', newline='') as file_write:\n",
    "        writer = csv.writer(file_write)\n",
    "        for i in range(len(device_names)):\n",
    "            temp_list.append(device_names[i])\n",
    "            temp_list.append(actual_price[i])\n",
    "            temp_list.append(discounted_price[i])\n",
    "            writer.writerow(temp_list)\n",
    "            temp_list = []\n",
    "else:\n",
    "    fields = ['Name', 'Actual', 'Discounted']\n",
    "    with open('Amazon.csv', 'w', newline='') as file:\n",
    "        writer = csv.writer(file)\n",
    "        writer.writerow(fields)\n",
    "        for i in range(len(device_names)):\n",
    "            temp_list.append(device_names[i])\n",
    "            temp_list.append(actual_price[i])\n",
    "            temp_list.append(discounted_price[i])\n",
    "            writer.writerow(temp_list)\n",
    "            temp_list = []"
   ]
  },
  {
   "cell_type": "code",
   "execution_count": null,
   "id": "1c4f158e",
   "metadata": {},
   "outputs": [],
   "source": []
  }
 ],
 "metadata": {
  "kernelspec": {
   "display_name": "Python 3 (ipykernel)",
   "language": "python",
   "name": "python3"
  },
  "language_info": {
   "codemirror_mode": {
    "name": "ipython",
    "version": 3
   },
   "file_extension": ".py",
   "mimetype": "text/x-python",
   "name": "python",
   "nbconvert_exporter": "python",
   "pygments_lexer": "ipython3",
   "version": "3.9.6"
  }
 },
 "nbformat": 4,
 "nbformat_minor": 5
}
