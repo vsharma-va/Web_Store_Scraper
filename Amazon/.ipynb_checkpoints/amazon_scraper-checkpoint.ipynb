{
 "cells": [
  {
   "cell_type": "code",
   "execution_count": 160,
   "id": "b437d0ef",
   "metadata": {},
   "outputs": [],
   "source": [
    "import csv\n",
    "import random\n",
    "import time\n",
    "import os\n",
    "from bs4 import BeautifulSoup"
   ]
  },
  {
   "cell_type": "code",
   "execution_count": 161,
   "id": "bf77030c",
   "metadata": {
    "scrolled": true
   },
   "outputs": [],
   "source": [
    "from selenium import webdriver\n",
    "from selenium.webdriver.common.keys import Keys\n",
    "from selenium.webdriver.common.by import By\n",
    "from selenium.webdriver.support.ui import WebDriverWait\n",
    "from selenium.webdriver.support import expected_conditions as EC"
   ]
  },
  {
   "cell_type": "code",
   "execution_count": 162,
   "id": "953a40bc",
   "metadata": {},
   "outputs": [],
   "source": [
    "driver = webdriver.Firefox(executable_path=\"../Resources/geckodriver.exe\")"
   ]
  },
  {
   "cell_type": "code",
   "execution_count": 163,
   "id": "b2e73bb6",
   "metadata": {},
   "outputs": [],
   "source": [
    "url = \"https://www.amazon.in\"\n",
    "driver.get(url)"
   ]
  },
  {
   "cell_type": "code",
   "execution_count": 164,
   "id": "c3d370ec",
   "metadata": {},
   "outputs": [],
   "source": [
    "def create_url(search_item):\n",
    "    template = \"https://www.amazon.in/s?k={}&ref=nb_sb_noss_2\"\n",
    "    item = search_item.replace(' ', '+')\n",
    "    url = template.format(item)\n",
    "    return url\n",
    "\n",
    "search = \"Xiaomi\"\n",
    "driver.get(create_url(search))"
   ]
  },
  {
   "cell_type": "code",
   "execution_count": 165,
   "id": "2651c615",
   "metadata": {},
   "outputs": [],
   "source": [
    "soup = BeautifulSoup(driver.page_source, 'html.parser')\n",
    "results = soup.find_all('div', {'data-component-type' : 's-search-result'})\n",
    "\n",
    "actual_price = []\n",
    "discounted_price = []\n",
    "device_names = []\n",
    "hovered_items = []\n",
    "hovered_price_actual = []\n",
    "hovered_price_discount = []\n",
    "amazons_items = []\n",
    "amazons_price_actual = []\n",
    "amazons_price_discount = []"
   ]
  },
  {
   "cell_type": "code",
   "execution_count": 166,
   "id": "b1e84d08",
   "metadata": {
    "scrolled": true
   },
   "outputs": [
    {
     "data": {
      "text/plain": [
       "<div class=\"s-result-item s-asin sg-col-0-of-12 sg-col-16-of-20 sg-col sg-col-12-of-16\" data-asin=\"B08697N43N\" data-cel-widget=\"search_result_2\" data-component-id=\"35\" data-component-type=\"s-search-result\" data-index=\"8\" data-uuid=\"8d7141fc-5dba-4ec7-97b2-88df45301687\"><div class=\"sg-col-inner\">\n",
       "<span cel_widget_id=\"MAIN-SEARCH_RESULTS-8\" class=\"celwidget slot=MAIN template=SEARCH_RESULTS widgetId=search-results_1\" data-cel-widget=\"MAIN-SEARCH_RESULTS-8\" data-csa-c-id=\"hzs9g8-8fj2ib-2jloxs-pdcl96\">\n",
       "<div class=\"s-expand-height s-include-content-margin s-latency-cf-section s-border-bottom\"><div class=\"a-section a-spacing-medium\"><div class=\"sg-row\"><div class=\"a-section a-spacing-micro s-min-height-small\"><a class=\"a-link-normal\" href=\"/gp/bestsellers/electronics/ref=sr_bs_0_electronics_1\"><span class=\"rush-component\" data-component-id=\"1\" data-component-props='{\"badgeType\":\"best-seller\",\"asin\":\"B08697N43N\"}' data-component-type=\"s-status-badge-component\"><div class=\"a-row a-badge-region\"><span aria-labelledby=\"B08697N43N-best-seller-label B08697N43N-best-seller-supplementary\" class=\"a-badge\" data-a-badge-supplementary-position=\"right\" data-a-badge-type=\"status\" id=\"B08697N43N-best-seller\" tabindex=\"0\"><span aria-hidden=\"true\" class=\"a-badge-label\" data-a-badge-color=\"sx-orange\" id=\"B08697N43N-best-seller-label\"><span class=\"a-badge-label-inner a-text-ellipsis\"><span class=\"a-badge-text\" data-a-badge-color=\"sx-cloud\">Best seller</span></span></span><span aria-hidden=\"true\" class=\"a-badge-supplementary-text a-text-ellipsis\" id=\"B08697N43N-best-seller-supplementary\">in Electronics</span></span></div></span> </a> </div></div><div class=\"sg-row\"><div class=\"sg-col sg-col-4-of-12 sg-col-4-of-16 sg-col-4-of-20\"><div class=\"sg-col-inner\"><div class=\"a-section a-spacing-none\"><span class=\"rush-component\" data-component-id=\"2\" data-component-type=\"s-product-image\"><a class=\"a-link-normal s-no-outline\" href=\"/Redmi-Sky-Blue-64GB-Storage/dp/B08697N43N/ref=sr_1_1?dchild=1&amp;keywords=Xiaomi&amp;qid=1630243991&amp;sr=8-1\" target=\"_blank\"><div class=\"a-section aok-relative s-image-fixed-height\"><img alt=\"Redmi 9 (Sky Blue, 4GB RAM, 64GB Storage) | 2.3GHz Mediatek Helio G35 Octa core Processor\" class=\"s-image\" data-image-index=\"1\" data-image-latency=\"s-product-image\" data-image-load=\"\" data-image-source-density=\"1\" src=\"https://m.media-amazon.com/images/I/71A9Vo1BatL._AC_UY218_.jpg\" srcset=\"https://m.media-amazon.com/images/I/71A9Vo1BatL._AC_UY218_.jpg 1x, https://m.media-amazon.com/images/I/71A9Vo1BatL._AC_UY327_QL65_.jpg 1.5x, https://m.media-amazon.com/images/I/71A9Vo1BatL._AC_UY436_QL65_.jpg 2x, https://m.media-amazon.com/images/I/71A9Vo1BatL._AC_UY545_QL65_.jpg 2.5x, https://m.media-amazon.com/images/I/71A9Vo1BatL._AC_UY654_QL65_.jpg 3x\"/></div></a></span></div></div></div><div class=\"sg-col sg-col-4-of-12 sg-col-8-of-16 sg-col-12-of-20\"><div class=\"sg-col-inner\"><div class=\"a-section a-spacing-none\"><div class=\"a-section a-spacing-none\"><h2 class=\"a-size-mini a-spacing-none a-color-base s-line-clamp-2\"><a class=\"a-link-normal a-text-normal\" href=\"/Redmi-Sky-Blue-64GB-Storage/dp/B08697N43N/ref=sr_1_1?dchild=1&amp;keywords=Xiaomi&amp;qid=1630243991&amp;sr=8-1\" target=\"_blank\"><span class=\"a-size-medium a-color-base a-text-normal\">Redmi 9 (Sky Blue, 4GB RAM, 64GB Storage) | 2.3GHz Mediatek Helio G35 Octa core Processor</span> </a> </h2></div><div class=\"a-section a-spacing-none a-spacing-top-micro\"><div class=\"a-row a-size-small\"><span aria-label=\"4.2 out of 5 stars\"><span class=\"a-declarative\" data-a-popover='{\"closeButton\":false,\"closeButtonLabel\":\"\",\"position\":\"triggerBottom\",\"popoverLabel\":\"\",\"url\":\"/review/widgets/average-customer-review/popover/ref=acr_search__popover?ie=UTF8&amp;asin=B08697N43N&amp;ref=acr_search__popover&amp;contextId=search\"}' data-action=\"a-popover\"><a class=\"a-popover-trigger a-declarative\" href=\"javascript:void(0)\" role=\"button\"><i class=\"a-icon a-icon-star-small a-star-small-4 aok-align-bottom\"><span class=\"a-icon-alt\">4.2 out of 5 stars</span></i><i class=\"a-icon a-icon-popover\"></i></a></span> </span><span aria-label=\"83,401\"><a class=\"a-link-normal\" href=\"/Redmi-Sky-Blue-64GB-Storage/dp/B08697N43N/ref=sr_1_1?dchild=1&amp;keywords=Xiaomi&amp;qid=1630243991&amp;sr=8-1#customerReviews\" target=\"_blank\"><span class=\"a-size-base\">83,401</span> </a> </span></div></div><div class=\"sg-row\"><div class=\"sg-col sg-col-4-of-12 sg-col-4-of-16 sg-col-4-of-20\"><div class=\"sg-col-inner\"><div class=\"a-section a-spacing-none a-spacing-top-small\"><div class=\"a-row a-size-base a-color-base\"><a class=\"a-size-mini a-link-normal a-text-normal\" href=\"/Redmi-Sky-Blue-64GB-Storage/dp/B08697N43N/ref=sr_1_1?dchild=1&amp;keywords=Xiaomi&amp;qid=1630243991&amp;sr=8-1\" target=\"_blank\"><span class=\"a-price\" data-a-color=\"price\" data-a-size=\"l\"><span class=\"a-offscreen\">₹8,999</span><span aria-hidden=\"true\"><span class=\"a-price-symbol\">₹</span><span class=\"a-price-whole\">8,999</span></span></span> <span class=\"a-price a-text-price\" data-a-color=\"secondary\" data-a-size=\"b\" data-a-strike=\"true\"><span class=\"a-offscreen\">₹10,999</span><span aria-hidden=\"true\">₹10,999</span></span> </a> <span class=\"a-letter-space\"></span><span>Save ₹2,000 (18%)</span><span class=\"a-letter-space\"></span></div></div><div class=\"a-section a-spacing-none a-spacing-top-micro\"><div class=\"a-row a-size-base a-color-secondary s-align-children-center\"><span aria-label=\"FREE Delivery by Amazon\"><span>FREE Delivery by Amazon</span></span></div><div class=\"a-row a-size-base a-color-secondary\"><span aria-label=\"In stock on October 5, 2021.\"><span class=\"a-size-small\">In stock on October 5, 2021.</span></span></div></div></div></div><div class=\"sg-col sg-col-4-of-12 sg-col-4-of-16 sg-col-8-of-20\"><div class=\"sg-col-inner\"></div></div></div></div></div></div></div></div></div>\n",
       "</span>\n",
       "</div></div>"
      ]
     },
     "execution_count": 166,
     "metadata": {},
     "output_type": "execute_result"
    }
   ],
   "source": [
    "results[0]"
   ]
  },
  {
   "cell_type": "code",
   "execution_count": 167,
   "id": "785b23bc",
   "metadata": {},
   "outputs": [
    {
     "name": "stdout",
     "output_type": "stream",
     "text": [
      "Redmi 9 (Sky Blue, 4GB RAM, 64GB Storage) | 2.3GHz Mediatek Helio G35 Octa core Processor\n",
      "None\n"
     ]
    }
   ],
   "source": [
    "itemx = results[0]\n",
    "product_name = itemx.h2.a.span\n",
    "print(product_name.text)\n",
    "############ remove from list\n",
    "sponsored = itemx.find('span',{'aria-label':\"Amazon's Choice\"})\n",
    "print(sponsored)\n",
    "\n",
    "hover_sponsored =itemx.find('span', {'class':'s-label-popover-hover'})\n"
   ]
  },
  {
   "cell_type": "code",
   "execution_count": 159,
   "id": "33c0f80f",
   "metadata": {},
   "outputs": [
    {
     "name": "stdout",
     "output_type": "stream",
     "text": [
      "[None, 'https://www.amazon.in/Mi-A2-Black-64GB-Storage/dp/B077PW9VBW/ref=sr_1_1?dchild=1&keywords=Xiaomi&qid=1630242521&sr=8-1', 'javascript:void(0)', 'https://www.amazon.in/Mi-A2-Black-64GB-Storage/dp/B077PW9VBW/ref=sr_1_1?dchild=1&keywords=Xiaomi&qid=1630242521&sr=8-1#customerReviews', 'https://www.amazon.in/Mi-A2-Gold-64GB-Storage/dp/B07DJHWT5V/ref=sr_1_2?dchild=1&keywords=Xiaomi&qid=1630242521&sr=8-2', 'javascript:void(0)', 'https://www.amazon.in/Mi-A2-Gold-64GB-Storage/dp/B07DJHWT5V/ref=sr_1_2?dchild=1&keywords=Xiaomi&qid=1630242521&sr=8-2#customerReviews', 'https://www.amazon.in/Test-Exclusive-673/dp/B07HGLBZ9K/ref=sr_1_3?dchild=1&keywords=Xiaomi&qid=1630242521&sr=8-3', 'javascript:void(0)', 'https://www.amazon.in/Test-Exclusive-673/dp/B07HGLBZ9K/ref=sr_1_3?dchild=1&keywords=Xiaomi&qid=1630242521&sr=8-3#customerReviews', 'https://www.amazon.in/Test-Exclusive_2020_1135-Multi-3GB-Storage/dp/B089MS8WGP/ref=sr_1_4?dchild=1&keywords=Xiaomi&qid=1630242521&sr=8-4', 'javascript:void(0)', 'https://www.amazon.in/Test-Exclusive_2020_1135-Multi-3GB-Storage/dp/B089MS8WGP/ref=sr_1_4?dchild=1&keywords=Xiaomi&qid=1630242521&sr=8-4#customerReviews', 'https://www.amazon.in/Redmi-Note-Pebble-Grey-Storage/dp/B086977TR6/ref=sr_1_5?dchild=1&keywords=Xiaomi&qid=1630242521&sr=8-5', 'javascript:void(0)', 'https://www.amazon.in/Redmi-Note-Pebble-Grey-Storage/dp/B086977TR6/ref=sr_1_5?dchild=1&keywords=Xiaomi&qid=1630242521&sr=8-5#customerReviews', 'https://www.amazon.in/Redmi-Prime-Matte-Black-Storage/dp/B086982VLG/ref=sr_1_6?dchild=1&keywords=Xiaomi&qid=1630242521&sr=8-6', 'javascript:void(0)', 'https://www.amazon.in/Redmi-Prime-Matte-Black-Storage/dp/B086982VLG/ref=sr_1_6?dchild=1&keywords=Xiaomi&qid=1630242521&sr=8-6#customerReviews', 'https://www.amazon.in/Test-Exclusive_2020_1130-Multi-3GB-Storage/dp/B089MS9SSD/ref=sr_1_7?dchild=1&keywords=Xiaomi&qid=1630242521&sr=8-7', 'javascript:void(0)', 'https://www.amazon.in/Test-Exclusive_2020_1130-Multi-3GB-Storage/dp/B089MS9SSD/ref=sr_1_7?dchild=1&keywords=Xiaomi&qid=1630242521&sr=8-7#customerReviews', 'https://www.amazon.in/11X-Cosmic-Black-128GB-Storage/dp/B085J1QWFV/ref=sr_1_8?dchild=1&keywords=Xiaomi&qid=1630242521&sr=8-8', 'javascript:void(0)', 'https://www.amazon.in/11X-Cosmic-Black-128GB-Storage/dp/B085J1QWFV/ref=sr_1_8?dchild=1&keywords=Xiaomi&qid=1630242521&sr=8-8#customerReviews', 'https://www.amazon.in/gp/offer-listing/B085J1QWFV/ref=sr_1_8_olp?dchild=1&keywords=Xiaomi&qid=1630242521&sr=8-8', 'https://www.amazon.in/gp/slredirect/picassoRedirect.html/ref=pa_sp_mtf_aps_sr_pg1_1?ie=UTF8&adId=A02420791E5Z00INYCEE4&url=%2FSamsung-Charcoal-Storage-sAMOLED-Replacement%2Fdp%2FB098NFJXXL%2Fref%3Dsr_1_9_sspa%3Fdchild%3D1%26keywords%3DXiaomi%26qid%3D1630242521%26sr%3D8-9-spons%26psc%3D1&qualifier=1630242521&id=5934638530334430&widgetName=sp_mtf', 'javascript:void(0)', 'https://www.amazon.in/s?k=Xiaomi&dchild=1&qid=1630242473&sr=8-1#', 'javascript:void(0)', 'https://www.amazon.in/gp/slredirect/picassoRedirect.html/ref=pa_sp_mtf_aps_sr_pg1_1?ie=UTF8&adId=A02420791E5Z00INYCEE4&url=%2FSamsung-Charcoal-Storage-sAMOLED-Replacement%2Fdp%2FB098NFJXXL%2Fref%3Dsr_1_9_sspa%3Fdchild%3D1%26keywords%3DXiaomi%26qid%3D1630242521%26sr%3D8-9-spons%26psc%3D1&qualifier=1630242521&id=5934638530334430&widgetName=sp_mtf#customerReviews', 'https://www.amazon.in/gp/slredirect/picassoRedirect.html/ref=pa_sp_mtf_aps_sr_pg1_1?ie=UTF8&adId=A0376290EP9GPZI3V8HJ&url=%2FMi11XPro-Cosmic-Black-256GB-Storage%2Fdp%2FB085J19DPB%2Fref%3Dsr_1_10_sspa%3Fdchild%3D1%26keywords%3DXiaomi%26qid%3D1630242521%26sr%3D8-10-spons%26psc%3D1&qualifier=1630242521&id=5934638530334430&widgetName=sp_mtf', 'javascript:void(0)', 'https://www.amazon.in/s?k=Xiaomi&dchild=1&qid=1630242473&sr=8-1#', 'javascript:void(0)', 'https://www.amazon.in/gp/slredirect/picassoRedirect.html/ref=pa_sp_mtf_aps_sr_pg1_1?ie=UTF8&adId=A0376290EP9GPZI3V8HJ&url=%2FMi11XPro-Cosmic-Black-256GB-Storage%2Fdp%2FB085J19DPB%2Fref%3Dsr_1_10_sspa%3Fdchild%3D1%26keywords%3DXiaomi%26qid%3D1630242521%26sr%3D8-10-spons%26psc%3D1&qualifier=1630242521&id=5934638530334430&widgetName=sp_mtf#customerReviews', 'https://www.amazon.in/Test-Exclusive_2020_1138-Multi-3GB-Storage/dp/B089MTR9JW/ref=sr_1_11?dchild=1&keywords=Xiaomi&qid=1630242521&sr=8-11', 'javascript:void(0)', 'https://www.amazon.in/Test-Exclusive_2020_1138-Multi-3GB-Storage/dp/B089MTR9JW/ref=sr_1_11?dchild=1&keywords=Xiaomi&qid=1630242521&sr=8-11#customerReviews', 'https://www.amazon.in/Test-Exclusive_2020_1112-Multi-3GB-Storage/dp/B089MS7D8F/ref=sr_1_12?dchild=1&keywords=Xiaomi&qid=1630242521&sr=8-12', 'javascript:void(0)', 'https://www.amazon.in/Test-Exclusive_2020_1112-Multi-3GB-Storage/dp/B089MS7D8F/ref=sr_1_12?dchild=1&keywords=Xiaomi&qid=1630242521&sr=8-12#customerReviews', 'https://www.amazon.in/Redmi-Note-Aqua-Green-Storage/dp/B08695YMYC/ref=sr_1_13?dchild=1&keywords=Xiaomi&qid=1630242521&sr=8-13', 'javascript:void(0)', 'https://www.amazon.in/Redmi-Note-Aqua-Green-Storage/dp/B08695YMYC/ref=sr_1_13?dchild=1&keywords=Xiaomi&qid=1630242521&sr=8-13#customerReviews', 'https://www.amazon.in/Redmi-Prime-Sunrise-Storage-Display/dp/B08697WT79/ref=sr_1_14?dchild=1&keywords=Xiaomi&qid=1630242521&sr=8-14', 'javascript:void(0)', 'https://www.amazon.in/Redmi-Prime-Sunrise-Storage-Display/dp/B08697WT79/ref=sr_1_14?dchild=1&keywords=Xiaomi&qid=1630242521&sr=8-14#customerReviews', 'https://www.amazon.in/Test-Exclusive_2020_1127-Multi-3GB-Storage/dp/B089MS8WGB/ref=sr_1_15?dchild=1&keywords=Xiaomi&qid=1630242521&sr=8-15', 'javascript:void(0)', 'https://www.amazon.in/Test-Exclusive_2020_1127-Multi-3GB-Storage/dp/B089MS8WGB/ref=sr_1_15?dchild=1&keywords=Xiaomi&qid=1630242521&sr=8-15#customerReviews', 'https://www.amazon.in/Test-Exclusive_2020_1128-Multi-3GB-Storage/dp/B089MVC437/ref=sr_1_16?dchild=1&keywords=Xiaomi&qid=1630242521&sr=8-16', 'javascript:void(0)', 'https://www.amazon.in/Test-Exclusive_2020_1128-Multi-3GB-Storage/dp/B089MVC437/ref=sr_1_16?dchild=1&keywords=Xiaomi&qid=1630242521&sr=8-16#customerReviews', 'https://www.amazon.in/20000mAh-Sandstone-Triple-Charging-Delivery/dp/B08HV83HL3/ref=sr_1_17?dchild=1&keywords=Xiaomi&qid=1630242521&sr=8-17', 'javascript:void(0)', 'https://www.amazon.in/20000mAh-Sandstone-Triple-Charging-Delivery/dp/B08HV83HL3/ref=sr_1_17?dchild=1&keywords=Xiaomi&qid=1630242521&sr=8-17#customerReviews', 'https://www.amazon.in/Redmi-Prime-Storage-Display-Camera/dp/B08696XM8J/ref=sr_1_18?dchild=1&keywords=Xiaomi&qid=1630242521&sr=8-18', 'javascript:void(0)', 'https://www.amazon.in/Redmi-Prime-Storage-Display-Camera/dp/B08696XM8J/ref=sr_1_18?dchild=1&keywords=Xiaomi&qid=1630242521&sr=8-18#customerReviews', 'https://www.amazon.in/gp/slredirect/picassoRedirect.html/ref=pa_sp_btf_aps_sr_pg1_1?ie=UTF8&adId=A08010832YCD2BFU3D0TQ&url=%2FTecno-POVA-Storage-7000mAh-Battery%2Fdp%2FB09B42DJGW%2Fref%3Dsr_1_19_sspa%3Fdchild%3D1%26keywords%3DXiaomi%26qid%3D1630242521%26sr%3D8-19-spons%26psc%3D1&qualifier=1630242521&id=5934638530334430&widgetName=sp_btf', 'javascript:void(0)', 'https://www.amazon.in/s?k=Xiaomi&dchild=1&qid=1630242473&sr=8-1#', 'javascript:void(0)', 'https://www.amazon.in/gp/slredirect/picassoRedirect.html/ref=pa_sp_btf_aps_sr_pg1_1?ie=UTF8&adId=A08010832YCD2BFU3D0TQ&url=%2FTecno-POVA-Storage-7000mAh-Battery%2Fdp%2FB09B42DJGW%2Fref%3Dsr_1_19_sspa%3Fdchild%3D1%26keywords%3DXiaomi%26qid%3D1630242521%26sr%3D8-19-spons%26psc%3D1&qualifier=1630242521&id=5934638530334430&widgetName=sp_btf#customerReviews', 'https://www.amazon.in/gp/slredirect/picassoRedirect.html/ref=pa_sp_btf_aps_sr_pg1_1?ie=UTF8&adId=A1016124BS2K1BEA6CEK&url=%2FVivo-V21e-8GB-RAM-128GB%2Fdp%2FB08ZMTJMLN%2Fref%3Dsr_1_20_sspa%3Fdchild%3D1%26keywords%3DXiaomi%26qid%3D1630242521%26sr%3D8-20-spons%26psc%3D1&qualifier=1630242521&id=5934638530334430&widgetName=sp_btf', 'javascript:void(0)', 'https://www.amazon.in/s?k=Xiaomi&dchild=1&qid=1630242473&sr=8-1#', 'javascript:void(0)', 'https://www.amazon.in/gp/slredirect/picassoRedirect.html/ref=pa_sp_btf_aps_sr_pg1_1?ie=UTF8&adId=A1016124BS2K1BEA6CEK&url=%2FVivo-V21e-8GB-RAM-128GB%2Fdp%2FB08ZMTJMLN%2Fref%3Dsr_1_20_sspa%3Fdchild%3D1%26keywords%3DXiaomi%26qid%3D1630242521%26sr%3D8-20-spons%26psc%3D1&qualifier=1630242521&id=5934638530334430&widgetName=sp_btf#customerReviews', 'https://www.amazon.in/gp/slredirect/picassoRedirect.html/ref=pa_sp_btf_aps_sr_pg1_1?ie=UTF8&adId=A03801291ITLRRZY1II6O&url=%2FTecno-Spark-Alps-Blue-Storage%2Fdp%2FB095GWK44S%2Fref%3Dsr_1_21_sspa%3Fdchild%3D1%26keywords%3DXiaomi%26qid%3D1630242521%26sr%3D8-21-spons%26psc%3D1&qualifier=1630242521&id=5934638530334430&widgetName=sp_btf', 'javascript:void(0)', 'https://www.amazon.in/s?k=Xiaomi&dchild=1&qid=1630242473&sr=8-1#', 'javascript:void(0)', 'https://www.amazon.in/gp/slredirect/picassoRedirect.html/ref=pa_sp_btf_aps_sr_pg1_1?ie=UTF8&adId=A03801291ITLRRZY1II6O&url=%2FTecno-Spark-Alps-Blue-Storage%2Fdp%2FB095GWK44S%2Fref%3Dsr_1_21_sspa%3Fdchild%3D1%26keywords%3DXiaomi%26qid%3D1630242521%26sr%3D8-21-spons%26psc%3D1&qualifier=1630242521&id=5934638530334430&widgetName=sp_btf#customerReviews', 'https://www.amazon.in/gp/slredirect/picassoRedirect.html/ref=pa_sp_btf_aps_sr_pg1_1?ie=UTF8&adId=A03799731F7HCFMPBMZMN&url=%2FTecno-Spark-Magnet-Black-Storage%2Fdp%2FB095H6NLB4%2Fref%3Dsr_1_22_sspa%3Fdchild%3D1%26keywords%3DXiaomi%26qid%3D1630242521%26sr%3D8-22-spons%26psc%3D1&qualifier=1630242521&id=5934638530334430&widgetName=sp_btf', 'javascript:void(0)', 'https://www.amazon.in/s?k=Xiaomi&dchild=1&qid=1630242473&sr=8-1#', 'javascript:void(0)', 'https://www.amazon.in/gp/slredirect/picassoRedirect.html/ref=pa_sp_btf_aps_sr_pg1_1?ie=UTF8&adId=A03799731F7HCFMPBMZMN&url=%2FTecno-Spark-Magnet-Black-Storage%2Fdp%2FB095H6NLB4%2Fref%3Dsr_1_22_sspa%3Fdchild%3D1%26keywords%3DXiaomi%26qid%3D1630242521%26sr%3D8-22-spons%26psc%3D1&qualifier=1630242521&id=5934638530334430&widgetName=sp_btf#customerReviews', 'https://www.amazon.in/s?k=Xiaomi&page=2&dchild=1&qid=1630242521&sr=8-1&ref=sr_pg_2', 'https://www.amazon.in/s?k=Xiaomi&page=3&dchild=1&qid=1630242521&sr=8-1&ref=sr_pg_3', 'https://www.amazon.in/s?k=Xiaomi&page=2&dchild=1&qid=1630242521&sr=8-1&ref=sr_pg_1', 'https://www.amazon.in/s?k=Xiaomi&rh=p_90%3A20912642031&dc&dchild=1&qid=1630242521&rnid=6741116031&sr=8-1&ref=sr_nr_p_90_1', 'https://www.amazon.in/s?k=Xiaomi&rh=n%3A1389432031&dc&dchild=1&qid=1630242521&rnid=3576079031&sr=8-1&ref=sr_nr_n_1', 'https://www.amazon.in/s?k=Xiaomi&rh=n%3A1389432031%2Cn%3A1805560031&dc&dchild=1&qid=1630242521&rnid=3576079031&sr=8-1&ref=sr_nr_n_2', 'https://www.amazon.in/s?k=Xiaomi&i=electronics&dc&dchild=1&qid=1630242521&sr=8-1&ref=sr_nr_i_3', 'https://www.amazon.in/s?k=Xiaomi&rh=p_72%3A1318476031&dc&dchild=1&qid=1630242521&rnid=1318475031&sr=8-1&ref=sr_nr_p_72_1', 'https://www.amazon.in/s?k=Xiaomi&rh=p_72%3A1318477031&dc&dchild=1&qid=1630242521&rnid=1318475031&sr=8-1&ref=sr_nr_p_72_2', 'https://www.amazon.in/s?k=Xiaomi&rh=p_72%3A1318478031&dc&dchild=1&qid=1630242521&rnid=1318475031&sr=8-1&ref=sr_nr_p_72_3', 'https://www.amazon.in/s?k=Xiaomi&rh=p_72%3A1318479031&dc&dchild=1&qid=1630242521&rnid=1318475031&sr=8-1&ref=sr_nr_p_72_4', 'https://www.amazon.in/s?k=Xiaomi&rh=n%3A1389432031%2Cp_89%3ARedmi&dc&dchild=1&qid=1630242521&rnid=3837712031&sr=8-1&ref=sr_nr_p_89_1', 'https://www.amazon.in/s?k=Xiaomi&rh=n%3A1389432031%2Cp_89%3AMI&dc&dchild=1&qid=1630242521&rnid=3837712031&sr=8-1&ref=sr_nr_p_89_2', 'https://www.amazon.in/s?k=Xiaomi&rh=n%3A1389432031%2Cp_89%3AXiaomi&dc&dchild=1&qid=1630242521&rnid=3837712031&sr=8-1&ref=sr_nr_p_89_3', 'https://www.amazon.in/s?k=Xiaomi&rh=n%3A976419031%2Cp_36%3A1318503031&dc&dchild=1&qid=1630242521&rnid=1318502031&sr=8-1&ref=sr_nr_p_36_1', 'https://www.amazon.in/s?k=Xiaomi&rh=n%3A976419031%2Cp_36%3A1318504031&dc&dchild=1&qid=1630242521&rnid=1318502031&sr=8-1&ref=sr_nr_p_36_2', 'https://www.amazon.in/s?k=Xiaomi&rh=n%3A976419031%2Cp_36%3A1318505031&dc&dchild=1&qid=1630242521&rnid=1318502031&sr=8-1&ref=sr_nr_p_36_3', 'https://www.amazon.in/s?k=Xiaomi&rh=n%3A976419031%2Cp_36%3A1318506031&dc&dchild=1&qid=1630242521&rnid=1318502031&sr=8-1&ref=sr_nr_p_36_4', 'https://www.amazon.in/s?k=Xiaomi&rh=n%3A976419031%2Cp_36%3A1318507031&dc&dchild=1&qid=1630242521&rnid=1318502031&sr=8-1&ref=sr_nr_p_36_5', 'https://www.amazon.in/s?k=Xiaomi&rh=n%3A1805560031%2Cp_n_feature_seven_browse-bin%3A16757455031&dc&dchild=1&qid=1630242521&rnid=8561129031&sr=8-1&ref=sr_nr_p_n_feature_seven_browse-bin_1', 'https://www.amazon.in/s?k=Xiaomi&rh=n%3A1805560031%2Cp_n_feature_seven_browse-bin%3A16757454031&dc&dchild=1&qid=1630242521&rnid=8561129031&sr=8-1&ref=sr_nr_p_n_feature_seven_browse-bin_2', 'https://www.amazon.in/s?k=Xiaomi&rh=n%3A1805560031%2Cp_n_feature_seven_browse-bin%3A8561133031&dc&dchild=1&qid=1630242521&rnid=8561129031&sr=8-1&ref=sr_nr_p_n_feature_seven_browse-bin_3', 'https://www.amazon.in/s?k=Xiaomi&rh=n%3A1805560031%2Cp_n_feature_seven_browse-bin%3A8561132031&dc&dchild=1&qid=1630242521&rnid=8561129031&sr=8-1&ref=sr_nr_p_n_feature_seven_browse-bin_4', 'https://www.amazon.in/s?k=Xiaomi&rh=n%3A1805560031%2Cp_n_feature_eight_browse-bin%3A8561114031&dc&dchild=1&qid=1630242521&rnid=8561111031&sr=8-1&ref=sr_nr_p_n_feature_eight_browse-bin_5', 'https://www.amazon.in/s?k=Xiaomi&rh=n%3A1805560031%2Cp_n_feature_eight_browse-bin%3A8561116031&dc&dchild=1&qid=1630242521&rnid=8561111031&sr=8-1&ref=sr_nr_p_n_feature_eight_browse-bin_6', 'https://www.amazon.in/s?k=Xiaomi&rh=n%3A1805560031%2Cp_n_feature_eight_browse-bin%3A8561112031&dc&dchild=1&qid=1630242521&rnid=8561111031&sr=8-1&ref=sr_nr_p_n_feature_eight_browse-bin_7', 'https://www.amazon.in/s?k=Xiaomi&rh=n%3A1805560031%2Cp_n_feature_eight_browse-bin%3A14267636031&dc&dchild=1&qid=1630242521&rnid=8561111031&sr=8-1&ref=sr_nr_p_n_feature_eight_browse-bin_8', 'https://www.amazon.in/s?k=Xiaomi&rh=n%3A1389432031%2Cp_n_operating_system_browse-bin%3A1485077031&dc&dchild=1&qid=1630242521&rnid=1485076031&sr=8-1&ref=sr_nr_p_n_operating_system_browse-bin_1', 'https://www.amazon.in/s?k=Xiaomi&rh=n%3A1389432031%2Cp_n_feature_thirteen_browse-bin%3A8561101031&dc&dchild=1&qid=1630242521&rnid=8561098031&sr=8-1&ref=sr_nr_p_n_feature_thirteen_browse-bin_4', 'https://www.amazon.in/s?k=Xiaomi&rh=n%3A1389432031%2Cp_n_feature_thirteen_browse-bin%3A8561102031&dc&dchild=1&qid=1630242521&rnid=8561098031&sr=8-1&ref=sr_nr_p_n_feature_thirteen_browse-bin_5', 'https://www.amazon.in/s?k=Xiaomi&rh=n%3A1389432031%2Cp_n_feature_three_browse-bin%3A1897963031&dc&dchild=1&qid=1630242521&rnid=1484941031&sr=8-1&ref=sr_nr_p_n_feature_three_browse-bin_1', 'https://www.amazon.in/s?k=Xiaomi&rh=n%3A1389432031%2Cp_n_feature_three_browse-bin%3A1484944031&dc&dchild=1&qid=1630242521&rnid=1484941031&sr=8-1&ref=sr_nr_p_n_feature_three_browse-bin_2', 'https://www.amazon.in/s?k=Xiaomi&rh=n%3A1389432031%2Cp_n_feature_three_browse-bin%3A1484945031&dc&dchild=1&qid=1630242521&rnid=1484941031&sr=8-1&ref=sr_nr_p_n_feature_three_browse-bin_3', 'https://www.amazon.in/s?k=Xiaomi&rh=n%3A1389432031%2Cp_n_feature_three_browse-bin%3A1897958031&dc&dchild=1&qid=1630242521&rnid=1484941031&sr=8-1&ref=sr_nr_p_n_feature_three_browse-bin_4', 'https://www.amazon.in/s?k=Xiaomi&rh=n%3A1389432031%2Cp_n_feature_three_browse-bin%3A1897966031&dc&dchild=1&qid=1630242521&rnid=1484941031&sr=8-1&ref=sr_nr_p_n_feature_three_browse-bin_5', 'https://www.amazon.in/s?k=Xiaomi&rh=n%3A1389432031%2Cp_n_feature_three_browse-bin%3A1484942031&dc&dchild=1&qid=1630242521&rnid=1484941031&sr=8-1&ref=sr_nr_p_n_feature_three_browse-bin_6', 'https://www.amazon.in/s?k=Xiaomi&rh=n%3A1389432031%2Cp_n_feature_three_browse-bin%3A1484949031&dc&dchild=1&qid=1630242521&rnid=1484941031&sr=8-1&ref=sr_nr_p_n_feature_three_browse-bin_7', 'https://www.amazon.in/s?k=Xiaomi&rh=n%3A1389432031%2Cp_n_feature_five_browse-bin%3A8561104031&dc&dchild=1&qid=1630242521&rnid=1484936031&sr=8-1&ref=sr_nr_p_n_feature_five_browse-bin_1', 'https://www.amazon.in/s?k=Xiaomi&rh=n%3A1389432031%2Cp_n_feature_five_browse-bin%3A8561106031&dc&dchild=1&qid=1630242521&rnid=1484936031&sr=8-1&ref=sr_nr_p_n_feature_five_browse-bin_2', 'https://www.amazon.in/s?k=Xiaomi&rh=n%3A1389432031%2Cp_n_feature_five_browse-bin%3A8561109031&dc&dchild=1&qid=1630242521&rnid=1484936031&sr=8-1&ref=sr_nr_p_n_feature_five_browse-bin_6', 'https://www.amazon.in/s?k=Xiaomi&rh=n%3A1389432031%2Cp_n_feature_six_browse-bin%3A6631755031&dc&dchild=1&qid=1630242521&rnid=6631751031&sr=8-1&ref=sr_nr_p_n_feature_six_browse-bin_4', 'https://www.amazon.in/s?k=Xiaomi&rh=n%3A1389432031%2Cp_n_feature_six_browse-bin%3A6631756031&dc&dchild=1&qid=1630242521&rnid=6631751031&sr=8-1&ref=sr_nr_p_n_feature_six_browse-bin_5', 'https://www.amazon.in/s?k=Xiaomi&rh=n%3A1389432031%2Cp_n_feature_eleven_browse-bin%3A21329562031&dc&dchild=1&qid=1630242521&rnid=21329560031&sr=8-1&ref=sr_nr_p_n_feature_eleven_browse-bin_2', 'https://www.amazon.in/s?k=Xiaomi&rh=n%3A1389432031%2Cp_n_feature_eleven_browse-bin%3A21329564031&dc&dchild=1&qid=1630242521&rnid=21329560031&sr=8-1&ref=sr_nr_p_n_feature_eleven_browse-bin_4', 'https://www.amazon.in/s?k=Xiaomi&rh=n%3A1389432031%2Cp_n_feature_eleven_browse-bin%3A21329565031&dc&dchild=1&qid=1630242521&rnid=21329560031&sr=8-1&ref=sr_nr_p_n_feature_eleven_browse-bin_5', 'https://www.amazon.in/s?k=Xiaomi&rh=n%3A1389432031%2Cp_n_feature_eleven_browse-bin%3A21329566031&dc&dchild=1&qid=1630242521&rnid=21329560031&sr=8-1&ref=sr_nr_p_n_feature_eleven_browse-bin_6', 'https://www.amazon.in/s?k=Xiaomi&rh=n%3A1805560031%2Cp_n_feature_nine_browse-bin%3A8561124031&dc&dchild=1&qid=1630242521&rnid=8561123031&sr=8-1&ref=sr_nr_p_n_feature_nine_browse-bin_2', 'https://www.amazon.in/s?k=Xiaomi&rh=n%3A1805560031%2Cp_n_feature_nine_browse-bin%3A8561126031&dc&dchild=1&qid=1630242521&rnid=8561123031&sr=8-1&ref=sr_nr_p_n_feature_nine_browse-bin_4', 'https://www.amazon.in/s?k=Xiaomi&rh=n%3A1805560031%2Cp_n_feature_nine_browse-bin%3A8561127031&dc&dchild=1&qid=1630242521&rnid=8561123031&sr=8-1&ref=sr_nr_p_n_feature_nine_browse-bin_5', 'https://www.amazon.in/s?k=Xiaomi&rh=n%3A1389432031%2Cp_n_size_two_browse-vebin%3A15563995031&dc&dchild=1&qid=1630242521&rnid=15563994031&sr=8-1&ref=sr_nr_p_n_size_two_browse-vebin_1', 'https://www.amazon.in/s?k=Xiaomi&rh=n%3A1389432031%2Cp_n_size_two_browse-vebin%3A15563996031&dc&dchild=1&qid=1630242521&rnid=15563994031&sr=8-1&ref=sr_nr_p_n_size_two_browse-vebin_2', 'https://www.amazon.in/s?k=Xiaomi&rh=n%3A1389432031%2Cp_n_size_two_browse-vebin%3A15563997031&dc&dchild=1&qid=1630242521&rnid=15563994031&sr=8-1&ref=sr_nr_p_n_size_two_browse-vebin_3', 'https://www.amazon.in/s?k=Xiaomi&rh=n%3A1389432031%2Cp_n_size_two_browse-vebin%3A15564007031&dc&dchild=1&qid=1630242521&rnid=15563994031&sr=8-1&ref=sr_nr_p_n_size_two_browse-vebin_13', 'https://www.amazon.in/s?k=Xiaomi&rh=n%3A1389432031%2Cp_n_size_two_browse-vebin%3A15564009031&dc&dchild=1&qid=1630242521&rnid=15563994031&sr=8-1&ref=sr_nr_p_n_size_two_browse-vebin_15', 'https://www.amazon.in/s?k=Xiaomi&rh=n%3A1805560031%2Cp_n_feature_four_browse-bin%3A9899963031&dc&dchild=1&qid=1630242521&rnid=9899957031&sr=8-1&ref=sr_nr_p_n_feature_four_browse-bin_6', 'https://www.amazon.in/s?k=Xiaomi&rh=n%3A1805560031%2Cp_n_condition-type%3A8609960031&dc&dchild=1&qid=1630242521&rnid=8609959031&sr=8-1&ref=sr_nr_p_n_condition-type_1', 'https://www.amazon.in/s?k=Xiaomi&rh=n%3A1389432031%2Cp_n_feature_fourteen_browse-bin%3A21329552031&dc&dchild=1&qid=1630242521&rnid=21345983031&sr=8-1&ref=sr_nr_p_n_feature_fourteen_browse-bin_2', 'https://www.amazon.in/s?k=Xiaomi&rh=n%3A1389432031%2Cp_n_feature_fourteen_browse-bin%3A21329554031&dc&dchild=1&qid=1630242521&rnid=21345983031&sr=8-1&ref=sr_nr_p_n_feature_fourteen_browse-bin_4', 'https://www.amazon.in/s?k=Xiaomi&rh=n%3A1389432031%2Cp_n_feature_fourteen_browse-bin%3A21329556031&dc&dchild=1&qid=1630242521&rnid=21345983031&sr=8-1&ref=sr_nr_p_n_feature_fourteen_browse-bin_6', 'https://www.amazon.in/s?k=Xiaomi&rh=n%3A1389432031%2Cp_n_feature_fourteen_browse-bin%3A21329559031&dc&dchild=1&qid=1630242521&rnid=21345983031&sr=8-1&ref=sr_nr_p_n_feature_fourteen_browse-bin_9', 'https://www.amazon.in/s?k=Xiaomi&rh=n%3A976419031%2Cp_n_pct-off-with-tax%3A2665399031&dc&dchild=1&qid=1630242521&rnid=2665398031&sr=8-1&ref=sr_nr_p_n_pct-off-with-tax_1', 'https://www.amazon.in/s?k=Xiaomi&rh=n%3A976419031%2Cp_n_pct-off-with-tax%3A2665400031&dc&dchild=1&qid=1630242521&rnid=2665398031&sr=8-1&ref=sr_nr_p_n_pct-off-with-tax_2', 'https://www.amazon.in/s?k=Xiaomi&rh=n%3A976419031%2Cp_n_pct-off-with-tax%3A2665402031&dc&dchild=1&qid=1630242521&rnid=2665398031&sr=8-1&ref=sr_nr_p_n_pct-off-with-tax_3', 'https://www.amazon.in/s?k=Xiaomi&rh=n%3A976419031%2Cp_n_pct-off-with-tax%3A2665401031&dc&dchild=1&qid=1630242521&rnid=2665398031&sr=8-1&ref=sr_nr_p_n_pct-off-with-tax_4', 'https://www.amazon.in/s?k=Xiaomi&rh=p_n_is_cod_eligible%3A4931671031&dc&dchild=1&qid=1630242521&rnid=4931670031&sr=8-1&ref=sr_nr_p_n_is_cod_eligible_1', 'https://www.amazon.in/s?k=Xiaomi&rh=p_n_availability%3A1318485031&dc&dchild=1&qid=1630242521&rnid=1318483031&sr=8-1&ref=sr_nr_p_n_availability_2']\n"
     ]
    }
   ],
   "source": [
    "link = driver.find_element_by_link_text(product_name.text)\n",
    "link.click()\n",
    "\n",
    "driver.switch_to.window(driver.window_handels[1])"
   ]
  },
  {
   "cell_type": "code",
   "execution_count": 136,
   "id": "d9cb627b",
   "metadata": {},
   "outputs": [
    {
     "data": {
      "text/plain": [
       "[<div class=\"celwidget\" data-cel-widget=\"featurebullets_feature_div\" data-csa-c-id=\"xemdi7-zbfg0-s1hz2y-r070f3\" data-feature-name=\"featurebullets\" id=\"featurebullets_feature_div\">\n",
       " <div class=\"a-section a-spacing-medium a-spacing-top-small\" id=\"feature-bullets\">\n",
       " <hr/>\n",
       " <h1 class=\"a-size-base-plus a-text-bold\">\n",
       " About this item\n",
       " </h1>\n",
       " <ul class=\"a-unordered-list a-vertical a-spacing-mini\">\n",
       " <li><span class=\"a-list-item\">\n",
       " 12MP+20MP dual rear camera and 20MP front facing camera\n",
       " \n",
       " </span></li>\n",
       " <li><span class=\"a-list-item\">\n",
       " 15.21 centimeters (5.99-inch) with 2160 x 1080 pixels resolution, 403 ppi pixel density\n",
       " \n",
       " </span></li>\n",
       " <li><span class=\"a-list-item\">\n",
       " Memory, Storage &amp; SIM: 4GB RAM | 64GB storage | Dual nano SIM with dual standby (4G+4G)\n",
       " \n",
       " </span></li>\n",
       " <li><span class=\"a-list-item\">\n",
       " Android v8.1 Oreo operating system with 2.2GHz Qualcomm Snapdragon 660 octa core processor, Adreno 512 GPU\n",
       " \n",
       " </span></li>\n",
       " <li><span class=\"a-list-item\">\n",
       " 3010mAH lithium-ion battery. Customer care: 1800 103 6286\n",
       " \n",
       " </span></li>\n",
       " <li><span class=\"a-list-item\">\n",
       " 1 year manufacturer warranty for device and 6 months manufacturer warranty for in-box accessories including batteries from the date of purchase\n",
       " \n",
       " </span></li>\n",
       " <li><span class=\"a-list-item\">\n",
       " Box also includes: Adapter, USB cable, warranty card, User guide, SIM insertion tool and Back cover\n",
       " \n",
       " </span></li>\n",
       " </ul>\n",
       " <!--  Loading EDP related metadata -->\n",
       " <div aria-live=\"polite\" class=\"a-row a-expander-container a-expander-inline-container\">\n",
       " <div aria-expanded=\"false\" class=\"a-expander-content a-expander-extend-content\" style=\"display:none\">\n",
       " <ul class=\"a-unordered-list a-vertical a-spacing-none\">\n",
       " <li><span class=\"a-list-item\">Smoother control &amp; Flagship-level performance</span></li>\n",
       " <li><span class=\"a-list-item\">Low-light photos are brighter with the 20MP lens and 4-in-1 Super Pixel, based on pixel binning technology</span></li>\n",
       " </ul>\n",
       " </div>\n",
       " <a class=\"a-expander-header a-declarative a-expander-extend-header\" data-a-expander-toggle='{\"allowLinkDefault\":true, \"expand_prompt\":\"Show More\", \"collapse_prompt\":\"Show Less\"}' data-action=\"a-expander-toggle\" href=\"javascript:void(0)\"><i class=\"a-icon a-icon-extender-expand\"></i><span class=\"a-expander-prompt\">Show More</span></a>\n",
       " </div>\n",
       " </div>\n",
       " </div>]"
      ]
     },
     "execution_count": 136,
     "metadata": {},
     "output_type": "execute_result"
    }
   ],
   "source": []
  },
  {
   "cell_type": "code",
   "execution_count": 74,
   "id": "86315af5",
   "metadata": {},
   "outputs": [
    {
     "ename": "NameError",
     "evalue": "name 'item' is not defined",
     "output_type": "error",
     "traceback": [
      "\u001b[1;31m---------------------------------------------------------------------------\u001b[0m",
      "\u001b[1;31mNameError\u001b[0m                                 Traceback (most recent call last)",
      "\u001b[1;32m~\\AppData\\Local\\Temp/ipykernel_16996/508880643.py\u001b[0m in \u001b[0;36m<module>\u001b[1;34m\u001b[0m\n\u001b[1;32m----> 1\u001b[1;33m \u001b[0mproduct_price\u001b[0m \u001b[1;33m=\u001b[0m \u001b[0mitem\u001b[0m\u001b[1;33m.\u001b[0m\u001b[0mfind\u001b[0m\u001b[1;33m(\u001b[0m\u001b[1;34m'a'\u001b[0m\u001b[1;33m,\u001b[0m \u001b[1;33m{\u001b[0m\u001b[1;34m'class'\u001b[0m\u001b[1;33m:\u001b[0m\u001b[1;34m'a-size-base a-link-normal a-text-normal'\u001b[0m\u001b[1;33m}\u001b[0m\u001b[1;33m)\u001b[0m\u001b[1;33m\u001b[0m\u001b[1;33m\u001b[0m\u001b[0m\n\u001b[0m\u001b[0;32m      2\u001b[0m \u001b[0mdiscounted_and_actual_wrong\u001b[0m \u001b[1;33m=\u001b[0m \u001b[0mproduct_price\u001b[0m\u001b[1;33m.\u001b[0m\u001b[0mtext\u001b[0m\u001b[1;33m.\u001b[0m\u001b[0msplit\u001b[0m\u001b[1;33m(\u001b[0m\u001b[1;34m' '\u001b[0m\u001b[1;33m,\u001b[0m \u001b[1;36m1\u001b[0m\u001b[1;33m)\u001b[0m\u001b[1;33m\u001b[0m\u001b[1;33m\u001b[0m\u001b[0m\n\u001b[0;32m      3\u001b[0m \u001b[0munwanted_discounted\u001b[0m \u001b[1;33m=\u001b[0m \u001b[0mdiscounted_and_actual_wrong\u001b[0m\u001b[1;33m[\u001b[0m\u001b[1;36m0\u001b[0m\u001b[1;33m]\u001b[0m\u001b[1;33m.\u001b[0m\u001b[0msplit\u001b[0m\u001b[1;33m(\u001b[0m\u001b[1;34m'₹'\u001b[0m\u001b[1;33m)\u001b[0m\u001b[1;33m\u001b[0m\u001b[1;33m\u001b[0m\u001b[0m\n\u001b[0;32m      4\u001b[0m \u001b[0mdiscounted\u001b[0m \u001b[1;33m=\u001b[0m \u001b[0munwanted_discounted\u001b[0m\u001b[1;33m[\u001b[0m\u001b[1;36m1\u001b[0m\u001b[1;33m]\u001b[0m\u001b[1;33m\u001b[0m\u001b[1;33m\u001b[0m\u001b[0m\n\u001b[0;32m      5\u001b[0m \u001b[0munwanted_actual\u001b[0m \u001b[1;33m=\u001b[0m \u001b[0mdiscounted_and_actual_wrong\u001b[0m\u001b[1;33m[\u001b[0m\u001b[1;36m1\u001b[0m\u001b[1;33m]\u001b[0m\u001b[1;33m.\u001b[0m\u001b[0msplit\u001b[0m\u001b[1;33m(\u001b[0m\u001b[1;34m'₹'\u001b[0m\u001b[1;33m)\u001b[0m\u001b[1;33m\u001b[0m\u001b[1;33m\u001b[0m\u001b[0m\n",
      "\u001b[1;31mNameError\u001b[0m: name 'item' is not defined"
     ]
    }
   ],
   "source": [
    "product_price = item.find('a', {'class':'a-size-base a-link-normal a-text-normal'})\n",
    "discounted_and_actual_wrong = product_price.text.split(' ', 1)\n",
    "unwanted_discounted = discounted_and_actual_wrong[0].split('₹')\n",
    "discounted = unwanted_discounted[1]\n",
    "unwanted_actual = discounted_and_actual_wrong[1].split('₹')\n",
    "actual = unwanted_actual[1]\n",
    "actual"
   ]
  },
  {
   "cell_type": "code",
   "execution_count": null,
   "id": "5cea7a8f",
   "metadata": {
    "scrolled": false
   },
   "outputs": [],
   "source": [
    "total_products_on_page = len(results)\n",
    "for i in range(total_products_on_page):\n",
    "    print(i)\n",
    "    item = results[i]\n",
    "    # check if they are sponsored or not\n",
    "    amazons_choice = item.find('span',{'aria-label':\"Amazon's Choice\"})\n",
    "    hovered_sponsor = item.find('span', {'class':'s-label-popover-hover'})\n",
    "    \n",
    "    \n",
    "    if amazons_choice is not None:\n",
    "        item_name_choice = item.h2.a.span\n",
    "        item_name_choice_text = item_name_choice.text\n",
    "        amazons_items.append(item_name_choice_text)\n",
    "        product_price = item.find('a', {'class':'a-size-base a-link-normal a-text-normal'})\n",
    "    \n",
    "        try:\n",
    "            discounted_and_actual_wrong = product_price.text.split(' ', 1)\n",
    "            unwanted_discounted = discounted_and_actual_wrong[0].split('₹')\n",
    "            discounted = unwanted_discounted[1]\n",
    "            unwanted_actual = discounted_and_actual_wrong[1].split('₹')\n",
    "            actual = unwanted_actual[1]\n",
    "            amazons_price_discount.append(discounted)\n",
    "            amazons_price_actual.append(actual)\n",
    "        except AttributeError:\n",
    "            amazons_price_discount.append('0')\n",
    "            amazons_price_actual.append('0')\n",
    "            print(\"Amazons Choice\")\n",
    "            continue\n",
    "        continue\n",
    "    \n",
    "    \n",
    "    if hovered_sponsor is not None:\n",
    "        item_name_hovered = item.h2.a.span\n",
    "        item_name_hovered_text = item_name_hovered.text\n",
    "        hovered_items.append(item_name_hovered_text)\n",
    "        product_price = item.find('a', {'class':'a-size-base a-link-normal a-text-normal'})\n",
    "    \n",
    "        try:\n",
    "            discounted_and_actual_wrong = product_price.text.split(' ', 1)\n",
    "            unwanted_discounted = discounted_and_actual_wrong[0].split('₹')\n",
    "            discounted = unwanted_discounted[1]\n",
    "            unwanted_actual = discounted_and_actual_wrong[1].split('₹')\n",
    "            actual = unwanted_actual[1]\n",
    "            hovered_price_discount.append(discounted)\n",
    "            hovered_price_actual.append(actual)\n",
    "        except AttributeError:\n",
    "            hovered_price_discount.append('0')\n",
    "            hovered_price_actual.append('0')\n",
    "            print(\"Hovered Sponsor\")\n",
    "            continue\n",
    "        continue\n",
    "    \n",
    "    \n",
    "    try:\n",
    "        item_name = item.h2.a.span\n",
    "        device_names.append(item_name.text)\n",
    "    except AttributeError:\n",
    "        print(\"No Name\")\n",
    "    \n",
    "    product_price = item.find('a', {'class':'a-size-base a-link-normal a-text-normal'})\n",
    "    \n",
    "    \n",
    "    \n",
    "    try:\n",
    "        discounted_and_actual_wrong = product_price.text.split(' ', 1)\n",
    "        unwanted_discounted = discounted_and_actual_wrong[0].split('₹')\n",
    "        discounted = unwanted_discounted[1]\n",
    "        unwanted_actual = discounted_and_actual_wrong[1].split('₹')\n",
    "        actual = unwanted_actual[1]\n",
    "        discounted_price.append(discounted)\n",
    "        actual_price.append(actual)\n",
    "    except AttributeError:\n",
    "        discounted_price.append('0')\n",
    "        actual_price.append('0')\n",
    "\n",
    "        \n",
    "not_done = True\n",
    "while not_done:\n",
    "    counter = 0\n",
    "    print ('\\n\\n')\n",
    "    print(\"Hovered Sponsored Group->\")\n",
    "    for z in hovered_items:\n",
    "        print(counter, z)\n",
    "        counter += 1\n",
    "    counter = 0\n",
    "    print('\\n\\n')\n",
    "    print(\"Amazons Choice Group->\")\n",
    "    for x in amazons_items:\n",
    "        print(counter, x)\n",
    "        counter += 1\n",
    "    selected_group = input('''Enter the first three leters of the group you want to delete from: \n",
    "Or Enter q to exit''')\n",
    "    delete_item_idx = int(input('''Enter the index of the item you want to delete\n",
    "Or Enter an negative number to exit'''))\n",
    "    if(selected_group == \"hov\" and delete_item_idx >= 0):\n",
    "        hovered_items.pop(delete_item_idx)\n",
    "        hovered_price_discount.pop(delete_item_idx)\n",
    "        hovered_price_actual.pop(delete_item_idx)\n",
    "    elif(selected_group == \"ama\" and delete_item_idx >= 0):\n",
    "        amazons_items.pop(delete_item_idx)\n",
    "        amazons_price_actual.pop(delete_item_idx)\n",
    "        amazons_price_discount.pop(delete_item_idx)\n",
    "    elif(selected_group == \"q\" or delete_item_idx < 0):\n",
    "        not_done = False\n",
    "        continue\n",
    "    else:\n",
    "        print(\"You may have selected a group which is not present\")\n",
    "        \n",
    "        \n",
    "print(\"These are the remaining items. What would you like to do with them ?\")\n",
    "for z in hovered_items:\n",
    "    print(counter, z)\n",
    "    counter += 1\n",
    "for x in amazons_items:\n",
    "    print(counter, x)\n",
    "    counter += 1\n",
    "\n",
    "print(\"Type ad to add all the remaining devices to the csv file if they are not already present\")\n",
    "print(\"Type de to discard all the remaining devices\")\n",
    "user_answer = input(\"Enter your choice\")\n",
    "if(user_answer == \"ad\"):\n",
    "    for i in range(len(hovered_items)):\n",
    "        if(hovered_items[i] not in device_names):\n",
    "            device_names.append(hovered_items[i])\n",
    "            actual_price.append(hovered_price_actual[i])\n",
    "            discounted_price.append(hovered_price_discounted[i])\n",
    "    for h in range(len(amazons_items)):\n",
    "        if (amazons_items[i] not in device_names):\n",
    "            device_names.append(amazons_items[i])\n",
    "            actual_price.append(amazons_price_actual[i])\n",
    "            discounted_price.append(amazons_price_discount[i])"
   ]
  },
  {
   "cell_type": "code",
   "execution_count": 299,
   "id": "d4b19ba8",
   "metadata": {},
   "outputs": [
    {
     "data": {
      "text/plain": [
       "[]"
      ]
     },
     "execution_count": 299,
     "metadata": {},
     "output_type": "execute_result"
    }
   ],
   "source": [
    "amazons_items"
   ]
  },
  {
   "cell_type": "code",
   "execution_count": 300,
   "id": "db2910d8",
   "metadata": {},
   "outputs": [
    {
     "data": {
      "text/plain": [
       "['13,299',\n",
       " '12,850',\n",
       " '17,399',\n",
       " '13,499',\n",
       " '17,399',\n",
       " '11,999',\n",
       " '17,399',\n",
       " '9,999',\n",
       " '8,999',\n",
       " '0',\n",
       " '39,999',\n",
       " '0',\n",
       " '0',\n",
       " '27,999',\n",
       " '0',\n",
       " '0']"
      ]
     },
     "execution_count": 300,
     "metadata": {},
     "output_type": "execute_result"
    }
   ],
   "source": [
    "discounted_price"
   ]
  },
  {
   "cell_type": "code",
   "execution_count": 301,
   "id": "a6562acb",
   "metadata": {},
   "outputs": [
    {
     "data": {
      "text/plain": [
       "['17,499',\n",
       " '17,499',\n",
       " '17,499',\n",
       " '16,999',\n",
       " '17,499',\n",
       " '14,999',\n",
       " '17,499',\n",
       " '11,999',\n",
       " '10,999',\n",
       " '0',\n",
       " '49,999',\n",
       " '0',\n",
       " '0',\n",
       " '33,999',\n",
       " '0',\n",
       " '0']"
      ]
     },
     "execution_count": 301,
     "metadata": {},
     "output_type": "execute_result"
    }
   ],
   "source": [
    "actual_price"
   ]
  },
  {
   "cell_type": "code",
   "execution_count": 302,
   "id": "c51801a4",
   "metadata": {},
   "outputs": [
    {
     "data": {
      "text/plain": [
       "['MI Xiaomi Mi A2 (Black, 4GB RAM, 64GB Storage)',\n",
       " 'Xiaomi Mi A2 (Gold, 4GB RAM, 64GB Storage)',\n",
       " 'Xiaomi Mi A3 (Kind of Grey, 6GB RAM, 128GB Storage)',\n",
       " 'Redmi 9 Power (Blazing Blue, 6GB RAM, 128GB Storage) - 6000mAh Battery |FHD+ Screen | 48MP Quad Camera | Snapdragon 662 Processor | Alexa Hands-Free Capable',\n",
       " 'Xiaomi Mi A3 (More Than White, 6GB RAM, 128GB Storage)',\n",
       " 'Redmi Note 9 (Pebble Grey, 4GB RAM 64GB Storage) - 48MP Quad Camera & Full HD+ Display',\n",
       " 'Xiaomi Mi A3 (Not Just Blue, 6GB RAM, 128GB Storage)',\n",
       " 'Redmi 9 Prime (Matte Black, 4GB RAM, 64GB Storage) - Full HD+ Display & AI Quad Camera',\n",
       " 'Redmi 9 (Sky Blue, 4GB RAM, 64GB Storage) | 2.3GHz Mediatek Helio G35 Octa core Processor',\n",
       " 'Xiaomi Redmi 8A 3GB 32GB Phone (Midnight Black)',\n",
       " 'Mi 11X Pro 5G (Cosmic Black, 8GB RAM, 256GB Storage) | Snapdragon 888 | 108MP Camera | Additional 5000 Off on Exchange',\n",
       " 'Redmi 8A Dual (Sky White, 2GB RAM, 32GB Storage) – Dual Cameras & 5,000 mAH Battery',\n",
       " 'Redmi 8A Dual (Sea Blue, 2GB RAM, 32GB Storage) – Dual Cameras & 5,000 mAH Battery',\n",
       " 'Mi 11X 5G Cosmic Black 6GB RAM 128GB ROM | SD 870 | DisplayMate A+ rated E4 AMOLED',\n",
       " 'Redmi 8A Dual (Sea Blue, 3GB RAM, 32GB Storage) – Dual Cameras & 5,000 mAH Battery',\n",
       " 'Redmi 9 (Sporty Orange, 4GB RAM, 64GB Storage) | 2.3GHz Mediatek Helio G35 Octa core Processor']"
      ]
     },
     "execution_count": 302,
     "metadata": {},
     "output_type": "execute_result"
    }
   ],
   "source": [
    "device_names"
   ]
  },
  {
   "cell_type": "code",
   "execution_count": 303,
   "id": "3e29a67f",
   "metadata": {},
   "outputs": [
    {
     "data": {
      "text/plain": [
       "16"
      ]
     },
     "execution_count": 303,
     "metadata": {},
     "output_type": "execute_result"
    }
   ],
   "source": [
    "len(discounted_price)"
   ]
  },
  {
   "cell_type": "code",
   "execution_count": 304,
   "id": "56f9524d",
   "metadata": {},
   "outputs": [
    {
     "data": {
      "text/plain": [
       "16"
      ]
     },
     "execution_count": 304,
     "metadata": {},
     "output_type": "execute_result"
    }
   ],
   "source": [
    "len(actual_price)"
   ]
  },
  {
   "cell_type": "code",
   "execution_count": 305,
   "id": "d7c24825",
   "metadata": {},
   "outputs": [
    {
     "data": {
      "text/plain": [
       "[['MI Xiaomi Mi A2 (Black, 4GB RAM, 64GB Storage)', '17,499', '13,299'],\n",
       " ['Xiaomi Mi A2 (Gold, 4GB RAM, 64GB Storage)', '17,499', '12,850'],\n",
       " ['Xiaomi Mi A3 (Kind of Grey, 6GB RAM, 128GB Storage)', '17,499', '17,399'],\n",
       " ['Redmi 9 Power (Blazing Blue, 6GB RAM, 128GB Storage) - 6000mAh Battery |FHD+ Screen | 48MP Quad Camera | Snapdragon 662 Processor | Alexa Hands-Free Capable',\n",
       "  '16,999',\n",
       "  '13,499'],\n",
       " ['Xiaomi Mi A3 (More Than White, 6GB RAM, 128GB Storage)',\n",
       "  '17,499',\n",
       "  '17,399'],\n",
       " ['Redmi Note 9 (Pebble Grey, 4GB RAM 64GB Storage) - 48MP Quad Camera & Full HD+ Display',\n",
       "  '14,999',\n",
       "  '11,999'],\n",
       " ['Xiaomi Mi A3 (Not Just Blue, 6GB RAM, 128GB Storage)', '17,499', '17,399'],\n",
       " ['Redmi 9 Prime (Matte Black, 4GB RAM, 64GB Storage) - Full HD+ Display & AI Quad Camera',\n",
       "  '11,999',\n",
       "  '9,999'],\n",
       " ['Redmi 9 (Sky Blue, 4GB RAM, 64GB Storage) | 2.3GHz Mediatek Helio G35 Octa core Processor',\n",
       "  '10,999',\n",
       "  '8,999'],\n",
       " ['Xiaomi Redmi 8A 3GB 32GB Phone (Midnight Black)', '0', '0'],\n",
       " ['Mi 11X Pro 5G (Cosmic Black, 8GB RAM, 256GB Storage) | Snapdragon 888 | 108MP Camera | Additional 5000 Off on Exchange',\n",
       "  '49,999',\n",
       "  '39,999'],\n",
       " ['Redmi 8A Dual (Sky White, 2GB RAM, 32GB Storage) – Dual Cameras & 5,000 mAH Battery',\n",
       "  '0',\n",
       "  '0'],\n",
       " ['Redmi 8A Dual (Sea Blue, 2GB RAM, 32GB Storage) – Dual Cameras & 5,000 mAH Battery',\n",
       "  '0',\n",
       "  '0'],\n",
       " ['Mi 11X 5G Cosmic Black 6GB RAM 128GB ROM | SD 870 | DisplayMate A+ rated E4 AMOLED',\n",
       "  '33,999',\n",
       "  '27,999'],\n",
       " ['Redmi 8A Dual (Sea Blue, 3GB RAM, 32GB Storage) – Dual Cameras & 5,000 mAH Battery',\n",
       "  '0',\n",
       "  '0'],\n",
       " ['Redmi 9 (Sporty Orange, 4GB RAM, 64GB Storage) | 2.3GHz Mediatek Helio G35 Octa core Processor',\n",
       "  '0',\n",
       "  '0']]"
      ]
     },
     "execution_count": 305,
     "metadata": {},
     "output_type": "execute_result"
    }
   ],
   "source": [
    "temp_list = []\n",
    "records_to_write = []\n",
    "for i in range(len(device_names)):\n",
    "    records_to_write.append([device_names[i], actual_price[i], discounted_price[i]])\n",
    "records_to_write"
   ]
  },
  {
   "cell_type": "code",
   "execution_count": 307,
   "id": "9cba7e4d",
   "metadata": {},
   "outputs": [],
   "source": [
    "if (os.path.isfile('Amazon.csv')):\n",
    "    with open(\"Amazon.csv\", 'a', newline='') as file_write:\n",
    "        writer = csv.writer(file_write)\n",
    "        for i in range(len(device_names)):\n",
    "            temp_list.append(device_names[i])\n",
    "            temp_list.append(actual_price[i])\n",
    "            temp_list.append(discounted_price[i])\n",
    "            writer.writerow(temp_list)\n",
    "            temp_list = []\n",
    "else:\n",
    "    fields = ['Name', 'Actual', 'Discounted']\n",
    "    with open('Amazon.csv', 'w', newline='') as file:\n",
    "        writer = csv.writer(file)\n",
    "        writer.writerow(fields)\n",
    "        for i in range(len(device_names)):\n",
    "            temp_list.append(device_names[i])\n",
    "            temp_list.append(actual_price[i])\n",
    "            temp_list.append(discounted_price[i])\n",
    "            writer.writerow(temp_list)\n",
    "            temp_list = []"
   ]
  },
  {
   "cell_type": "code",
   "execution_count": 308,
   "id": "eb344bd8",
   "metadata": {},
   "outputs": [],
   "source": [
    "import csv\n",
    "import random\n",
    "import time\n",
    "import os\n",
    "import Amazon_Functions\n",
    "from bs4 import BeautifulSoup\n",
    "from selenium import webdriver\n",
    "\n",
    "\n",
    "def Create_Url(search_item):\n",
    "    template = \"https://www.amazon.in/s?k={}&ref=nb_sb_noss_2\"\n",
    "    item = search_item.replace(' ', '+')\n",
    "    url = template.format(item)\n",
    "    url += \"&page={}\"\n",
    "    return url\n",
    "\n",
    "\n",
    "def Check_Amazons_Choice(item):\n",
    "    amazons_choice = item.find('span',{'aria-label':\"Amazon's Choice\"})\n",
    "    if amazons_choice is not None:\n",
    "        return True\n",
    "    elif amazons_choice is None:\n",
    "        return False\n",
    "\n",
    "\n",
    "def check_Hovered_Sponsor(item):\n",
    "    hovered_sponsor = item.find('span', {'class':'s-label-popover-hover'})\n",
    "    if hovered_sponsor is not None:\n",
    "        return True\n",
    "    elif hovered_sponsor is None:\n",
    "        return False\n",
    "\n",
    "\n",
    "def Return_Discount_Actual_Price(item):\n",
    "    product_price = item.find('a', {'class':'a-size-base a-link-normal a-text-normal'})\n",
    "    return_list = []\n",
    "    try:\n",
    "        discounted_and_actual_wrong = product_price.text.split(' ', 1)\n",
    "        unwanted_discounted = discounted_and_actual_wrong[0].split('₹')\n",
    "        discounted = unwanted_discounted[1]\n",
    "        unwanted_actual = discounted_and_actual_wrong[1].split('₹')\n",
    "        actual = unwanted_actual[1]\n",
    "    except AttributeError:\n",
    "        discounted = 0\n",
    "        actual = 0\n",
    "    return_list.append(discounted)\n",
    "    return_list.append(actual)\n",
    "    return return_list\n",
    "\n",
    "\n",
    "def Delete_Amazon_Or_Hovered(hovered_items, hovered_price_discount, hovered_price_actual, amazons_items, amazons_price_actual, amazons_price_discount):\n",
    "    not_done = True\n",
    "    while not_done:\n",
    "        counter = 0\n",
    "        print ('\\n\\n')\n",
    "        print(\"Hovered Sponsored Group->\")\n",
    "        for z in hovered_items:\n",
    "            print(counter, z)\n",
    "            counter += 1\n",
    "        counter = 0\n",
    "        print('\\n\\n')\n",
    "        print(\"Amazons Choice Group->\")\n",
    "        for x in amazons_items:\n",
    "            print(counter, x)\n",
    "            counter += 1\n",
    "        selected_group = input('''Enter the first three leters of the group you want to delete from: \n",
    "    Or Enter q to exit''')\n",
    "        delete_item_idx = int(input('''Enter the index of the item you want to delete\n",
    "    Or Enter an negative number to exit'''))\n",
    "        if(selected_group == \"hov\" and delete_item_idx >= 0):\n",
    "            hovered_items.pop(delete_item_idx)\n",
    "            hovered_price_discount.pop(delete_item_idx)\n",
    "            hovered_price_actual.pop(delete_item_idx)\n",
    "        elif(selected_group == \"ama\" and delete_item_idx >= 0):\n",
    "            amazons_items.pop(delete_item_idx)\n",
    "            amazons_price_actual.pop(delete_item_idx)\n",
    "            amazons_price_discount.pop(delete_item_idx)\n",
    "        elif(selected_group == \"q\" or delete_item_idx < 0):\n",
    "            not_done = False\n",
    "            continue\n",
    "        else:\n",
    "            print(\"You may have selected a group which is not present\")\n",
    "\n",
    "    return ([hovered_items, hovered_price_actual, hovered_price_discount], [amazons_items, amazons_price_actual, amazons_price_discount])\n",
    "\n",
    "def Add_Amazon_Or_Hovered_Items(hovered_items, amazons_items, device_names, actual_price, discount_price, amazons_price_discount, \n",
    "amazons_price_actual, hovered_price_actual, hovered_price_discount):\n",
    "\n",
    "    counter = 0\n",
    "    print(\"These are the remaining items. What would you like to do with them ?\")\n",
    "    for z in hovered_items:\n",
    "        print(counter, z)\n",
    "        counter += 1\n",
    "    for x in amazons_items:\n",
    "        print(counter, x)\n",
    "        counter += 1\n",
    "\n",
    "    print(\"Type ad to add all the remaining devices to the csv file if they are not already present\")\n",
    "    print(\"Type de to discard all the remaining devices\")\n",
    "    user_answer = input(\"Enter your choice\")\n",
    "    if(user_answer == \"ad\"):\n",
    "        for i in range(len(hovered_items)):\n",
    "            if(hovered_items[i] not in device_names):\n",
    "                device_names.append(hovered_items[i])\n",
    "                actual_price.append(hovered_price_actual[i])\n",
    "                discount_price.append(hovered_price_discount[i])\n",
    "        for h in range(len(amazons_items)):\n",
    "            if (amazons_items[i] not in device_names):\n",
    "                device_names.append(amazons_items[i])\n",
    "                actual_price.append(amazons_price_actual[i])\n",
    "                discount_price.append(amazons_price_discount[i])\n",
    "    \n",
    "    return ([device_names, actual_price, discount_price])\n",
    "\n",
    "\n",
    "def Write_To_CSV(device_names, actual_price, discounted_price):\n",
    "    temp_list = []\n",
    "    if (os.path.isfile('Amazon.csv')):\n",
    "        with open(\"Amazon.csv\", 'a', newline='') as file_write:\n",
    "            writer = csv.writer(file_write)\n",
    "            for i in range(len(device_names)):\n",
    "                temp_list.append(device_names[i])\n",
    "                temp_list.append(actual_price[i])\n",
    "                temp_list.append(discounted_price[i])\n",
    "                writer.writerow(temp_list)\n",
    "                temp_list = []\n",
    "    else:\n",
    "        fields = ['Name', 'Actual', 'Discounted']\n",
    "        with open('Amazon.csv', 'w', newline='') as file:\n",
    "            writer = csv.writer(file)\n",
    "            writer.writerow(fields)\n",
    "            for i in range(len(device_names)):\n",
    "                temp_list.append(device_names[i])\n",
    "                temp_list.append(actual_price[i])\n",
    "                temp_list.append(discounted_price[i])\n",
    "                writer.writerow(temp_list)\n",
    "                temp_list = []"
   ]
  },
  {
   "cell_type": "code",
   "execution_count": 309,
   "id": "188be668",
   "metadata": {},
   "outputs": [
    {
     "name": "stdout",
     "output_type": "stream",
     "text": [
      "Enter the search termXiaomi\n",
      "0\n",
      "\n",
      "\n",
      "\n",
      "Hovered Sponsored Group->\n",
      "\n",
      "\n",
      "\n",
      "Amazons Choice Group->\n"
     ]
    },
    {
     "ename": "KeyboardInterrupt",
     "evalue": "Interrupted by user",
     "output_type": "error",
     "traceback": [
      "\u001b[1;31m---------------------------------------------------------------------------\u001b[0m",
      "\u001b[1;31mKeyboardInterrupt\u001b[0m                         Traceback (most recent call last)",
      "\u001b[1;32m~\\AppData\\Local\\Temp/ipykernel_8336/3559519151.py\u001b[0m in \u001b[0;36m<module>\u001b[1;34m\u001b[0m\n\u001b[0;32m     77\u001b[0m \u001b[1;33m\u001b[0m\u001b[0m\n\u001b[0;32m     78\u001b[0m \u001b[1;32mif\u001b[0m \u001b[0m__name__\u001b[0m \u001b[1;33m==\u001b[0m \u001b[1;34m'__main__'\u001b[0m\u001b[1;33m:\u001b[0m\u001b[1;33m\u001b[0m\u001b[1;33m\u001b[0m\u001b[0m\n\u001b[1;32m---> 79\u001b[1;33m     \u001b[0mmain\u001b[0m\u001b[1;33m(\u001b[0m\u001b[1;33m)\u001b[0m\u001b[1;33m\u001b[0m\u001b[1;33m\u001b[0m\u001b[0m\n\u001b[0m",
      "\u001b[1;32m~\\AppData\\Local\\Temp/ipykernel_8336/3559519151.py\u001b[0m in \u001b[0;36mmain\u001b[1;34m()\u001b[0m\n\u001b[0;32m     55\u001b[0m             \u001b[0mdiscounted_price\u001b[0m\u001b[1;33m.\u001b[0m\u001b[0mappend\u001b[0m\u001b[1;33m(\u001b[0m\u001b[0mprice\u001b[0m\u001b[1;33m[\u001b[0m\u001b[1;36m0\u001b[0m\u001b[1;33m]\u001b[0m\u001b[1;33m)\u001b[0m\u001b[1;33m\u001b[0m\u001b[1;33m\u001b[0m\u001b[0m\n\u001b[0;32m     56\u001b[0m \u001b[1;33m\u001b[0m\u001b[0m\n\u001b[1;32m---> 57\u001b[1;33m             remaining_records = Amazon_Functions.Delete_Amazon_Or_Hovered(hovered_items, hovered_price_discount, hovered_price_actual,\n\u001b[0m\u001b[0;32m     58\u001b[0m             amazons_items, amazons_price_actual, amazons_price_discount)\n\u001b[0;32m     59\u001b[0m \u001b[1;33m\u001b[0m\u001b[0m\n",
      "\u001b[1;32mF:\\IDEs\\Python Saves\\WebScraping\\Amazon_Functions.py\u001b[0m in \u001b[0;36mDelete_Amazon_Or_Hovered\u001b[1;34m(hovered_items, hovered_price_discount, hovered_price_actual, amazons_items, amazons_price_actual, amazons_price_discount)\u001b[0m\n\u001b[0;32m     64\u001b[0m             \u001b[0mprint\u001b[0m\u001b[1;33m(\u001b[0m\u001b[0mcounter\u001b[0m\u001b[1;33m,\u001b[0m \u001b[0mx\u001b[0m\u001b[1;33m)\u001b[0m\u001b[1;33m\u001b[0m\u001b[1;33m\u001b[0m\u001b[0m\n\u001b[0;32m     65\u001b[0m             \u001b[0mcounter\u001b[0m \u001b[1;33m+=\u001b[0m \u001b[1;36m1\u001b[0m\u001b[1;33m\u001b[0m\u001b[1;33m\u001b[0m\u001b[0m\n\u001b[1;32m---> 66\u001b[1;33m         selected_group = input('''Enter the first three leters of the group you want to delete from: \n\u001b[0m\u001b[0;32m     67\u001b[0m     Or Enter q to exit''')\n\u001b[0;32m     68\u001b[0m         delete_item_idx = int(input('''Enter the index of the item you want to delete\n",
      "\u001b[1;32mF:\\Anaconda\\envs\\webscraping\\lib\\site-packages\\ipykernel\\kernelbase.py\u001b[0m in \u001b[0;36mraw_input\u001b[1;34m(self, prompt)\u001b[0m\n\u001b[0;32m   1004\u001b[0m                 \u001b[1;34m\"raw_input was called, but this frontend does not support input requests.\"\u001b[0m\u001b[1;33m\u001b[0m\u001b[1;33m\u001b[0m\u001b[0m\n\u001b[0;32m   1005\u001b[0m             )\n\u001b[1;32m-> 1006\u001b[1;33m         return self._input_request(\n\u001b[0m\u001b[0;32m   1007\u001b[0m             \u001b[0mstr\u001b[0m\u001b[1;33m(\u001b[0m\u001b[0mprompt\u001b[0m\u001b[1;33m)\u001b[0m\u001b[1;33m,\u001b[0m\u001b[1;33m\u001b[0m\u001b[1;33m\u001b[0m\u001b[0m\n\u001b[0;32m   1008\u001b[0m             \u001b[0mself\u001b[0m\u001b[1;33m.\u001b[0m\u001b[0m_parent_ident\u001b[0m\u001b[1;33m[\u001b[0m\u001b[1;34m\"shell\"\u001b[0m\u001b[1;33m]\u001b[0m\u001b[1;33m,\u001b[0m\u001b[1;33m\u001b[0m\u001b[1;33m\u001b[0m\u001b[0m\n",
      "\u001b[1;32mF:\\Anaconda\\envs\\webscraping\\lib\\site-packages\\ipykernel\\kernelbase.py\u001b[0m in \u001b[0;36m_input_request\u001b[1;34m(self, prompt, ident, parent, password)\u001b[0m\n\u001b[0;32m   1049\u001b[0m             \u001b[1;32mexcept\u001b[0m \u001b[0mKeyboardInterrupt\u001b[0m\u001b[1;33m:\u001b[0m\u001b[1;33m\u001b[0m\u001b[1;33m\u001b[0m\u001b[0m\n\u001b[0;32m   1050\u001b[0m                 \u001b[1;31m# re-raise KeyboardInterrupt, to truncate traceback\u001b[0m\u001b[1;33m\u001b[0m\u001b[1;33m\u001b[0m\u001b[1;33m\u001b[0m\u001b[0m\n\u001b[1;32m-> 1051\u001b[1;33m                 \u001b[1;32mraise\u001b[0m \u001b[0mKeyboardInterrupt\u001b[0m\u001b[1;33m(\u001b[0m\u001b[1;34m\"Interrupted by user\"\u001b[0m\u001b[1;33m)\u001b[0m \u001b[1;32mfrom\u001b[0m \u001b[1;32mNone\u001b[0m\u001b[1;33m\u001b[0m\u001b[1;33m\u001b[0m\u001b[0m\n\u001b[0m\u001b[0;32m   1052\u001b[0m             \u001b[1;32mexcept\u001b[0m \u001b[0mException\u001b[0m\u001b[1;33m:\u001b[0m\u001b[1;33m\u001b[0m\u001b[1;33m\u001b[0m\u001b[0m\n\u001b[0;32m   1053\u001b[0m                 \u001b[0mself\u001b[0m\u001b[1;33m.\u001b[0m\u001b[0mlog\u001b[0m\u001b[1;33m.\u001b[0m\u001b[0mwarning\u001b[0m\u001b[1;33m(\u001b[0m\u001b[1;34m\"Invalid Message:\"\u001b[0m\u001b[1;33m,\u001b[0m \u001b[0mexc_info\u001b[0m\u001b[1;33m=\u001b[0m\u001b[1;32mTrue\u001b[0m\u001b[1;33m)\u001b[0m\u001b[1;33m\u001b[0m\u001b[1;33m\u001b[0m\u001b[0m\n",
      "\u001b[1;31mKeyboardInterrupt\u001b[0m: Interrupted by user"
     ]
    }
   ],
   "source": [
    "import Amazon_Functions\n",
    "from bs4 import BeautifulSoup\n",
    "from selenium import webdriver\n",
    "\n",
    "def main():\n",
    "    driver = webdriver.Firefox()\n",
    "    term_to_search = input(\"Enter the search term\")\n",
    "    url = Amazon_Functions.Create_Url(term_to_search)\n",
    "\n",
    "    actual_price = []\n",
    "    discounted_price = []\n",
    "    device_names = []\n",
    "    hovered_items = []\n",
    "    hovered_price_actual = []\n",
    "    hovered_price_discount = []\n",
    "    amazons_items = []\n",
    "    amazons_price_actual = []\n",
    "    amazons_price_discount = []\n",
    "\n",
    "    for page in range(1, 21):\n",
    "        driver.get(url.format(page))\n",
    "        soup = BeautifulSoup(driver.page_source, 'html.parser')\n",
    "        results = soup.find_all('div', {'data-component-type' : 's-search-result'})\n",
    "        total_products_on_page = len(results)\n",
    "        for i in range(total_products_on_page):\n",
    "            print(i)\n",
    "            item = results[i]\n",
    "\n",
    "            if (Amazon_Functions.Check_Amazons_Choice(item)):\n",
    "                item_name_choice = item.h2.a.span\n",
    "                item_name_choice_text = item_name_choice.text\n",
    "                amazons_items.append(item_name_choice_text)\n",
    "                price = Amazon_Functions.Return_Discount_Actual_Price(item)\n",
    "                actual_price.append(price[1])\n",
    "                discounted_price.append(price[0])\n",
    "                continue\n",
    "\n",
    "            if(Amazon_Functions.check_Hovered_Sponsor(item)):\n",
    "                item_name_hovered = item.h2.a.span\n",
    "                item_name_hovered_text = item_name_hovered.text\n",
    "                hovered_items.append(item_name_hovered_text)\n",
    "                price = Amazon_Functions.Return_Discount_Actual_Price(item)\n",
    "                actual_price.append(price[1])\n",
    "                discounted_price.append(price[0])\n",
    "                continue\n",
    "\n",
    "            try:\n",
    "                item_name = item.h2.a.span\n",
    "                device_names.append(item_name.text)\n",
    "            except AttributeError:\n",
    "                print(\"No Name\")\n",
    "            \n",
    "            price = Amazon_Functions.Return_Discount_Actual_Price(item)\n",
    "            actual_price.append(price[1])\n",
    "            discounted_price.append(price[0])\n",
    "            \n",
    "            remaining_records = Amazon_Functions.Delete_Amazon_Or_Hovered(hovered_items, hovered_price_discount, hovered_price_actual,\n",
    "            amazons_items, amazons_price_actual, amazons_price_discount)\n",
    "\n",
    "            hovered_items = remaining_records[0][0]\n",
    "            hovered_price_actual = remaining_records[0][1]\n",
    "            hovered_price_discount = remaining_records[0][2]\n",
    "\n",
    "            amazons_items = remaining_records[1][0]\n",
    "            amazons_price_actual = remaining_records[1][1]\n",
    "            amazons_price_discount = remaining_records[1][2]\n",
    "\n",
    "            final_records = Amazon_Functions.Add_Amazon_Or_Hovered_Items(hovered_items, amazons_items, device_names, actual_price, discount_price, amazons_price_discount, \n",
    "            amazons_price_actual, hovered_price_actual, hovered_price_discount)\n",
    "\n",
    "            device_names = final_records[0][0]\n",
    "            actual_price = final_records[0][1]\n",
    "            discounted_price = final_records[0][2]\n",
    "        \n",
    "        Amazon_Functions.Write_To_CSV(device_names, actual_price, discounted_price)\n",
    "\n",
    "\n",
    "if __name__ == '__main__':\n",
    "    main()"
   ]
  },
  {
   "cell_type": "code",
   "execution_count": null,
   "id": "086ecc3b",
   "metadata": {},
   "outputs": [],
   "source": []
  }
 ],
 "metadata": {
  "kernelspec": {
   "display_name": "Python 3 (ipykernel)",
   "language": "python",
   "name": "python3"
  },
  "language_info": {
   "codemirror_mode": {
    "name": "ipython",
    "version": 3
   },
   "file_extension": ".py",
   "mimetype": "text/x-python",
   "name": "python",
   "nbconvert_exporter": "python",
   "pygments_lexer": "ipython3",
   "version": "3.9.6"
  }
 },
 "nbformat": 4,
 "nbformat_minor": 5
}
