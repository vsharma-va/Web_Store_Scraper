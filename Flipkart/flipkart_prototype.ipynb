{
 "cells": [
  {
   "cell_type": "code",
   "execution_count": 84,
   "id": "b170d1d3",
   "metadata": {},
   "outputs": [],
   "source": [
    "import csv\n",
    "import os\n",
    "from bs4 import BeautifulSoup\n",
    "from selenium import webdriver"
   ]
  },
  {
   "cell_type": "code",
   "execution_count": 98,
   "id": "06812e4d",
   "metadata": {},
   "outputs": [],
   "source": [
    "driver = webdriver.Firefox(executable_path=r\"../Resources/geckodriver.exe\")"
   ]
  },
  {
   "cell_type": "code",
   "execution_count": 99,
   "id": "80048a4b",
   "metadata": {},
   "outputs": [],
   "source": [
    "def create_url(search_item):\n",
    "    template = \"https://www.flipkart.com/search?q={}&otracker=search&otracker1=search&marketplace=FLIPKART&as-show=on&as=off\"\n",
    "    url = template.format(search_item)\n",
    "    return url\n",
    "\n",
    "driver.get(create_url(\"Samsung\"))\n",
    "device_name = []\n",
    "device_price_actual = []\n",
    "device_price_discounted = []\n",
    "device_info = []"
   ]
  },
  {
   "cell_type": "code",
   "execution_count": 100,
   "id": "5b863542",
   "metadata": {},
   "outputs": [],
   "source": [
    "soup = BeautifulSoup(driver.page_source, 'html.parser')\n",
    "results = soup.find_all('a', {'target':'_blank'})"
   ]
  },
  {
   "cell_type": "code",
   "execution_count": 101,
   "id": "a2dd21db",
   "metadata": {},
   "outputs": [
    {
     "data": {
      "text/plain": [
       "<a href=\"/samsung-metro-313-dual-sim/p/itmebdgsvgcbg4n6?pid=MOBEBDGSFTRFYGUP&amp;marketplace=FLIPKART\" rel=\"noopener noreferrer\" target=\"_blank\"><div class=\"_1W9f5C\"><div>2. SAMSUNG Metro 313 Dual Sim</div></div><div class=\"_3VDxyD\"><div class=\"_3LWZlK\">4.3<img class=\"_1wB99o\" src=\"data:image/svg+xml;base64,PHN2ZyB4bWxucz0iaHR0cDovL3d3dy53My5vcmcvMjAwMC9zdmciIHdpZHRoPSIxMyIgaGVpZ2h0PSIxMiI+PHBhdGggZmlsbD0iI0ZGRiIgZD0iTTYuNSA5LjQzOWwtMy42NzQgMi4yMy45NC00LjI2LTMuMjEtMi44ODMgNC4yNTQtLjQwNEw2LjUuMTEybDEuNjkgNC4wMSA0LjI1NC40MDQtMy4yMSAyLjg4Mi45NCA0LjI2eiIvPjwvc3ZnPg==\"/></div><span class=\"_34hpFu\"><span>12,761 Ratings</span><span><span class=\"_2oY1qB\">&amp;</span><span>1,146 Reviews</span></span></span></div><div class=\"_2wYYVP\"><div class=\"_25b18c\"><div class=\"_30jeq3 UMT9wN\">₹2,340</div></div></div></a>"
      ]
     },
     "execution_count": 101,
     "metadata": {},
     "output_type": "execute_result"
    }
   ],
   "source": [
    "results[25]"
   ]
  },
  {
   "cell_type": "code",
   "execution_count": 102,
   "id": "4aad6098",
   "metadata": {},
   "outputs": [
    {
     "name": "stdout",
     "output_type": "stream",
     "text": [
      "['Showing', '1', '–', '24', 'of', '504', 'results', 'for', '\"Samsung\"']\n",
      "24\n",
      "SAMSUNG Galaxy F41 (Fusion Blue, 128 GB)\n",
      "SAMSUNG Galaxy F41 (Fusion Black, 128 GB)\n",
      "SAMSUNG Metro 313 Dual Sim\n",
      "SAMSUNG Metro 313 Dual Sim\n",
      "SAMSUNG Guru FM Plus SM-B110E/D\n",
      "SAMSUNG M21 2021 Edition (Charcoal Black, 64 GB)\n",
      "SAMSUNG Guru FM Plus\n",
      "SAMSUNG M31s (Mirage Blue, 128 GB)\n",
      "SAMSUNG Galaxy M02 (Gray, 32 GB)\n",
      "SAMSUNG M02s (Blue, 32 GB)\n",
      "SAMSUNG Guru FM Plus\n",
      "SAMSUNG Galaxy A31 (Prism Crush Blue, 128 GB)\n",
      "SAMSUNG Galaxy M12 (Blue, 64 GB)\n",
      "SAMSUNG M31 (Ocean Blue, 128 GB)\n",
      "SAMSUNG Galaxy F22 (Denim Black, 128 GB)\n",
      "SAMSUNG Galaxy M02 (Blue, 32 GB)\n",
      "SAMSUNG Galaxy A21s (Black, 128 GB)\n",
      "SAMSUNG Galaxy M32 (Black, 128 GB)\n",
      "SAMSUNG Galaxy M11 (Black, 64 GB)\n",
      "SAMSUNG Galaxy M32 (Black, 64 GB)\n",
      "SAMSUNG Galaxy M31 (Space Black, 128 GB)\n",
      "SAMSUNG GALAXY M31S (Mirage Black, 128 GB)\n",
      "SAMSUNG Galaxy F62 (Laser Blue, 128 GB)\n",
      "SAMSUNG Galaxy M31 (Iceberg blue, 128 GB)\n"
     ]
    }
   ],
   "source": [
    "scentence_num = soup.find('span', {'class':'_10Ermr'})\n",
    "g = scentence_num.text.split(' ')\n",
    "print(g)\n",
    "print(g[3])\n",
    "for i in range(int(g[3])):\n",
    "    item = results[i]\n",
    "    product_name = item.find('div', {'class':'_4rR01T'})\n",
    "    print(product_name.text)"
   ]
  },
  {
   "cell_type": "code",
   "execution_count": 103,
   "id": "7fcfc45e",
   "metadata": {},
   "outputs": [
    {
     "data": {
      "text/plain": [
       "'₹17,999'"
      ]
     },
     "execution_count": 103,
     "metadata": {},
     "output_type": "execute_result"
    }
   ],
   "source": [
    "product_price_discounted = item.find('div', {'class':'_30jeq3 _1_WHN1'})\n",
    "product_price_discounted.text\n",
    "product_price_actual = item.find('div', {'class':'_3I9_wc _27UcVY'})\n",
    "product_price_actual.text"
   ]
  },
  {
   "cell_type": "code",
   "execution_count": 106,
   "id": "1a086ebb",
   "metadata": {},
   "outputs": [
    {
     "name": "stdout",
     "output_type": "stream",
     "text": [
      "6 GB RAM | 128 GB ROM | Expandable Upto 512 GB\n",
      "16.26 cm (6.4 inch) Full HD+ Display\n",
      "64MP + 8MP + 5MP + 5MP | 32MP Front Camera\n",
      "6000 mAh Battery\n",
      "Samsung Exynos 9 Octa 9611 Processor\n",
      "1 year\n"
     ]
    }
   ],
   "source": [
    "product_info = item.find('ul',{'class':'_1xgFaf'})\n",
    "product_info.text\n",
    "empty_list = []\n",
    "product_info = item.find_all('li', {'class':'rgWa7D'})\n",
    "for i in range(len(product_info)):\n",
    "    print(product_info[i].text)"
   ]
  },
  {
   "cell_type": "code",
   "execution_count": 92,
   "id": "dd249dac",
   "metadata": {},
   "outputs": [
    {
     "name": "stdout",
     "output_type": "stream",
     "text": [
      "No actual\n",
      "No actual\n",
      "No actual\n",
      "No actual\n",
      "No actual\n",
      "No actual\n",
      "No actual\n",
      "No actual\n",
      "No actual\n"
     ]
    }
   ],
   "source": [
    "total_results = soup.find('span', {'class':'_10Ermr'})\n",
    "list_results = total_results.text.split(' ')\n",
    "total_results_num = list_results[3]\n",
    "for i in range(int(total_results_num)):\n",
    "    itemx = results[i]\n",
    "    product_name = itemx.find('div', {'class':'_4rR01T'})\n",
    "    try:\n",
    "        device_name.append(product_name.text)\n",
    "    except AttributeError:\n",
    "        print(\"No name\")\n",
    "        print(i)\n",
    "    product_price_discounted = itemx.find('div', {'class':'_30jeq3 _1_WHN1'})\n",
    "    try:\n",
    "        device_price_discounted.append(product_price_discounted.text)\n",
    "    except AttributeError:\n",
    "        print(\"No discounted\")\n",
    "    product_price_actual = itemx.find('div', {'class':'_3I9_wc _27UcVY'})\n",
    "    try:\n",
    "        device_price_actual.append(product_price_actual.text)\n",
    "    except AttributeError:\n",
    "        print(\"No actual\")\n",
    "        device_price_actual.append('0')\n",
    "    product_info = itemx.find('ul',{'class':'_1xgFaf'})\n",
    "    try:\n",
    "        device_info.append(product_info.text)\n",
    "    except AttributeError:\n",
    "        print(\"no info\")\n",
    "        print(i)\n",
    "    \n",
    "    \n",
    "    "
   ]
  },
  {
   "cell_type": "code",
   "execution_count": 93,
   "id": "0280d01d",
   "metadata": {},
   "outputs": [
    {
     "data": {
      "text/plain": [
       "24"
      ]
     },
     "execution_count": 93,
     "metadata": {},
     "output_type": "execute_result"
    }
   ],
   "source": [
    "len(device_name)"
   ]
  },
  {
   "cell_type": "code",
   "execution_count": 94,
   "id": "16c3268a",
   "metadata": {},
   "outputs": [
    {
     "data": {
      "text/plain": [
       "24"
      ]
     },
     "execution_count": 94,
     "metadata": {},
     "output_type": "execute_result"
    }
   ],
   "source": [
    "len(device_price_actual)"
   ]
  },
  {
   "cell_type": "code",
   "execution_count": 95,
   "id": "40ca5da7",
   "metadata": {},
   "outputs": [
    {
     "data": {
      "text/plain": [
       "24"
      ]
     },
     "execution_count": 95,
     "metadata": {},
     "output_type": "execute_result"
    }
   ],
   "source": [
    "len(device_price_discounted)"
   ]
  },
  {
   "cell_type": "code",
   "execution_count": 96,
   "id": "4ee9fd5d",
   "metadata": {},
   "outputs": [
    {
     "data": {
      "text/plain": [
       "24"
      ]
     },
     "execution_count": 96,
     "metadata": {},
     "output_type": "execute_result"
    }
   ],
   "source": [
    "len(device_info)"
   ]
  },
  {
   "cell_type": "code",
   "execution_count": null,
   "id": "83902833",
   "metadata": {},
   "outputs": [],
   "source": []
  }
 ],
 "metadata": {
  "kernelspec": {
   "display_name": "Python 3 (ipykernel)",
   "language": "python",
   "name": "python3"
  },
  "language_info": {
   "codemirror_mode": {
    "name": "ipython",
    "version": 3
   },
   "file_extension": ".py",
   "mimetype": "text/x-python",
   "name": "python",
   "nbconvert_exporter": "python",
   "pygments_lexer": "ipython3",
   "version": "3.9.6"
  }
 },
 "nbformat": 4,
 "nbformat_minor": 5
}
