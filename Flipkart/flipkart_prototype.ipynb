{
 "cells": [
  {
   "cell_type": "code",
   "execution_count": 1,
   "id": "e03aa8df",
   "metadata": {},
   "outputs": [],
   "source": [
    "import csv\n",
    "import os\n",
    "from bs4 import BeautifulSoup\n",
    "from selenium import webdriver"
   ]
  },
  {
   "cell_type": "code",
   "execution_count": 2,
   "id": "32ac2b1a",
   "metadata": {},
   "outputs": [],
   "source": [
    "driver = webdriver.Firefox(executable_path=r\"../Resources/geckodriver.exe\")"
   ]
  },
  {
   "cell_type": "code",
   "execution_count": 3,
   "id": "93ff3800",
   "metadata": {},
   "outputs": [],
   "source": [
    "def create_url(search_item):\n",
    "    template = \"https://www.flipkart.com/search?q={}&otracker=search&otracker1=search&marketplace=FLIPKART&as-show=on&as=off\"\n",
    "    url = template.format(search_item)\n",
    "    return url\n",
    "\n",
    "driver.get(create_url(\"Samsung\"))\n",
    "device_name = []\n",
    "device_price_actual = []\n",
    "device_price_discounted = []\n",
    "device_info = []"
   ]
  },
  {
   "cell_type": "code",
   "execution_count": 12,
   "id": "a8401ba6",
   "metadata": {},
   "outputs": [],
   "source": [
    "soup = BeautifulSoup(driver.page_source, 'html.parser')\n",
    "results = soup.find_all('a', {'target':'_blank'})"
   ]
  },
  {
   "cell_type": "code",
   "execution_count": 5,
   "id": "760cc4a2",
   "metadata": {},
   "outputs": [
    {
     "data": {
      "text/plain": [
       "<a href=\"/samsung-galaxy-m02-blue-32-gb/p/itm6bafd2df167b9?pid=MOBGY73CKG9HXZZB&amp;marketplace=FLIPKART\" rel=\"noopener noreferrer\" target=\"_blank\"><div class=\"_1W9f5C\"><div>2. SAMSUNG Galaxy M02 (Blue, 3...</div></div><div class=\"_3VDxyD\"><div class=\"_3LWZlK\">4<img class=\"_1wB99o\" src=\"data:image/svg+xml;base64,PHN2ZyB4bWxucz0iaHR0cDovL3d3dy53My5vcmcvMjAwMC9zdmciIHdpZHRoPSIxMyIgaGVpZ2h0PSIxMiI+PHBhdGggZmlsbD0iI0ZGRiIgZD0iTTYuNSA5LjQzOWwtMy42NzQgMi4yMy45NC00LjI2LTMuMjEtMi44ODMgNC4yNTQtLjQwNEw2LjUuMTEybDEuNjkgNC4wMSA0LjI1NC40MDQtMy4yMSAyLjg4Mi45NCA0LjI2eiIvPjwvc3ZnPg==\"/></div><span class=\"_34hpFu\"><span>759 Ratings</span><span><span class=\"_2oY1qB\">&amp;</span><span>68 Reviews</span></span></span></div><div class=\"_2wYYVP\"><div class=\"_25b18c\"><div class=\"_30jeq3 UMT9wN\">₹8,999</div></div></div></a>"
      ]
     },
     "execution_count": 5,
     "metadata": {},
     "output_type": "execute_result"
    }
   ],
   "source": [
    "results[25]"
   ]
  },
  {
   "cell_type": "code",
   "execution_count": 6,
   "id": "c0a8b0a4",
   "metadata": {},
   "outputs": [
    {
     "name": "stdout",
     "output_type": "stream",
     "text": [
      "['Showing', '1', '–', '24', 'of', '687', 'results', 'for', '\"Samsung\"']\n",
      "24\n",
      "SAMSUNG Galaxy F41 (Fusion Blue, 128 GB)\n",
      "SAMSUNG Galaxy F41 (Fusion Black, 128 GB)\n",
      "SAMSUNG Metro 313 Dual Sim\n",
      "SAMSUNG Galaxy M11 (Black, 64 GB)\n",
      "SAMSUNG M01 core (Black, 32 GB)\n",
      "SAMSUNG Guru FM Plus SM-B110E/D\n",
      "SAMSUNG Galaxy F22 (Denim Blue, 64 GB)\n",
      "SAMSUNG Galaxy M02 (Gray, 32 GB)\n",
      "SAMSUNG Galaxy F41 (Fusion Green, 128 GB)\n",
      "SAMSUNG Guru 1200\n",
      "SAMSUNG Guru Plus B110\n",
      "SAMSUNG Galaxy F22 (Denim Black, 128 GB)\n",
      "SAMSUNG M02s (Blue, 32 GB)\n",
      "SAMSUNG Galaxy A22 (Black, 128 GB)\n",
      "SAMSUNG M02s (Black, 32 GB)\n",
      "SAMSUNG Galaxy M32 (Black, 128 GB)\n",
      "SAMSUNG Galaxy M42 5G (Prism Dot Black, 128 GB)\n",
      "SAMSUNG M31 (Ocean Blue, 128 GB)\n",
      "SAMSUNG Guru FM Plus\n",
      "SAMSUNG Galaxy M02 (Blue, 32 GB)\n",
      "SAMSUNG M21 2021 Edition (Arctic blue, 64 GB)\n",
      "SAMSUNG Galaxy M31 (Iceberg blue, 128 GB)\n",
      "SAMSUNG Galaxy F02s (Diamond Blue, 64 GB)\n",
      "SAMSUNG Galaxy M11 (Violet, 64 GB)\n"
     ]
    }
   ],
   "source": [
    "scentence_num = soup.find('span', {'class':'_10Ermr'})\n",
    "g = scentence_num.text.split(' ')\n",
    "print(g)\n",
    "print(g[3])\n",
    "for i in range(int(g[3])):\n",
    "    item = results[i]\n",
    "    product_name = item.find('div', {'class':'_4rR01T'})\n",
    "    print(product_name.text)"
   ]
  },
  {
   "cell_type": "code",
   "execution_count": 7,
   "id": "269e0821",
   "metadata": {},
   "outputs": [
    {
     "ename": "AttributeError",
     "evalue": "'NoneType' object has no attribute 'text'",
     "output_type": "error",
     "traceback": [
      "\u001b[1;31m---------------------------------------------------------------------------\u001b[0m",
      "\u001b[1;31mAttributeError\u001b[0m                            Traceback (most recent call last)",
      "\u001b[1;32m~\\AppData\\Local\\Temp/ipykernel_6844/2932762140.py\u001b[0m in \u001b[0;36m<module>\u001b[1;34m\u001b[0m\n\u001b[0;32m      2\u001b[0m \u001b[0mproduct_price_discounted\u001b[0m\u001b[1;33m.\u001b[0m\u001b[0mtext\u001b[0m\u001b[1;33m\u001b[0m\u001b[1;33m\u001b[0m\u001b[0m\n\u001b[0;32m      3\u001b[0m \u001b[0mproduct_price_actual\u001b[0m \u001b[1;33m=\u001b[0m \u001b[0mitem\u001b[0m\u001b[1;33m.\u001b[0m\u001b[0mfind\u001b[0m\u001b[1;33m(\u001b[0m\u001b[1;34m'div'\u001b[0m\u001b[1;33m,\u001b[0m \u001b[1;33m{\u001b[0m\u001b[1;34m'class'\u001b[0m\u001b[1;33m:\u001b[0m\u001b[1;34m'_3I9_wc _27UcVY'\u001b[0m\u001b[1;33m}\u001b[0m\u001b[1;33m)\u001b[0m\u001b[1;33m\u001b[0m\u001b[1;33m\u001b[0m\u001b[0m\n\u001b[1;32m----> 4\u001b[1;33m \u001b[0mproduct_price_actual\u001b[0m\u001b[1;33m.\u001b[0m\u001b[0mtext\u001b[0m\u001b[1;33m\u001b[0m\u001b[1;33m\u001b[0m\u001b[0m\n\u001b[0m",
      "\u001b[1;31mAttributeError\u001b[0m: 'NoneType' object has no attribute 'text'"
     ]
    }
   ],
   "source": [
    "product_price_discounted = item.find('div', {'class':'_30jeq3 _1_WHN1'})\n",
    "product_price_discounted.text\n",
    "product_price_actual = item.find('div', {'class':'_3I9_wc _27UcVY'})\n",
    "product_price_actual.text"
   ]
  },
  {
   "cell_type": "code",
   "execution_count": 8,
   "id": "2802f994",
   "metadata": {},
   "outputs": [
    {
     "name": "stdout",
     "output_type": "stream",
     "text": [
      "['4 GB RAM | 64 GB ROM | Expandable Upto 512 GB\\r', '16.26 cm (6.4 inch) HD+ Display\\r', '13MP + 5MP + 2MP | 8MP Front Camera\\r', '5000 mAh Lithium-ion Battery\\r', 'Qualcomm Snapdragon (SDM450-F01) Octa Core Processor\\r', '1 Year Manufacturer Warranty for Phone and 6 Months Warranty for in the Box Accessories\\r']\n"
     ]
    }
   ],
   "source": [
    "def Get_Product_Specifications(item):\n",
    "    product_info = item.find_all('li', {'class': 'rgWa7D'})\n",
    "    return_list = []\n",
    "    try:\n",
    "        for x in range(len(product_info)):\n",
    "            return_list.append(product_info[x].text)\n",
    "        return return_list\n",
    "    except AttributeError:\n",
    "        print(\"no info\")\n",
    "        return 'No info'\n",
    "line = ''\n",
    "e = []\n",
    "u = []\n",
    "k = Get_Product_Specifications(item)\n",
    "e.append(k)\n",
    "for f in e:\n",
    "    for t in f:\n",
    "        line += t + '\\015'\n",
    "        u.append(line)\n",
    "        line = ''\n",
    "print(u)"
   ]
  },
  {
   "cell_type": "code",
   "execution_count": 15,
   "id": "3cafb85c",
   "metadata": {},
   "outputs": [
    {
     "name": "stdout",
     "output_type": "stream",
     "text": [
      "OK\n"
     ]
    }
   ],
   "source": [
    "item = results[0]\n",
    "product_status = item.find('div', {'class': '_3G6awp'})\n",
    "if product_status.text == 'Pre Order':\n",
    "    print(\"OK\")"
   ]
  },
  {
   "cell_type": "code",
   "execution_count": 92,
   "id": "66149b98",
   "metadata": {},
   "outputs": [
    {
     "name": "stdout",
     "output_type": "stream",
     "text": [
      "No actual\n",
      "No actual\n",
      "No actual\n",
      "No actual\n",
      "No actual\n",
      "No actual\n",
      "No actual\n",
      "No actual\n",
      "No actual\n"
     ]
    }
   ],
   "source": [
    "total_results = soup.find('span', {'class':'_10Ermr'})\n",
    "list_results = total_results.text.split(' ')\n",
    "total_results_num = list_results[3]\n",
    "for i in range(int(total_results_num)):\n",
    "    itemx = results[i]\n",
    "    product_name = itemx.find('div', {'class':'_4rR01T'})\n",
    "    try:\n",
    "        device_name.append(product_name.text)\n",
    "    except AttributeError:\n",
    "        print(\"No name\")\n",
    "        print(i)\n",
    "    product_price_discounted = itemx.find('div', {'class':'_30jeq3 _1_WHN1'})\n",
    "    try:\n",
    "        device_price_discounted.append(product_price_discounted.text)\n",
    "    except AttributeError:\n",
    "        print(\"No discounted\")\n",
    "    product_price_actual = itemx.find('div', {'class':'_3I9_wc _27UcVY'})\n",
    "    try:\n",
    "        device_price_actual.append(product_price_actual.text)\n",
    "    except AttributeError:\n",
    "        print(\"No actual\")\n",
    "        device_price_actual.append('0')\n",
    "    product_info = itemx.find('ul',{'class':'_1xgFaf'})\n",
    "    try:\n",
    "        device_info.append(product_info.text)\n",
    "    except AttributeError:\n",
    "        print(\"no info\")\n",
    "        print(i)\n",
    "    \n",
    "    \n",
    "    "
   ]
  },
  {
   "cell_type": "code",
   "execution_count": 93,
   "id": "d57acb64",
   "metadata": {},
   "outputs": [
    {
     "data": {
      "text/plain": [
       "24"
      ]
     },
     "execution_count": 93,
     "metadata": {},
     "output_type": "execute_result"
    }
   ],
   "source": [
    "len(device_name)"
   ]
  },
  {
   "cell_type": "code",
   "execution_count": 94,
   "id": "64401ea5",
   "metadata": {},
   "outputs": [
    {
     "data": {
      "text/plain": [
       "24"
      ]
     },
     "execution_count": 94,
     "metadata": {},
     "output_type": "execute_result"
    }
   ],
   "source": [
    "len(device_price_actual)"
   ]
  },
  {
   "cell_type": "code",
   "execution_count": 95,
   "id": "86f1dd22",
   "metadata": {},
   "outputs": [
    {
     "data": {
      "text/plain": [
       "24"
      ]
     },
     "execution_count": 95,
     "metadata": {},
     "output_type": "execute_result"
    }
   ],
   "source": [
    "len(device_price_discounted)"
   ]
  },
  {
   "cell_type": "code",
   "execution_count": 96,
   "id": "3a679ad4",
   "metadata": {},
   "outputs": [
    {
     "data": {
      "text/plain": [
       "24"
      ]
     },
     "execution_count": 96,
     "metadata": {},
     "output_type": "execute_result"
    }
   ],
   "source": [
    "len(device_info)"
   ]
  },
  {
   "cell_type": "code",
   "execution_count": 28,
   "id": "98cb1830",
   "metadata": {},
   "outputs": [],
   "source": [
    "s = 'vaibhav sharma'\n",
    "x = s.split()"
   ]
  },
  {
   "cell_type": "code",
   "execution_count": 25,
   "id": "a79244f8",
   "metadata": {},
   "outputs": [],
   "source": [
    "s = 'vaibhav'\n",
    "x = s.split()"
   ]
  },
  {
   "cell_type": "code",
   "execution_count": 29,
   "id": "29d22b5d",
   "metadata": {
    "scrolled": true
   },
   "outputs": [
    {
     "data": {
      "text/plain": [
       "'vaibhav+sharma+'"
      ]
     },
     "execution_count": 29,
     "metadata": {},
     "output_type": "execute_result"
    }
   ],
   "source": [
    "search_term = ''\n",
    "if(len(x) >= 2):\n",
    "    for i in x:\n",
    "        search_term += i + '+'\n",
    "search_term"
   ]
  },
  {
   "cell_type": "code",
   "execution_count": null,
   "id": "2aad95a3",
   "metadata": {},
   "outputs": [],
   "source": []
  }
 ],
 "metadata": {
  "kernelspec": {
   "display_name": "Python 3 (ipykernel)",
   "language": "python",
   "name": "python3"
  },
  "language_info": {
   "codemirror_mode": {
    "name": "ipython",
    "version": 3
   },
   "file_extension": ".py",
   "mimetype": "text/x-python",
   "name": "python",
   "nbconvert_exporter": "python",
   "pygments_lexer": "ipython3",
   "version": "3.9.6"
  }
 },
 "nbformat": 4,
 "nbformat_minor": 5
}
