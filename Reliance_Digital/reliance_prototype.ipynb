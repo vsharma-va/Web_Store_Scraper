{
 "cells": [
  {
   "cell_type": "code",
   "execution_count": 20,
   "source": [
    "from bs4 import BeautifulSoup\r\n",
    "from selenium import webdriver\r\n",
    "from selenium.webdriver.support.ui import WebDriverWait\r\n",
    "from selenium.webdriver.support import expected_conditions as EC\r\n",
    "from selenium.webdriver.common.keys import Keys\r\n",
    "from selenium.webdriver.common.by import By\r\n",
    "options = webdriver.FirefoxOptions()\r\n",
    "options.set_preference(\"dom.push.enabled\", False)\r\n",
    "driver = webdriver.Firefox(options=options, executable_path='../Resources/geckodriver.exe')\r\n",
    "driver.maximize_window()"
   ],
   "outputs": [],
   "metadata": {}
  },
  {
   "cell_type": "code",
   "execution_count": null,
   "source": [],
   "outputs": [],
   "metadata": {}
  },
  {
   "cell_type": "code",
   "execution_count": 8,
   "source": [
    "# S101711 = smartphones\r\n",
    "# S101010 = bags, cases and sleeves"
   ],
   "outputs": [],
   "metadata": {}
  },
  {
   "cell_type": "code",
   "execution_count": 21,
   "source": [
    "def create_link(search_term):\r\n",
    "    link = \"https://www.reliancedigital.in/search?q={}:price-desc\"\r\n",
    "    f = search_term.replace(' ', '%20')\r\n",
    "    url = link.format(f)\r\n",
    "    url += '&page={}'\r\n",
    "    return url"
   ],
   "outputs": [],
   "metadata": {}
  },
  {
   "cell_type": "code",
   "execution_count": 24,
   "source": [
    "y = create_link('smasung mobile').format('0')\r\n",
    "driver.get(y)\r\n",
    "WebDriverWait(driver, 10).until(EC.presence_of_all_elements_located(\r\n",
    "    (By.XPATH, \"//div[@class='sp__product']\")))\r\n",
    "l = driver.find_element_by_xpath(\"//input[@id='category-Smartphones']\")\r\n",
    "l.send_keys(Keys.SPACE)\r\n",
    "cont = WebDriverWait(driver, 10).until(EC.presence_of_all_elements_located(\r\n",
    "    (By.XPATH, \"//div[@class='sp__product']\")))\r\n"
   ],
   "outputs": [
    {
     "output_type": "stream",
     "name": "stdout",
     "text": [
      "1\n"
     ]
    }
   ],
   "metadata": {}
  },
  {
   "cell_type": "code",
   "execution_count": 26,
   "source": [
    "if(cont):\r\n",
    "    print('1')\r\n",
    "    soup = BeautifulSoup(driver.page_source, 'html.parser')\r\n",
    "    results = soup.find_all('li', {'class':'grid pl__container__sp blk__lg__3 blk__md__4 blk__sm__6 blk__xs__6'})\r\n",
    "results[1]"
   ],
   "outputs": [
    {
     "output_type": "stream",
     "name": "stdout",
     "text": [
      "1\n"
     ]
    },
    {
     "output_type": "execute_result",
     "data": {
      "text/plain": [
       "<li class=\"grid pl__container__sp blk__lg__3 blk__md__4 blk__sm__6 blk__xs__6\"><div class=\"sp grid\"><a aria-label=\"/samsung-galaxy-z-series-fold3-5g-256-gb-12-gb-ram-phantom-green-smartphone/p/491997495\" attr-tag=\"link\" href=\"/samsung-galaxy-z-series-fold3-5g-256-gb-12-gb-ram-phantom-green-smartphone/p/491997495\" target=\"_blank\"><div class=\"sp__product\"><div class=\"sp__productbox\"><div class=\"sp__productbox__cb clearfix\"></div><div style=\"text-align: center; position: relative;\"><div class=\"lazy-load-image-background lazy-load-image-loaded-blur blur\" style=\"width: 180px; height: 180px; overflow: visible; position: relative; padding-top: 0px; margin: auto; display: block; background: transparent none repeat scroll 0% 0%;\"><img alt=\"Range Product\" class=\"img-responsive imgCenter\" data-srcset=\"/medias/Samsung-Galaxy-Z-Fold-3-Smartphone-491997495-i-1-1200Wx1200H-300Wx300H?context=bWFzdGVyfGltYWdlc3wyMzk2NHxpbWFnZS9qcGVnfGltYWdlcy9oOWIvaGZmLzk2MTc1MTQxMzU1ODIuanBnfGUyOTI2NWQ1MmNiMjU1MWYxNDAxZGExZWRiYTAxMmQ2N2U5NjAwZTAxNzMzMDU0MzFlMWMyMmY4ZTQ4Y2FkMTE\" id=\"\" src=\"/medias/Samsung-Galaxy-Z-Fold-3-Smartphone-491997495-i-1-1200Wx1200H-300Wx300H?context=bWFzdGVyfGltYWdlc3wyMzk2NHxpbWFnZS9qcGVnfGltYWdlcy9oOWIvaGZmLzk2MTc1MTQxMzU1ODIuanBnfGUyOTI2NWQ1MmNiMjU1MWYxNDAxZGExZWRiYTAxMmQ2N2U5NjAwZTAxNzMzMDU0MzFlMWMyMmY4ZTQ4Y2FkMTE\" style=\"margin: auto; max-height: 180px; display: block; width: 180px; height: 180px;\"/></div></div></div><div class=\"slider-text\"><p class=\"sp__name\">Samsung Galaxy Z Series Fold3 5G 256 GB, 12 GB RAM, Phantom Green, Smartphone</p><div class=\"sc-chPdSV cfMmfZ\"><div class=\"sc-chPdSV iesTLv\"><div class=\"sc-bwzfXH jWpSeo sc-bxivhb hILMWQ\"><span class=\"sc-bxivhb dmBTBc\">₹149,999</span></div></div></div><div class=\"sp__chip sc-bwzfXH gzmYXA\"><div background=\"lightGreen1\" bordercolor=\"\" class=\"sc-hmzhuo eRHmmU\">offers available</div><div background=\"lightGreen1\" bordercolor=\"\" class=\"sc-hmzhuo eRHmmU\">Pre-Order</div></div></div></div><div class=\"sc-bxivhb sc-bwzfXH glOPZP sc-frDJqD dVBfBa\"><button class=\"ripple sc-bwzfXH kgiZNr sc-jzJRlG gtYkTT\" id=\"\" theme=\"link\" type=\"button\"><span class=\"sc-bxivhb hJDoTy\"><div class=\"sc-eqIVtm evJMSO\"><label class=\"sc-fAjcbJ jJeCPu\"><input class=\"sc-cHGsZl cdSVVX\" name=\"compare\" type=\"checkbox\"/><span class=\"sc-caSCKo gZGyCB\" font-weight=\"normal\">Compare</span><span class=\"sc-gisBJw hZQfTt\"></span></label></div></span></button><button class=\"ripple sc-kvZOFW jmaJFn sc-jzJRlG gtYkTT\" id=\"\" theme=\"link\" type=\"button\"><span class=\"sc-bxivhb hJDoTy\"><i class=\"fa fa-heart-o\"></i> Wishlist</span></button></div></a></div></li>"
      ]
     },
     "metadata": {},
     "execution_count": 26
    }
   ],
   "metadata": {}
  },
  {
   "cell_type": "code",
   "execution_count": 12,
   "source": [
    "item = results[3]"
   ],
   "outputs": [],
   "metadata": {}
  },
  {
   "cell_type": "code",
   "execution_count": 13,
   "source": [
    "product_name = item.find('p', {'class':'sp__name'})\r\n",
    "product_name.text"
   ],
   "outputs": [
    {
     "output_type": "execute_result",
     "data": {
      "text/plain": [
       "''"
      ]
     },
     "metadata": {},
     "execution_count": 13
    }
   ],
   "metadata": {}
  },
  {
   "cell_type": "code",
   "execution_count": 14,
   "source": [
    "product_price_discounted = item.find('span',{'class':'sc-bxivhb dmBTBc'})\r\n",
    "product_price_discounted.text\r\n",
    "\r\n",
    "product_price_actual = item.find('em')\r\n",
    "product_price_actual.text"
   ],
   "outputs": [
    {
     "output_type": "error",
     "ename": "AttributeError",
     "evalue": "'NoneType' object has no attribute 'text'",
     "traceback": [
      "\u001b[1;31m---------------------------------------------------------------------------\u001b[0m",
      "\u001b[1;31mAttributeError\u001b[0m                            Traceback (most recent call last)",
      "\u001b[1;32m~\\AppData\\Local\\Temp/ipykernel_15132/1386131466.py\u001b[0m in \u001b[0;36m<module>\u001b[1;34m\u001b[0m\n\u001b[0;32m      1\u001b[0m \u001b[0mproduct_price_discounted\u001b[0m \u001b[1;33m=\u001b[0m \u001b[0mitem\u001b[0m\u001b[1;33m.\u001b[0m\u001b[0mfind\u001b[0m\u001b[1;33m(\u001b[0m\u001b[1;34m'span'\u001b[0m\u001b[1;33m,\u001b[0m\u001b[1;33m{\u001b[0m\u001b[1;34m'class'\u001b[0m\u001b[1;33m:\u001b[0m\u001b[1;34m'sc-bxivhb dmBTBc'\u001b[0m\u001b[1;33m}\u001b[0m\u001b[1;33m)\u001b[0m\u001b[1;33m\u001b[0m\u001b[1;33m\u001b[0m\u001b[0m\n\u001b[1;32m----> 2\u001b[1;33m \u001b[0mproduct_price_discounted\u001b[0m\u001b[1;33m.\u001b[0m\u001b[0mtext\u001b[0m\u001b[1;33m\u001b[0m\u001b[1;33m\u001b[0m\u001b[0m\n\u001b[0m\u001b[0;32m      3\u001b[0m \u001b[1;33m\u001b[0m\u001b[0m\n\u001b[0;32m      4\u001b[0m \u001b[0mproduct_price_actual\u001b[0m \u001b[1;33m=\u001b[0m \u001b[0mitem\u001b[0m\u001b[1;33m.\u001b[0m\u001b[0mfind\u001b[0m\u001b[1;33m(\u001b[0m\u001b[1;34m'em'\u001b[0m\u001b[1;33m)\u001b[0m\u001b[1;33m\u001b[0m\u001b[1;33m\u001b[0m\u001b[0m\n\u001b[0;32m      5\u001b[0m \u001b[0mproduct_price_actual\u001b[0m\u001b[1;33m.\u001b[0m\u001b[0mtext\u001b[0m\u001b[1;33m\u001b[0m\u001b[1;33m\u001b[0m\u001b[0m\n",
      "\u001b[1;31mAttributeError\u001b[0m: 'NoneType' object has no attribute 'text'"
     ]
    }
   ],
   "metadata": {}
  },
  {
   "cell_type": "code",
   "execution_count": null,
   "source": [
    "product_status = item.find_all('div', {'class':'sc-hmzhuo eRHmmU'})\r\n",
    "product_status[0].text"
   ],
   "outputs": [
    {
     "output_type": "execute_result",
     "data": {
      "text/plain": [
       "'offers available'"
      ]
     },
     "metadata": {},
     "execution_count": 101
    }
   ],
   "metadata": {}
  },
  {
   "cell_type": "code",
   "execution_count": null,
   "source": [
    "# click on item to open its page\r\n",
    "link = driver.find_element_by_xpath(\"//div[@class='sp__productbox']\")\r\n",
    "link.click()\r\n",
    "new_window = driver.window_handles[1]\r\n",
    "original_window = driver.window_handles[0]\r\n",
    "driver.switch_to.window(new_window)\r\n",
    "# click on see more\r\n",
    "#WebDriverWait(driver, 15).until(EC.url_changes(current_url))\r\n"
   ],
   "outputs": [],
   "metadata": {}
  },
  {
   "cell_type": "code",
   "execution_count": null,
   "source": [
    "driver.switch_to.window(original_window)"
   ],
   "outputs": [],
   "metadata": {}
  },
  {
   "cell_type": "code",
   "execution_count": null,
   "source": [
    "see_more = driver.find_element_by_xpath(\"//div[@id='RIL_seeMore_Component']\")\r\n",
    "see_more.click()\r\n",
    "info_soup = BeautifulSoup(driver.page_source, 'html.parser')\r\n",
    "info = info_soup.find_all('ul', {'class':'p__5 sc-jhAzac LseCe'})\r\n",
    "for i in info:\r\n",
    "    print(i.text)"
   ],
   "outputs": [
    {
     "output_type": "stream",
     "name": "stdout",
     "text": [
      "19.30 cm (7.6 inch) Dynamic AMOLED 2X Infinity Flex Display15.74 cm (6.2 inch) Infinity-O AMOLED 2X Cover Display12 GB Memory, 512 GB Storage12 MP, 12 MP, 12 MP Rear Camera, Dolby Speakers\n"
     ]
    }
   ],
   "metadata": {}
  },
  {
   "cell_type": "code",
   "execution_count": null,
   "source": [],
   "outputs": [],
   "metadata": {}
  }
 ],
 "metadata": {
  "kernelspec": {
   "display_name": "Python 3 (ipykernel)",
   "language": "python",
   "name": "python3"
  },
  "language_info": {
   "name": "python",
   "version": "3.9.6",
   "mimetype": "text/x-python",
   "codemirror_mode": {
    "name": "ipython",
    "version": 3
   },
   "pygments_lexer": "ipython3",
   "nbconvert_exporter": "python",
   "file_extension": ".py"
  }
 },
 "nbformat": 4,
 "nbformat_minor": 5
}