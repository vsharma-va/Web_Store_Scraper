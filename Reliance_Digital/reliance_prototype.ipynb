{
 "cells": [
  {
   "cell_type": "code",
   "execution_count": 73,
   "source": [
    "from bs4 import BeautifulSoup\r\n",
    "from selenium import webdriver\r\n",
    "from selenium.webdriver.support.ui import WebDriverWait\r\n",
    "from selenium.webdriver.support import expected_conditions as EC\r\n",
    "from selenium.webdriver.common.keys import Keys\r\n",
    "from selenium.webdriver.common.by import By\r\n",
    "import time\r\n",
    "options = webdriver.FirefoxOptions()\r\n",
    "options.set_preference(\"dom.push.enabled\", False)\r\n",
    "driver = webdriver.Firefox(options=options, executable_path='../Resources/geckodriver.exe')\r\n",
    "driver.maximize_window()"
   ],
   "outputs": [],
   "metadata": {}
  },
  {
   "cell_type": "code",
   "execution_count": null,
   "source": [],
   "outputs": [],
   "metadata": {}
  },
  {
   "cell_type": "code",
   "execution_count": 74,
   "source": [
    "# S101711 = smartphones\r\n",
    "# S101010 = bags, cases and sleeves"
   ],
   "outputs": [],
   "metadata": {}
  },
  {
   "cell_type": "code",
   "execution_count": 75,
   "source": [
    "def create_link(search_term):\r\n",
    "    link = \"https://www.reliancedigital.in/search?q={}:price-desc\"\r\n",
    "    f = search_term.replace(' ', '%20')\r\n",
    "    url = link.format(f)\r\n",
    "    url += '&page={}'\r\n",
    "    return url"
   ],
   "outputs": [],
   "metadata": {}
  },
  {
   "cell_type": "code",
   "execution_count": 98,
   "source": [
    "categories_list = []\r\n",
    "y = create_link('smasung mobile').format('0')\r\n",
    "driver.get(y)\r\n",
    "WebDriverWait(driver, 10).until(EC.presence_of_all_elements_located(\r\n",
    "    (By.XPATH, \"//div[@class='sf sf__accord__locked']\")))\r\n",
    "time.sleep(2)\r\n",
    "see = driver.find_element_by_xpath(\"//div[@class='show-more__action']\")\r\n",
    "see.click()\r\n",
    "categories = driver.find_elements_by_xpath(\"//div[@class='sf sf__accord__locked']\")\r\n",
    "for t in categories:\r\n",
    "    categories_list.append(t)"
   ],
   "outputs": [],
   "metadata": {}
  },
  {
   "cell_type": "code",
   "execution_count": null,
   "source": [],
   "outputs": [],
   "metadata": {}
  },
  {
   "cell_type": "code",
   "execution_count": 86,
   "source": [
    "WebDriverWait(driver, 10).until(EC.presence_of_all_elements_located(\r\n",
    "    (By.XPATH, \"//div[@class='sp__product']\")))\r\n",
    "time.sleep(2)\r\n",
    "l = driver.find_element_by_xpath(\"//input[@id='category-Smartphones']\")\r\n",
    "l.send_keys(Keys.SPACE)\r\n",
    "time.sleep(10)\r\n",
    "soup = BeautifulSoup(driver.page_source, 'html.parser')\r\n",
    "\r\n",
    "results = soup.find_all('li', {'class':'grid pl__container__sp blk__lg__3 blk__md__4 blk__sm__6 blk__xs__6'})"
   ],
   "outputs": [
    {
     "output_type": "stream",
     "name": "stdout",
     "text": [
      "Availability\n",
      "Exclude out of Stock\n"
     ]
    },
    {
     "output_type": "error",
     "ename": "StaleElementReferenceException",
     "evalue": "Message: The element reference of <div class=\"sf sf__accord__locked\"> is stale; either the element is no longer attached to the DOM, it is not in the current frame context, or the document has been refreshed\n",
     "traceback": [
      "\u001b[1;31m---------------------------------------------------------------------------\u001b[0m",
      "\u001b[1;31mStaleElementReferenceException\u001b[0m            Traceback (most recent call last)",
      "\u001b[1;32m~\\AppData\\Local\\Temp/ipykernel_15132/366695761.py\u001b[0m in \u001b[0;36m<module>\u001b[1;34m\u001b[0m\n\u001b[0;32m      3\u001b[0m \u001b[0mcategories\u001b[0m \u001b[1;33m=\u001b[0m \u001b[0mdriver\u001b[0m\u001b[1;33m.\u001b[0m\u001b[0mfind_elements_by_xpath\u001b[0m\u001b[1;33m(\u001b[0m\u001b[1;34m\"//div[@class='sf sf__accord__locked']\"\u001b[0m\u001b[1;33m)\u001b[0m\u001b[1;33m\u001b[0m\u001b[1;33m\u001b[0m\u001b[0m\n\u001b[0;32m      4\u001b[0m \u001b[1;32mfor\u001b[0m \u001b[0mt\u001b[0m \u001b[1;32min\u001b[0m \u001b[0mcategories\u001b[0m\u001b[1;33m:\u001b[0m\u001b[1;33m\u001b[0m\u001b[1;33m\u001b[0m\u001b[0m\n\u001b[1;32m----> 5\u001b[1;33m     \u001b[0mprint\u001b[0m\u001b[1;33m(\u001b[0m\u001b[0mt\u001b[0m\u001b[1;33m.\u001b[0m\u001b[0mtext\u001b[0m\u001b[1;33m)\u001b[0m\u001b[1;33m\u001b[0m\u001b[1;33m\u001b[0m\u001b[0m\n\u001b[0m\u001b[0;32m      6\u001b[0m WebDriverWait(driver, 10).until(EC.presence_of_all_elements_located(\n\u001b[0;32m      7\u001b[0m     (By.XPATH, \"//div[@class='sp__product']\")))\n",
      "\u001b[1;32mF:\\Anaconda\\envs\\webscraping\\lib\\site-packages\\selenium\\webdriver\\remote\\webelement.py\u001b[0m in \u001b[0;36mtext\u001b[1;34m(self)\u001b[0m\n\u001b[0;32m     74\u001b[0m     \u001b[1;32mdef\u001b[0m \u001b[0mtext\u001b[0m\u001b[1;33m(\u001b[0m\u001b[0mself\u001b[0m\u001b[1;33m)\u001b[0m\u001b[1;33m:\u001b[0m\u001b[1;33m\u001b[0m\u001b[1;33m\u001b[0m\u001b[0m\n\u001b[0;32m     75\u001b[0m         \u001b[1;34m\"\"\"The text of the element.\"\"\"\u001b[0m\u001b[1;33m\u001b[0m\u001b[1;33m\u001b[0m\u001b[0m\n\u001b[1;32m---> 76\u001b[1;33m         \u001b[1;32mreturn\u001b[0m \u001b[0mself\u001b[0m\u001b[1;33m.\u001b[0m\u001b[0m_execute\u001b[0m\u001b[1;33m(\u001b[0m\u001b[0mCommand\u001b[0m\u001b[1;33m.\u001b[0m\u001b[0mGET_ELEMENT_TEXT\u001b[0m\u001b[1;33m)\u001b[0m\u001b[1;33m[\u001b[0m\u001b[1;34m'value'\u001b[0m\u001b[1;33m]\u001b[0m\u001b[1;33m\u001b[0m\u001b[1;33m\u001b[0m\u001b[0m\n\u001b[0m\u001b[0;32m     77\u001b[0m \u001b[1;33m\u001b[0m\u001b[0m\n\u001b[0;32m     78\u001b[0m     \u001b[1;32mdef\u001b[0m \u001b[0mclick\u001b[0m\u001b[1;33m(\u001b[0m\u001b[0mself\u001b[0m\u001b[1;33m)\u001b[0m\u001b[1;33m:\u001b[0m\u001b[1;33m\u001b[0m\u001b[1;33m\u001b[0m\u001b[0m\n",
      "\u001b[1;32mF:\\Anaconda\\envs\\webscraping\\lib\\site-packages\\selenium\\webdriver\\remote\\webelement.py\u001b[0m in \u001b[0;36m_execute\u001b[1;34m(self, command, params)\u001b[0m\n\u001b[0;32m    631\u001b[0m             \u001b[0mparams\u001b[0m \u001b[1;33m=\u001b[0m \u001b[1;33m{\u001b[0m\u001b[1;33m}\u001b[0m\u001b[1;33m\u001b[0m\u001b[1;33m\u001b[0m\u001b[0m\n\u001b[0;32m    632\u001b[0m         \u001b[0mparams\u001b[0m\u001b[1;33m[\u001b[0m\u001b[1;34m'id'\u001b[0m\u001b[1;33m]\u001b[0m \u001b[1;33m=\u001b[0m \u001b[0mself\u001b[0m\u001b[1;33m.\u001b[0m\u001b[0m_id\u001b[0m\u001b[1;33m\u001b[0m\u001b[1;33m\u001b[0m\u001b[0m\n\u001b[1;32m--> 633\u001b[1;33m         \u001b[1;32mreturn\u001b[0m \u001b[0mself\u001b[0m\u001b[1;33m.\u001b[0m\u001b[0m_parent\u001b[0m\u001b[1;33m.\u001b[0m\u001b[0mexecute\u001b[0m\u001b[1;33m(\u001b[0m\u001b[0mcommand\u001b[0m\u001b[1;33m,\u001b[0m \u001b[0mparams\u001b[0m\u001b[1;33m)\u001b[0m\u001b[1;33m\u001b[0m\u001b[1;33m\u001b[0m\u001b[0m\n\u001b[0m\u001b[0;32m    634\u001b[0m \u001b[1;33m\u001b[0m\u001b[0m\n\u001b[0;32m    635\u001b[0m     \u001b[1;32mdef\u001b[0m \u001b[0mfind_element\u001b[0m\u001b[1;33m(\u001b[0m\u001b[0mself\u001b[0m\u001b[1;33m,\u001b[0m \u001b[0mby\u001b[0m\u001b[1;33m=\u001b[0m\u001b[0mBy\u001b[0m\u001b[1;33m.\u001b[0m\u001b[0mID\u001b[0m\u001b[1;33m,\u001b[0m \u001b[0mvalue\u001b[0m\u001b[1;33m=\u001b[0m\u001b[1;32mNone\u001b[0m\u001b[1;33m)\u001b[0m\u001b[1;33m:\u001b[0m\u001b[1;33m\u001b[0m\u001b[1;33m\u001b[0m\u001b[0m\n",
      "\u001b[1;32mF:\\Anaconda\\envs\\webscraping\\lib\\site-packages\\selenium\\webdriver\\remote\\webdriver.py\u001b[0m in \u001b[0;36mexecute\u001b[1;34m(self, driver_command, params)\u001b[0m\n\u001b[0;32m    319\u001b[0m         \u001b[0mresponse\u001b[0m \u001b[1;33m=\u001b[0m \u001b[0mself\u001b[0m\u001b[1;33m.\u001b[0m\u001b[0mcommand_executor\u001b[0m\u001b[1;33m.\u001b[0m\u001b[0mexecute\u001b[0m\u001b[1;33m(\u001b[0m\u001b[0mdriver_command\u001b[0m\u001b[1;33m,\u001b[0m \u001b[0mparams\u001b[0m\u001b[1;33m)\u001b[0m\u001b[1;33m\u001b[0m\u001b[1;33m\u001b[0m\u001b[0m\n\u001b[0;32m    320\u001b[0m         \u001b[1;32mif\u001b[0m \u001b[0mresponse\u001b[0m\u001b[1;33m:\u001b[0m\u001b[1;33m\u001b[0m\u001b[1;33m\u001b[0m\u001b[0m\n\u001b[1;32m--> 321\u001b[1;33m             \u001b[0mself\u001b[0m\u001b[1;33m.\u001b[0m\u001b[0merror_handler\u001b[0m\u001b[1;33m.\u001b[0m\u001b[0mcheck_response\u001b[0m\u001b[1;33m(\u001b[0m\u001b[0mresponse\u001b[0m\u001b[1;33m)\u001b[0m\u001b[1;33m\u001b[0m\u001b[1;33m\u001b[0m\u001b[0m\n\u001b[0m\u001b[0;32m    322\u001b[0m             response['value'] = self._unwrap_value(\n\u001b[0;32m    323\u001b[0m                 response.get('value', None))\n",
      "\u001b[1;32mF:\\Anaconda\\envs\\webscraping\\lib\\site-packages\\selenium\\webdriver\\remote\\errorhandler.py\u001b[0m in \u001b[0;36mcheck_response\u001b[1;34m(self, response)\u001b[0m\n\u001b[0;32m    240\u001b[0m                 \u001b[0malert_text\u001b[0m \u001b[1;33m=\u001b[0m \u001b[0mvalue\u001b[0m\u001b[1;33m[\u001b[0m\u001b[1;34m'alert'\u001b[0m\u001b[1;33m]\u001b[0m\u001b[1;33m.\u001b[0m\u001b[0mget\u001b[0m\u001b[1;33m(\u001b[0m\u001b[1;34m'text'\u001b[0m\u001b[1;33m)\u001b[0m\u001b[1;33m\u001b[0m\u001b[1;33m\u001b[0m\u001b[0m\n\u001b[0;32m    241\u001b[0m             \u001b[1;32mraise\u001b[0m \u001b[0mexception_class\u001b[0m\u001b[1;33m(\u001b[0m\u001b[0mmessage\u001b[0m\u001b[1;33m,\u001b[0m \u001b[0mscreen\u001b[0m\u001b[1;33m,\u001b[0m \u001b[0mstacktrace\u001b[0m\u001b[1;33m,\u001b[0m \u001b[0malert_text\u001b[0m\u001b[1;33m)\u001b[0m\u001b[1;33m\u001b[0m\u001b[1;33m\u001b[0m\u001b[0m\n\u001b[1;32m--> 242\u001b[1;33m         \u001b[1;32mraise\u001b[0m \u001b[0mexception_class\u001b[0m\u001b[1;33m(\u001b[0m\u001b[0mmessage\u001b[0m\u001b[1;33m,\u001b[0m \u001b[0mscreen\u001b[0m\u001b[1;33m,\u001b[0m \u001b[0mstacktrace\u001b[0m\u001b[1;33m)\u001b[0m\u001b[1;33m\u001b[0m\u001b[1;33m\u001b[0m\u001b[0m\n\u001b[0m\u001b[0;32m    243\u001b[0m \u001b[1;33m\u001b[0m\u001b[0m\n\u001b[0;32m    244\u001b[0m     \u001b[1;32mdef\u001b[0m \u001b[0m_value_or_default\u001b[0m\u001b[1;33m(\u001b[0m\u001b[0mself\u001b[0m\u001b[1;33m,\u001b[0m \u001b[0mobj\u001b[0m\u001b[1;33m,\u001b[0m \u001b[0mkey\u001b[0m\u001b[1;33m,\u001b[0m \u001b[0mdefault\u001b[0m\u001b[1;33m)\u001b[0m\u001b[1;33m:\u001b[0m\u001b[1;33m\u001b[0m\u001b[1;33m\u001b[0m\u001b[0m\n",
      "\u001b[1;31mStaleElementReferenceException\u001b[0m: Message: The element reference of <div class=\"sf sf__accord__locked\"> is stale; either the element is no longer attached to the DOM, it is not in the current frame context, or the document has been refreshed\n"
     ]
    }
   ],
   "metadata": {}
  },
  {
   "cell_type": "code",
   "execution_count": 77,
   "source": [
    "results[1]"
   ],
   "outputs": [
    {
     "output_type": "execute_result",
     "data": {
      "text/plain": [
       "<li class=\"grid pl__container__sp blk__lg__3 blk__md__4 blk__sm__6 blk__xs__6\"><div class=\"sp grid\"><a aria-label=\"/samsung-galaxy-z-series-fold3-5g-256-gb-12-gb-ram-phantom-green-smartphone/p/491997495\" attr-tag=\"link\" href=\"/samsung-galaxy-z-series-fold3-5g-256-gb-12-gb-ram-phantom-green-smartphone/p/491997495\" target=\"_blank\"><div class=\"sp__product\"><div class=\"sp__productbox\"><div class=\"sp__productbox__cb clearfix\"></div><div style=\"text-align: center; position: relative;\"><div class=\"lazy-load-image-background lazy-load-image-loaded-blur blur\" style=\"width: 180px; height: 180px; overflow: visible; position: relative; padding-top: 0px; margin: auto; display: block; background: transparent none repeat scroll 0% 0%;\"><img alt=\"Range Product\" class=\"img-responsive imgCenter\" data-srcset=\"/medias/Samsung-Galaxy-Z-Fold-3-Smartphone-491997495-i-1-1200Wx1200H-300Wx300H?context=bWFzdGVyfGltYWdlc3wyMzk2NHxpbWFnZS9qcGVnfGltYWdlcy9oOWIvaGZmLzk2MTc1MTQxMzU1ODIuanBnfGUyOTI2NWQ1MmNiMjU1MWYxNDAxZGExZWRiYTAxMmQ2N2U5NjAwZTAxNzMzMDU0MzFlMWMyMmY4ZTQ4Y2FkMTE\" id=\"\" src=\"/medias/Samsung-Galaxy-Z-Fold-3-Smartphone-491997495-i-1-1200Wx1200H-300Wx300H?context=bWFzdGVyfGltYWdlc3wyMzk2NHxpbWFnZS9qcGVnfGltYWdlcy9oOWIvaGZmLzk2MTc1MTQxMzU1ODIuanBnfGUyOTI2NWQ1MmNiMjU1MWYxNDAxZGExZWRiYTAxMmQ2N2U5NjAwZTAxNzMzMDU0MzFlMWMyMmY4ZTQ4Y2FkMTE\" style=\"margin: auto; max-height: 180px; display: block; width: 180px; height: 180px;\"/></div></div></div><div class=\"slider-text\"><p class=\"sp__name\">Samsung Galaxy Z Series Fold3 5G 256 GB, 12 GB RAM, Phantom Green, Smartphone</p><div class=\"sc-chPdSV cfMmfZ\"><div class=\"sc-chPdSV iesTLv\"><div class=\"sc-bwzfXH jWpSeo sc-bxivhb hILMWQ\"><span class=\"sc-bxivhb dmBTBc\">₹149,999</span></div></div></div><div class=\"sp__chip sc-bwzfXH gzmYXA\"><div background=\"lightGreen1\" bordercolor=\"\" class=\"sc-hmzhuo eRHmmU\">offers available</div><div background=\"lightGreen1\" bordercolor=\"\" class=\"sc-hmzhuo eRHmmU\">Pre-Order</div></div></div></div><div class=\"sc-bxivhb sc-bwzfXH glOPZP sc-frDJqD dVBfBa\"><button class=\"ripple sc-bwzfXH kgiZNr sc-jzJRlG gtYkTT\" id=\"\" theme=\"link\" type=\"button\"><span class=\"sc-bxivhb hJDoTy\"><div class=\"sc-eqIVtm evJMSO\"><label class=\"sc-fAjcbJ jJeCPu\"><input class=\"sc-cHGsZl cdSVVX\" name=\"compare\" type=\"checkbox\"/><span class=\"sc-caSCKo gZGyCB\" font-weight=\"normal\">Compare</span><span class=\"sc-gisBJw hZQfTt\"></span></label></div></span></button><button class=\"ripple sc-kvZOFW jmaJFn sc-jzJRlG gtYkTT\" id=\"\" theme=\"link\" type=\"button\"><span class=\"sc-bxivhb hJDoTy\"><i class=\"fa fa-heart-o\"></i> Wishlist</span></button></div></a></div></li>"
      ]
     },
     "metadata": {},
     "execution_count": 77
    }
   ],
   "metadata": {}
  },
  {
   "cell_type": "code",
   "execution_count": 78,
   "source": [
    "item = results[3]"
   ],
   "outputs": [],
   "metadata": {}
  },
  {
   "cell_type": "code",
   "execution_count": 79,
   "source": [
    "product_name = item.find('p', {'class':'sp__name'})\r\n",
    "product_name.text"
   ],
   "outputs": [
    {
     "output_type": "execute_result",
     "data": {
      "text/plain": [
       "'Samsung Galaxy Z Fold2 256 GB, 12 GB RAM, Mystic Bronze, Smartphone'"
      ]
     },
     "metadata": {},
     "execution_count": 79
    }
   ],
   "metadata": {}
  },
  {
   "cell_type": "code",
   "execution_count": 80,
   "source": [
    "product_price_discounted = item.find('span',{'class':'sc-bxivhb dmBTBc'})\r\n",
    "product_price_discounted.text\r\n",
    "\r\n",
    "product_price_actual = item.find('em')\r\n",
    "product_price_actual.text"
   ],
   "outputs": [
    {
     "output_type": "execute_result",
     "data": {
      "text/plain": [
       "'₹189999'"
      ]
     },
     "metadata": {},
     "execution_count": 80
    }
   ],
   "metadata": {}
  },
  {
   "cell_type": "code",
   "execution_count": 81,
   "source": [
    "product_status = item.find_all('div', {'class':'sc-hmzhuo eRHmmU'})\r\n",
    "product_status[0].text"
   ],
   "outputs": [
    {
     "output_type": "execute_result",
     "data": {
      "text/plain": [
       "'offers available'"
      ]
     },
     "metadata": {},
     "execution_count": 81
    }
   ],
   "metadata": {}
  },
  {
   "cell_type": "code",
   "execution_count": 82,
   "source": [
    "# click on item to open its page\r\n",
    "link = driver.find_element_by_xpath(\"//div[@class='sp__productbox']\")\r\n",
    "link.click()\r\n",
    "new_window = driver.window_handles[1]\r\n",
    "original_window = driver.window_handles[0]\r\n",
    "driver.switch_to.window(new_window)\r\n",
    "# click on see more\r\n",
    "#WebDriverWait(driver, 15).until(EC.url_changes(current_url))\r\n"
   ],
   "outputs": [],
   "metadata": {}
  },
  {
   "cell_type": "code",
   "execution_count": 83,
   "source": [
    "see_more = driver.find_element_by_xpath(\"//div[@id='RIL_seeMore_Component']\")\r\n",
    "see_more.click()\r\n",
    "info_soup = BeautifulSoup(driver.page_source, 'html.parser')\r\n",
    "info = info_soup.find_all('ul', {'class':'p__5 sc-jhAzac LseCe'})\r\n",
    "for i in info:\r\n",
    "    print(i.text)\r\n",
    "driver.close()\r\n",
    "driver.switch_to.window(original_window)"
   ],
   "outputs": [
    {
     "output_type": "stream",
     "name": "stdout",
     "text": [
      "19.30 cm (7.6 inch) Dynamic AMOLED 2X Infinity Flex Display15.74 cm (6.2 inch) Infinity-O AMOLED 2X Cover Display12 GB Memory, 512 GB Storage12 MP, 12 MP, 12 MP Rear Camera, Dolby Speakers\n"
     ]
    }
   ],
   "metadata": {}
  },
  {
   "cell_type": "code",
   "execution_count": null,
   "source": [],
   "outputs": [],
   "metadata": {}
  }
 ],
 "metadata": {
  "kernelspec": {
   "display_name": "Python 3 (ipykernel)",
   "language": "python",
   "name": "python3"
  },
  "language_info": {
   "name": "python",
   "version": "3.9.6",
   "mimetype": "text/x-python",
   "codemirror_mode": {
    "name": "ipython",
    "version": 3
   },
   "pygments_lexer": "ipython3",
   "nbconvert_exporter": "python",
   "file_extension": ".py"
  }
 },
 "nbformat": 4,
 "nbformat_minor": 5
}