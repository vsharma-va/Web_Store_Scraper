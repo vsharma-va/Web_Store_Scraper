{
 "cells": [
  {
   "cell_type": "code",
   "execution_count": 297,
   "source": [
    "from bs4 import BeautifulSoup\r\n",
    "from selenium import webdriver\r\n",
    "from selenium.webdriver.support.ui import WebDriverWait\r\n",
    "from selenium.webdriver.support import expected_conditions as EC\r\n",
    "from selenium.webdriver.common.keys import Keys\r\n",
    "from selenium.webdriver.common.by import By\r\n",
    "import time\r\n",
    "options = webdriver.FirefoxOptions()\r\n",
    "options.set_preference(\"dom.push.enabled\", False)\r\n",
    "driver = webdriver.Firefox(options=options, executable_path='../Resources/geckodriver.exe')\r\n",
    "driver.maximize_window()"
   ],
   "outputs": [],
   "metadata": {}
  },
  {
   "cell_type": "code",
   "execution_count": null,
   "source": [],
   "outputs": [],
   "metadata": {}
  },
  {
   "cell_type": "code",
   "execution_count": 298,
   "source": [
    "# S101711 = smartphones\r\n",
    "# S101010 = bags, cases and sleeves"
   ],
   "outputs": [],
   "metadata": {}
  },
  {
   "cell_type": "code",
   "execution_count": 299,
   "source": [
    "def create_link(search_term):\r\n",
    "    link = \"https://www.reliancedigital.in/search?q={}:price-desc\"\r\n",
    "    f = search_term.replace(' ', '%20')\r\n",
    "    url = link.format(f)\r\n",
    "    url += '&page={}'\r\n",
    "    return url"
   ],
   "outputs": [],
   "metadata": {}
  },
  {
   "cell_type": "code",
   "execution_count": 300,
   "source": [
    "filter_list = []\r\n",
    "y = create_link('smasung mobile').format('0')\r\n",
    "driver.get(y)\r\n",
    "WebDriverWait(driver, 10).until(EC.presence_of_all_elements_located(\r\n",
    "    (By.XPATH, \"//div[@class='sf sf__accord__locked']\")))\r\n",
    "time.sleep(2)\r\n",
    "see = driver.find_element_by_xpath(\"//div[@class='show-more__action']\")\r\n",
    "see.click()\r\n",
    "categories = driver.find_elements_by_xpath(\"//div[@class='sf sf__accord__locked']\")\r\n",
    "for i in categories:\r\n",
    "    filter_list.append(i.text)"
   ],
   "outputs": [],
   "metadata": {}
  },
  {
   "cell_type": "code",
   "execution_count": 301,
   "source": [
    "display_counter = 0\r\n",
    "category_list = []\r\n",
    "for elements in filter_list:\r\n",
    "    if 'Category' in elements:\r\n",
    "        category_list.append(elements.split('\\n'))\r\n",
    "\r\n",
    "category_list[0].remove('Category')\r\n",
    "category_list[0].remove('See less')\r\n",
    "\r\n",
    "for k in category_list:\r\n",
    "    for category_element in k:\r\n",
    "        print(display_counter, category_element)\r\n",
    "        display_counter += 1\r\n",
    "\r\n",
    "user_input = int(input(\"Enter the index number of the category you want to search\")    )\r\n",
    "user_selection = category_list[0][user_input]\r\n",
    "print(user_selection)"
   ],
   "outputs": [
    {
     "output_type": "stream",
     "name": "stdout",
     "text": [
      "0 Smartphones\n",
      "1 Bags, Cases & Sleeves\n",
      "2 Mobile case, Back Cover\n",
      "3 Televisions\n",
      "4 Mobile Screen Protectors\n",
      "5 Screen Guards & Protectors\n",
      "6 Chargers & Adapters\n",
      "7 Mobile Chargers, Adapters\n",
      "8 Batteries & Power Banks\n",
      "9 Power Banks\n",
      "10 Computer Monitors\n",
      "Smartphones\n"
     ]
    }
   ],
   "metadata": {}
  },
  {
   "cell_type": "code",
   "execution_count": 302,
   "source": [
    "WebDriverWait(driver, 10).until(EC.presence_of_all_elements_located(\r\n",
    "    (By.XPATH, \"//div[@class='sp__product']\")))\r\n",
    "time.sleep(2)\r\n",
    "xpath = \"//input[@id='category-{}']\"\r\n",
    "xpath_full = xpath.format(user_selection)\r\n",
    "l = driver.find_element_by_xpath(xpath_full)\r\n",
    "l.send_keys(Keys.SPACE)\r\n",
    "time.sleep(10)\r\n",
    "soup = BeautifulSoup(driver.page_source, 'html.parser')\r\n",
    "results = soup.find_all('li', {'class':'grid pl__container__sp blk__lg__3 blk__md__4 blk__sm__6 blk__xs__6'})"
   ],
   "outputs": [],
   "metadata": {}
  },
  {
   "cell_type": "code",
   "execution_count": 303,
   "source": [
    "results[1]"
   ],
   "outputs": [
    {
     "output_type": "execute_result",
     "data": {
      "text/plain": [
       "<li class=\"grid pl__container__sp blk__lg__3 blk__md__4 blk__sm__6 blk__xs__6\"><div class=\"sp grid\"><a aria-label=\"/samsung-galaxy-z-series-fold3-5g-256-gb-12-gb-ram-phantom-green-smartphone/p/491997495\" attr-tag=\"link\" href=\"/samsung-galaxy-z-series-fold3-5g-256-gb-12-gb-ram-phantom-green-smartphone/p/491997495\" target=\"_blank\"><div class=\"sp__product\"><div class=\"sp__productbox\"><div class=\"sp__productbox__cb clearfix\"></div><div style=\"text-align: center; position: relative;\"><div class=\"lazy-load-image-background lazy-load-image-loaded-blur blur\" style=\"width: 180px; height: 180px; overflow: visible; position: relative; padding-top: 0px; margin: auto; display: block; background: transparent none repeat scroll 0% 0%;\"><img alt=\"Range Product\" class=\"img-responsive imgCenter\" data-srcset=\"/medias/Samsung-Galaxy-Z-Fold-3-Smartphone-491997495-i-1-1200Wx1200H-300Wx300H?context=bWFzdGVyfGltYWdlc3wyMzk2NHxpbWFnZS9qcGVnfGltYWdlcy9oOWIvaGZmLzk2MTc1MTQxMzU1ODIuanBnfGUyOTI2NWQ1MmNiMjU1MWYxNDAxZGExZWRiYTAxMmQ2N2U5NjAwZTAxNzMzMDU0MzFlMWMyMmY4ZTQ4Y2FkMTE\" id=\"\" src=\"/medias/Samsung-Galaxy-Z-Fold-3-Smartphone-491997495-i-1-1200Wx1200H-300Wx300H?context=bWFzdGVyfGltYWdlc3wyMzk2NHxpbWFnZS9qcGVnfGltYWdlcy9oOWIvaGZmLzk2MTc1MTQxMzU1ODIuanBnfGUyOTI2NWQ1MmNiMjU1MWYxNDAxZGExZWRiYTAxMmQ2N2U5NjAwZTAxNzMzMDU0MzFlMWMyMmY4ZTQ4Y2FkMTE\" style=\"margin: auto; max-height: 180px; display: block; width: 180px; height: 180px;\"/></div></div></div><div class=\"slider-text\"><p class=\"sp__name\">Samsung Galaxy Z Series Fold3 5G 256 GB, 12 GB RAM, Phantom Green, Smartphone</p><div class=\"sc-chPdSV cfMmfZ\"><div class=\"sc-chPdSV iesTLv\"><div class=\"sc-bwzfXH jWpSeo sc-bxivhb hILMWQ\"><span class=\"sc-bxivhb dmBTBc\">₹149,999</span></div></div></div><div class=\"sp__chip sc-bwzfXH gzmYXA\"><div background=\"lightGreen1\" bordercolor=\"\" class=\"sc-hmzhuo eRHmmU\">offers available</div><div background=\"lightGreen1\" bordercolor=\"\" class=\"sc-hmzhuo eRHmmU\">Pre-Order</div></div></div></div><div class=\"sc-bxivhb sc-bwzfXH glOPZP sc-frDJqD dVBfBa\"><button class=\"ripple sc-bwzfXH kgiZNr sc-jzJRlG gtYkTT\" id=\"\" theme=\"link\" type=\"button\"><span class=\"sc-bxivhb hJDoTy\"><div class=\"sc-eqIVtm evJMSO\"><label class=\"sc-fAjcbJ jJeCPu\"><input class=\"sc-cHGsZl cdSVVX\" name=\"compare\" type=\"checkbox\"/><span class=\"sc-caSCKo gZGyCB\" font-weight=\"normal\">Compare</span><span class=\"sc-gisBJw hZQfTt\"></span></label></div></span></button><button class=\"ripple sc-kvZOFW jmaJFn sc-jzJRlG gtYkTT\" id=\"\" theme=\"link\" type=\"button\"><span class=\"sc-bxivhb hJDoTy\"><i class=\"fa fa-heart-o\"></i> Wishlist</span></button></div></a></div></li>"
      ]
     },
     "metadata": {},
     "execution_count": 303
    }
   ],
   "metadata": {}
  },
  {
   "cell_type": "code",
   "execution_count": 304,
   "source": [
    "item = results[0]"
   ],
   "outputs": [],
   "metadata": {}
  },
  {
   "cell_type": "code",
   "execution_count": 305,
   "source": [
    "product_name = item.find('p', {'class':'sp__name'})\r\n",
    "product_name.text"
   ],
   "outputs": [
    {
     "output_type": "execute_result",
     "data": {
      "text/plain": [
       "'Samsung Galaxy Z Series Fold3 5G 512 GB, 12 GB RAM, Phantom Black, Smartphone'"
      ]
     },
     "metadata": {},
     "execution_count": 305
    }
   ],
   "metadata": {}
  },
  {
   "cell_type": "code",
   "execution_count": 306,
   "source": [
    "product_price_discounted = item.find('span',{'class':'sc-bxivhb dmBTBc'})\r\n",
    "product_price_discounted.text\r\n",
    "\r\n",
    "#product_price_actual = item.find('em')\r\n",
    "#product_price_actual.text"
   ],
   "outputs": [
    {
     "output_type": "execute_result",
     "data": {
      "text/plain": [
       "'₹157,999'"
      ]
     },
     "metadata": {},
     "execution_count": 306
    }
   ],
   "metadata": {}
  },
  {
   "cell_type": "code",
   "execution_count": 307,
   "source": [
    "product_status = item.find_all('div', {'class':'sc-hmzhuo eRHmmU'})\r\n",
    "product_status[1].text\r\n"
   ],
   "outputs": [
    {
     "output_type": "execute_result",
     "data": {
      "text/plain": [
       "'Pre-Order'"
      ]
     },
     "metadata": {},
     "execution_count": 307
    }
   ],
   "metadata": {}
  },
  {
   "cell_type": "code",
   "execution_count": 296,
   "source": [
    "# click on item to open its page\r\n",
    "x = driver.find_elements_by_xpath(\"//p[@class='sp__name']\")\r\n",
    "for i in x:\r\n",
    "    print(i.text)\r\n",
    "new_window = driver.window_handles[1]\r\n",
    "original_window = driver.window_handles[0]\r\n",
    "driver.switch_to.window(new_window)\r\n",
    "# click on see more\r\n",
    "#WebDriverWait(driver, 15).until(EC.url_changes(current_url))\r\n"
   ],
   "outputs": [
    {
     "output_type": "error",
     "ename": "WebDriverException",
     "evalue": "Message: Failed to write request to stream\n",
     "traceback": [
      "\u001b[1;31m---------------------------------------------------------------------------\u001b[0m",
      "\u001b[1;31mWebDriverException\u001b[0m                        Traceback (most recent call last)",
      "\u001b[1;32m~\\AppData\\Local\\Temp/ipykernel_15132/1705314817.py\u001b[0m in \u001b[0;36m<module>\u001b[1;34m\u001b[0m\n\u001b[0;32m      1\u001b[0m \u001b[1;31m# click on item to open its page\u001b[0m\u001b[1;33m\u001b[0m\u001b[1;33m\u001b[0m\u001b[1;33m\u001b[0m\u001b[0m\n\u001b[1;32m----> 2\u001b[1;33m \u001b[0mx\u001b[0m \u001b[1;33m=\u001b[0m \u001b[0mdriver\u001b[0m\u001b[1;33m.\u001b[0m\u001b[0mfind_elements_by_xpath\u001b[0m\u001b[1;33m(\u001b[0m\u001b[1;34m\"//p[@class='sp__name']\"\u001b[0m\u001b[1;33m)\u001b[0m\u001b[1;33m\u001b[0m\u001b[1;33m\u001b[0m\u001b[0m\n\u001b[0m\u001b[0;32m      3\u001b[0m \u001b[1;32mfor\u001b[0m \u001b[0mi\u001b[0m \u001b[1;32min\u001b[0m \u001b[0mx\u001b[0m\u001b[1;33m:\u001b[0m\u001b[1;33m\u001b[0m\u001b[1;33m\u001b[0m\u001b[0m\n\u001b[0;32m      4\u001b[0m     \u001b[0mprint\u001b[0m\u001b[1;33m(\u001b[0m\u001b[0mi\u001b[0m\u001b[1;33m.\u001b[0m\u001b[0mtext\u001b[0m\u001b[1;33m)\u001b[0m\u001b[1;33m\u001b[0m\u001b[1;33m\u001b[0m\u001b[0m\n\u001b[0;32m      5\u001b[0m \u001b[0mnew_window\u001b[0m \u001b[1;33m=\u001b[0m \u001b[0mdriver\u001b[0m\u001b[1;33m.\u001b[0m\u001b[0mwindow_handles\u001b[0m\u001b[1;33m[\u001b[0m\u001b[1;36m1\u001b[0m\u001b[1;33m]\u001b[0m\u001b[1;33m\u001b[0m\u001b[1;33m\u001b[0m\u001b[0m\n",
      "\u001b[1;32mF:\\Anaconda\\envs\\webscraping\\lib\\site-packages\\selenium\\webdriver\\remote\\webdriver.py\u001b[0m in \u001b[0;36mfind_elements_by_xpath\u001b[1;34m(self, xpath)\u001b[0m\n\u001b[0;32m    408\u001b[0m             \u001b[0melements\u001b[0m \u001b[1;33m=\u001b[0m \u001b[0mdriver\u001b[0m\u001b[1;33m.\u001b[0m\u001b[0mfind_elements_by_xpath\u001b[0m\u001b[1;33m(\u001b[0m\u001b[1;34m\"//div[contains(@class, 'foo')]\"\u001b[0m\u001b[1;33m)\u001b[0m\u001b[1;33m\u001b[0m\u001b[1;33m\u001b[0m\u001b[0m\n\u001b[0;32m    409\u001b[0m         \"\"\"\n\u001b[1;32m--> 410\u001b[1;33m         \u001b[1;32mreturn\u001b[0m \u001b[0mself\u001b[0m\u001b[1;33m.\u001b[0m\u001b[0mfind_elements\u001b[0m\u001b[1;33m(\u001b[0m\u001b[0mby\u001b[0m\u001b[1;33m=\u001b[0m\u001b[0mBy\u001b[0m\u001b[1;33m.\u001b[0m\u001b[0mXPATH\u001b[0m\u001b[1;33m,\u001b[0m \u001b[0mvalue\u001b[0m\u001b[1;33m=\u001b[0m\u001b[0mxpath\u001b[0m\u001b[1;33m)\u001b[0m\u001b[1;33m\u001b[0m\u001b[1;33m\u001b[0m\u001b[0m\n\u001b[0m\u001b[0;32m    411\u001b[0m \u001b[1;33m\u001b[0m\u001b[0m\n\u001b[0;32m    412\u001b[0m     \u001b[1;32mdef\u001b[0m \u001b[0mfind_element_by_link_text\u001b[0m\u001b[1;33m(\u001b[0m\u001b[0mself\u001b[0m\u001b[1;33m,\u001b[0m \u001b[0mlink_text\u001b[0m\u001b[1;33m)\u001b[0m\u001b[1;33m:\u001b[0m\u001b[1;33m\u001b[0m\u001b[1;33m\u001b[0m\u001b[0m\n",
      "\u001b[1;32mF:\\Anaconda\\envs\\webscraping\\lib\\site-packages\\selenium\\webdriver\\remote\\webdriver.py\u001b[0m in \u001b[0;36mfind_elements\u001b[1;34m(self, by, value)\u001b[0m\n\u001b[0;32m   1003\u001b[0m         \u001b[1;31m# Return empty list if driver returns null\u001b[0m\u001b[1;33m\u001b[0m\u001b[1;33m\u001b[0m\u001b[1;33m\u001b[0m\u001b[0m\n\u001b[0;32m   1004\u001b[0m         \u001b[1;31m# See https://github.com/SeleniumHQ/selenium/issues/4555\u001b[0m\u001b[1;33m\u001b[0m\u001b[1;33m\u001b[0m\u001b[1;33m\u001b[0m\u001b[0m\n\u001b[1;32m-> 1005\u001b[1;33m         return self.execute(Command.FIND_ELEMENTS, {\n\u001b[0m\u001b[0;32m   1006\u001b[0m             \u001b[1;34m'using'\u001b[0m\u001b[1;33m:\u001b[0m \u001b[0mby\u001b[0m\u001b[1;33m,\u001b[0m\u001b[1;33m\u001b[0m\u001b[1;33m\u001b[0m\u001b[0m\n\u001b[0;32m   1007\u001b[0m             'value': value})['value'] or []\n",
      "\u001b[1;32mF:\\Anaconda\\envs\\webscraping\\lib\\site-packages\\selenium\\webdriver\\remote\\webdriver.py\u001b[0m in \u001b[0;36mexecute\u001b[1;34m(self, driver_command, params)\u001b[0m\n\u001b[0;32m    319\u001b[0m         \u001b[0mresponse\u001b[0m \u001b[1;33m=\u001b[0m \u001b[0mself\u001b[0m\u001b[1;33m.\u001b[0m\u001b[0mcommand_executor\u001b[0m\u001b[1;33m.\u001b[0m\u001b[0mexecute\u001b[0m\u001b[1;33m(\u001b[0m\u001b[0mdriver_command\u001b[0m\u001b[1;33m,\u001b[0m \u001b[0mparams\u001b[0m\u001b[1;33m)\u001b[0m\u001b[1;33m\u001b[0m\u001b[1;33m\u001b[0m\u001b[0m\n\u001b[0;32m    320\u001b[0m         \u001b[1;32mif\u001b[0m \u001b[0mresponse\u001b[0m\u001b[1;33m:\u001b[0m\u001b[1;33m\u001b[0m\u001b[1;33m\u001b[0m\u001b[0m\n\u001b[1;32m--> 321\u001b[1;33m             \u001b[0mself\u001b[0m\u001b[1;33m.\u001b[0m\u001b[0merror_handler\u001b[0m\u001b[1;33m.\u001b[0m\u001b[0mcheck_response\u001b[0m\u001b[1;33m(\u001b[0m\u001b[0mresponse\u001b[0m\u001b[1;33m)\u001b[0m\u001b[1;33m\u001b[0m\u001b[1;33m\u001b[0m\u001b[0m\n\u001b[0m\u001b[0;32m    322\u001b[0m             response['value'] = self._unwrap_value(\n\u001b[0;32m    323\u001b[0m                 response.get('value', None))\n",
      "\u001b[1;32mF:\\Anaconda\\envs\\webscraping\\lib\\site-packages\\selenium\\webdriver\\remote\\errorhandler.py\u001b[0m in \u001b[0;36mcheck_response\u001b[1;34m(self, response)\u001b[0m\n\u001b[0;32m    240\u001b[0m                 \u001b[0malert_text\u001b[0m \u001b[1;33m=\u001b[0m \u001b[0mvalue\u001b[0m\u001b[1;33m[\u001b[0m\u001b[1;34m'alert'\u001b[0m\u001b[1;33m]\u001b[0m\u001b[1;33m.\u001b[0m\u001b[0mget\u001b[0m\u001b[1;33m(\u001b[0m\u001b[1;34m'text'\u001b[0m\u001b[1;33m)\u001b[0m\u001b[1;33m\u001b[0m\u001b[1;33m\u001b[0m\u001b[0m\n\u001b[0;32m    241\u001b[0m             \u001b[1;32mraise\u001b[0m \u001b[0mexception_class\u001b[0m\u001b[1;33m(\u001b[0m\u001b[0mmessage\u001b[0m\u001b[1;33m,\u001b[0m \u001b[0mscreen\u001b[0m\u001b[1;33m,\u001b[0m \u001b[0mstacktrace\u001b[0m\u001b[1;33m,\u001b[0m \u001b[0malert_text\u001b[0m\u001b[1;33m)\u001b[0m\u001b[1;33m\u001b[0m\u001b[1;33m\u001b[0m\u001b[0m\n\u001b[1;32m--> 242\u001b[1;33m         \u001b[1;32mraise\u001b[0m \u001b[0mexception_class\u001b[0m\u001b[1;33m(\u001b[0m\u001b[0mmessage\u001b[0m\u001b[1;33m,\u001b[0m \u001b[0mscreen\u001b[0m\u001b[1;33m,\u001b[0m \u001b[0mstacktrace\u001b[0m\u001b[1;33m)\u001b[0m\u001b[1;33m\u001b[0m\u001b[1;33m\u001b[0m\u001b[0m\n\u001b[0m\u001b[0;32m    243\u001b[0m \u001b[1;33m\u001b[0m\u001b[0m\n\u001b[0;32m    244\u001b[0m     \u001b[1;32mdef\u001b[0m \u001b[0m_value_or_default\u001b[0m\u001b[1;33m(\u001b[0m\u001b[0mself\u001b[0m\u001b[1;33m,\u001b[0m \u001b[0mobj\u001b[0m\u001b[1;33m,\u001b[0m \u001b[0mkey\u001b[0m\u001b[1;33m,\u001b[0m \u001b[0mdefault\u001b[0m\u001b[1;33m)\u001b[0m\u001b[1;33m:\u001b[0m\u001b[1;33m\u001b[0m\u001b[1;33m\u001b[0m\u001b[0m\n",
      "\u001b[1;31mWebDriverException\u001b[0m: Message: Failed to write request to stream\n"
     ]
    }
   ],
   "metadata": {}
  },
  {
   "cell_type": "code",
   "execution_count": 273,
   "source": [
    "see_more = driver.find_element_by_xpath(\"//span[@id='specificationsIdMain']\")\r\n",
    "see_more.click()\r\n",
    "info_soup = BeautifulSoup(driver.page_source, 'html.parser')\r\n",
    "info_header = info_soup.find_all('div', {'class':'pdp__tab-info__header'})\r\n",
    "info = info_soup.find_all('ul', {'class': 'pdp__tab-info__list'})\r\n",
    "info_name = info_soup.find_all('div', {'class':'pdp__tab-info__list__name blk__sm__6 blk__xs__6'})\r\n",
    "info_value = info_soup.find_all('div', {'class':'pdp__tab-info__list__value blk__sm__6 blk__xs__6'})\r\n"
   ],
   "outputs": [],
   "metadata": {}
  },
  {
   "cell_type": "code",
   "execution_count": null,
   "source": [
    "print(info_header)\r\n",
    "# print(info_name)\r\n",
    "# print(info_value)"
   ],
   "outputs": [],
   "metadata": {}
  },
  {
   "cell_type": "code",
   "execution_count": 188,
   "source": [
    "driver.switch_to.window(original_window)"
   ],
   "outputs": [],
   "metadata": {}
  },
  {
   "cell_type": "code",
   "execution_count": 274,
   "source": [
    "a=[]\r\n",
    "b=[]\r\n",
    "c=[]\r\n",
    "d=[]\r\n",
    "for i in info_header:\r\n",
    "    a.append(i.text)\r\n",
    "for h in info:\r\n",
    "    b.append(h.text)\r\n",
    "for k in info_value:\r\n",
    "    c.append(k.text)\r\n",
    "for t in info_name:\r\n",
    "    d.append(t.text)"
   ],
   "outputs": [],
   "metadata": {}
  },
  {
   "cell_type": "code",
   "execution_count": 230,
   "source": [
    "print(a)\r\n",
    "print()\r\n",
    "print()\r\n",
    "print(b)\r\n",
    "print()\r\n",
    "print()\r\n",
    "print(c)\r\n",
    "print()\r\n",
    "print()\r\n",
    "print(d)"
   ],
   "outputs": [
    {
     "output_type": "stream",
     "name": "stdout",
     "text": [
      "[' General Information', ' Phone Hardware & Storage', ' Phone Build & Convenience', ' Phone OS', ' Network & Inter-device Connectivity', ' Phone Battery & Charge Time', ' Phone Network & Inter-device Connectivity', ' Screen Display & Camera', ' Hardware Details', ' Features', ' Power Details', ' Additional Features', ' In The Box & Warranty', ' Manufacturing & Packing Information']\n",
      "\n",
      "\n",
      "['ColourPhantom BlackSeriesZ SeriesSub-brandGalaxyModelFold3 5GBrandSamsung', 'Internal Storage512 GBProcessor1.8 GHz, 2.4 GHz Octa Core Qualcomm Snapdragon 888', 'Height15.82 cmsWidth12.81 cmsThickness0.64 cmsWeight271 gramsWater ResistantYesFingerprint RecognitionYesSensorsAccelerometer, Barometer, Fingerprint Sensor, Gyro Sensor, Geo-magnetic, Hall Sensor, Light Sensor, Proximity', 'Operating SystemAndroid 11.0', '4GYes - LTEUSBYes', 'Battery Capacity4400 mAhQuick ChargeYes', 'Bluetooth Versionv5.0BluetoothYesAudio JackYesWi-FiYesAdditional ConnectivityGPS,  OTGCellular TechnologyGSM + WCDMA + LTE', 'Screen Size (Diagonal)19.30 cm (7.6 inch)Primary Camera12 MP, 12 MP, 12 MP', 'Memory (RAM)12 GB', 'Operating System TypeAndroidGlass TypeCorning Gorilla Glass', 'Battery TypeLithium Ion\\xa0(Li-Ion)', \"Features4400 mAh Dual battery (2120 +2280 mAh) with Fast Wired & Wireless charging\\n16M Display Colors,  Flash Support,  HD Recording\\nOIS,  Ultra wide,  Depth & Macro Primary Camera Features\\nOptical Image Stabilisation Secondary Camera Features\\nTriple Rear Camera with Director's View,  Auto Framing,  Single Take & Night Mode\\n7.6-inch Infinity Flex Dynamic AMOLED 2X Main Display with Adaptive 120Hz Refresh rate\", 'In The BoxNon-removable Battery Included,  Data Cable (C-to-C),  Ejection Pin,  Quick Start Guide,  Protective Vinyl,  Protective Films (Pre-installed on Main & Cover Display)Warranty1 Year', \"Commodity nameMobile PhoneCountry of originIndiaName and address of ImporterSamsung India Electronics Pvt ltd,  6th Floor ,  DLF Centre,  Sansad Marg,  New Delhi - 110001 . Email id: support.india@samsung.com,  Tel(Toll Free): 1800 40 7267864Name of SellerReliance Retail Ltd.Net Quantity1NMonth and Year of Commodity First Manufactured/Imported/PackedAugust' 2021\"]\n",
      "\n",
      "\n",
      "['Phantom Black', 'Z Series', 'Galaxy', 'Fold3 5G', 'Samsung', '512 GB', '1.8 GHz, 2.4 GHz Octa Core Qualcomm Snapdragon 888', '15.82 cms', '12.81 cms', '0.64 cms', '271 grams', 'Yes', 'Yes', 'Accelerometer, Barometer, Fingerprint Sensor, Gyro Sensor, Geo-magnetic, Hall Sensor, Light Sensor, Proximity', 'Android 11.0', 'Yes - LTE', 'Yes', '4400 mAh', 'Yes', 'v5.0', 'Yes', 'Yes', 'Yes', 'GPS,  OTG', 'GSM + WCDMA + LTE', '19.30 cm (7.6 inch)', '12 MP, 12 MP, 12 MP', '12 GB', 'Android', 'Corning Gorilla Glass', 'Lithium Ion\\xa0(Li-Ion)', \"4400 mAh Dual battery (2120 +2280 mAh) with Fast Wired & Wireless charging\\n16M Display Colors,  Flash Support,  HD Recording\\nOIS,  Ultra wide,  Depth & Macro Primary Camera Features\\nOptical Image Stabilisation Secondary Camera Features\\nTriple Rear Camera with Director's View,  Auto Framing,  Single Take & Night Mode\\n7.6-inch Infinity Flex Dynamic AMOLED 2X Main Display with Adaptive 120Hz Refresh rate\", 'Non-removable Battery Included,  Data Cable (C-to-C),  Ejection Pin,  Quick Start Guide,  Protective Vinyl,  Protective Films (Pre-installed on Main & Cover Display)', '1 Year', 'Mobile Phone', 'India', 'Samsung India Electronics Pvt ltd,  6th Floor ,  DLF Centre,  Sansad Marg,  New Delhi - 110001 . Email id: support.india@samsung.com,  Tel(Toll Free): 1800 40 7267864', 'Reliance Retail Ltd.', '1N', \"August' 2021\"]\n",
      "\n",
      "\n",
      "['Colour', 'Series', 'Sub-brand', 'Model', 'Brand', 'Internal Storage', 'Processor', 'Height', 'Width', 'Thickness', 'Weight', 'Water Resistant', 'Fingerprint Recognition', 'Sensors', 'Operating System', '4G', 'USB', 'Battery Capacity', 'Quick Charge', 'Bluetooth Version', 'Bluetooth', 'Audio Jack', 'Wi-Fi', 'Additional Connectivity', 'Cellular Technology', 'Screen Size (Diagonal)', 'Primary Camera', 'Memory (RAM)', 'Operating System Type', 'Glass Type', 'Battery Type', 'Features', 'In The Box', 'Warranty', 'Commodity name', 'Country of origin', 'Name and address of Importer', 'Name of Seller', 'Net Quantity', 'Month and Year of Commodity First Manufactured/Imported/Packed']\n"
     ]
    }
   ],
   "metadata": {}
  },
  {
   "cell_type": "code",
   "execution_count": 231,
   "source": [
    "print(len(a))\r\n",
    "print(len(b))"
   ],
   "outputs": [
    {
     "output_type": "stream",
     "name": "stdout",
     "text": [
      "14\n",
      "14\n"
     ]
    }
   ],
   "metadata": {}
  },
  {
   "cell_type": "code",
   "execution_count": 275,
   "source": [
    "index_remove = []\r\n",
    "for i in range(len(c) - 1):\r\n",
    "    if product_name.text.find(c[i]) != -1:\r\n",
    "        index_remove.append(i)\r\n",
    "    if c[i].find('cms') != -1:\r\n",
    "        index_remove.append(i)\r\n",
    "    if c[i].find('Email id') != -1:\r\n",
    "        index_remove.append(i)\r\n",
    "    if c[i].find('Yes') != -1:\r\n",
    "        index_remove.append(i)\r\n",
    "    if c[i].find('Reliance') != -1:\r\n",
    "        index_remove.append(i)\r\n",
    "y = 0\r\n",
    "for h in index_remove:\r\n",
    "    c.pop(h - y)\r\n",
    "    y += 1"
   ],
   "outputs": [],
   "metadata": {}
  },
  {
   "cell_type": "code",
   "execution_count": 276,
   "source": [
    "print(c)"
   ],
   "outputs": [
    {
     "output_type": "stream",
     "name": "stdout",
     "text": [
      "['1.8 GHz, 2.4 GHz Octa Core Qualcomm Snapdragon 888', '271 grams', 'Accelerometer, Barometer, Fingerprint Sensor, Gyro Sensor, Geo-magnetic, Hall Sensor, Light Sensor, Proximity', 'Android 11.0', '4400 mAh', 'v5.0', 'GPS,  OTG', 'GSM + WCDMA + LTE', '19.30 cm (7.6 inch)', '12 MP, 12 MP, 12 MP', 'Android', 'Corning Gorilla Glass', 'Lithium Ion\\xa0(Li-Ion)', \"4400 mAh Dual battery (2120 +2280 mAh) with Fast Wired & Wireless charging\\n16M Display Colors,  Flash Support,  HD Recording\\nOIS,  Ultra wide,  Depth & Macro Primary Camera Features\\nOptical Image Stabilisation Secondary Camera Features\\nTriple Rear Camera with Director's View,  Auto Framing,  Single Take & Night Mode\\n7.6-inch Infinity Flex Dynamic AMOLED 2X Main Display with Adaptive 120Hz Refresh rate\", 'Non-removable Battery Included,  Data Cable (C-to-C),  Ejection Pin,  Quick Start Guide,  Protective Vinyl,  Protective Films (Pre-installed on Main & Cover Display)', '1 Year', 'Mobile Phone', 'India', '1N', \"August' 2021\"]\n"
     ]
    }
   ],
   "metadata": {}
  },
  {
   "cell_type": "code",
   "execution_count": null,
   "source": [],
   "outputs": [],
   "metadata": {}
  }
 ],
 "metadata": {
  "kernelspec": {
   "display_name": "Python 3 (ipykernel)",
   "language": "python",
   "name": "python3"
  },
  "language_info": {
   "name": "python",
   "version": "3.9.6",
   "mimetype": "text/x-python",
   "codemirror_mode": {
    "name": "ipython",
    "version": 3
   },
   "pygments_lexer": "ipython3",
   "nbconvert_exporter": "python",
   "file_extension": ".py"
  }
 },
 "nbformat": 4,
 "nbformat_minor": 5
}