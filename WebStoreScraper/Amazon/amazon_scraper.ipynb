{
 "cells": [
  {
   "cell_type": "code",
   "execution_count": 174,
   "id": "b437d0ef",
   "metadata": {},
   "outputs": [],
   "source": [
    "import csv\n",
    "import random\n",
    "import time\n",
    "import os\n",
    "from bs4 import BeautifulSoup"
   ]
  },
  {
   "cell_type": "code",
   "execution_count": 175,
   "id": "bf77030c",
   "metadata": {
    "scrolled": true
   },
   "outputs": [],
   "source": [
    "from selenium import webdriver\n",
    "from selenium.webdriver.common.keys import Keys\n",
    "from selenium.webdriver.common.by import By\n",
    "from selenium.webdriver.support.ui import WebDriverWait\n",
    "from selenium.webdriver.support import expected_conditions as EC"
   ]
  },
  {
   "cell_type": "code",
   "execution_count": 176,
   "id": "953a40bc",
   "metadata": {},
   "outputs": [],
   "source": [
    "driver = webdriver.Firefox(executable_path=\"../Resources/geckodriver.exe\")"
   ]
  },
  {
   "cell_type": "code",
   "execution_count": 177,
   "id": "b2e73bb6",
   "metadata": {},
   "outputs": [],
   "source": [
    "url = \"https://www.amazon.in\"\n",
    "driver.get(url)"
   ]
  },
  {
   "cell_type": "code",
   "execution_count": 178,
   "id": "c3d370ec",
   "metadata": {},
   "outputs": [],
   "source": [
    "def create_url(search_item):\n",
    "    template = \"https://www.amazon.in/s?k={}&ref=nb_sb_noss_2\"\n",
    "    item = search_item.replace(' ', '+')\n",
    "    url = template.format(item)\n",
    "    return url\n",
    "\n",
    "search = \"Xiaomi\"\n",
    "driver.get(create_url(search))"
   ]
  },
  {
   "cell_type": "code",
   "execution_count": 179,
   "id": "2651c615",
   "metadata": {},
   "outputs": [],
   "source": [
    "soup = BeautifulSoup(driver.page_source, 'html.parser')\n",
    "results = soup.find_all('div', {'data-component-type' : 's-search-result'})\n",
    "\n",
    "actual_price = []\n",
    "discounted_price = []\n",
    "device_names = []\n",
    "hovered_items = []\n",
    "hovered_price_actual = []\n",
    "hovered_price_discount = []\n",
    "amazons_items = []\n",
    "amazons_price_actual = []\n",
    "amazons_price_discount = []"
   ]
  },
  {
   "cell_type": "code",
   "execution_count": 180,
   "id": "b1e84d08",
   "metadata": {
    "scrolled": true
   },
   "outputs": [
    {
     "data": {
      "text/plain": [
       "<div class=\"s-result-item s-asin sg-col-0-of-12 sg-col-16-of-20 sg-col sg-col-12-of-16\" data-asin=\"B077PW9VBW\" data-cel-widget=\"search_result_1\" data-component-id=\"32\" data-component-type=\"s-search-result\" data-index=\"1\" data-uuid=\"4d80061a-774b-43d8-8d77-44f277367a1c\"><div class=\"sg-col-inner\">\n",
       "<span cel_widget_id=\"MAIN-SEARCH_RESULTS-1\" class=\"celwidget slot=MAIN template=SEARCH_RESULTS widgetId=search-results_1\" data-cel-widget=\"MAIN-SEARCH_RESULTS-1\" data-csa-c-id=\"fxppz5-etbakn-ecvayp-68dm1y\">\n",
       "<div class=\"s-expand-height s-include-content-margin s-latency-cf-section s-border-bottom\"><div class=\"a-section a-spacing-medium\"><div class=\"sg-row\"><div class=\"a-section a-spacing-micro s-min-height-small\"></div></div><div class=\"sg-row\"><div class=\"sg-col sg-col-4-of-12 sg-col-4-of-16 sg-col-4-of-20\"><div class=\"sg-col-inner\"><div class=\"a-section a-spacing-none\"><span class=\"rush-component\" data-component-id=\"1\" data-component-type=\"s-product-image\"><a class=\"a-link-normal s-no-outline\" href=\"/Mi-A2-Black-64GB-Storage/dp/B077PW9VBW/ref=sr_1_1?dchild=1&amp;keywords=Xiaomi&amp;qid=1630244780&amp;sr=8-1\" target=\"_blank\"><div class=\"a-section aok-relative s-image-fixed-height\"><img alt=\"MI Xiaomi Mi A2 (Black, 4GB RAM, 64GB Storage)\" class=\"s-image\" data-image-index=\"1\" data-image-latency=\"s-product-image\" data-image-load=\"\" data-image-source-density=\"1\" src=\"https://m.media-amazon.com/images/I/91v4EIl4uiL._AC_UY218_.jpg\" srcset=\"https://m.media-amazon.com/images/I/91v4EIl4uiL._AC_UY218_.jpg 1x, https://m.media-amazon.com/images/I/91v4EIl4uiL._AC_UY327_QL65_.jpg 1.5x, https://m.media-amazon.com/images/I/91v4EIl4uiL._AC_UY436_QL65_.jpg 2x, https://m.media-amazon.com/images/I/91v4EIl4uiL._AC_UY545_QL65_.jpg 2.5x, https://m.media-amazon.com/images/I/91v4EIl4uiL._AC_UY654_QL65_.jpg 3x\"/></div></a></span></div></div></div><div class=\"sg-col sg-col-4-of-12 sg-col-8-of-16 sg-col-12-of-20\"><div class=\"sg-col-inner\"><div class=\"a-section a-spacing-none\"><div class=\"a-section a-spacing-none\"><h2 class=\"a-size-mini a-spacing-none a-color-base s-line-clamp-2\"><a class=\"a-link-normal a-text-normal\" href=\"/Mi-A2-Black-64GB-Storage/dp/B077PW9VBW/ref=sr_1_1?dchild=1&amp;keywords=Xiaomi&amp;qid=1630244780&amp;sr=8-1\" target=\"_blank\"><span class=\"a-size-medium a-color-base a-text-normal\">MI Xiaomi Mi A2 (Black, 4GB RAM, 64GB Storage)</span> </a> </h2></div><div class=\"a-section a-spacing-none a-spacing-top-micro\"><div class=\"a-row a-size-small\"><span aria-label=\"4.0 out of 5 stars\"><span class=\"a-declarative\" data-a-popover='{\"closeButton\":false,\"closeButtonLabel\":\"\",\"position\":\"triggerBottom\",\"popoverLabel\":\"\",\"url\":\"/review/widgets/average-customer-review/popover/ref=acr_search__popover?ie=UTF8&amp;asin=B077PW9VBW&amp;ref=acr_search__popover&amp;contextId=search\"}' data-action=\"a-popover\"><a class=\"a-popover-trigger a-declarative\" href=\"javascript:void(0)\" role=\"button\"><i class=\"a-icon a-icon-star-small a-star-small-4 aok-align-bottom\"><span class=\"a-icon-alt\">4.0 out of 5 stars</span></i><i class=\"a-icon a-icon-popover\"></i></a></span> </span><span aria-label=\"45,576\"><a class=\"a-link-normal\" href=\"/Mi-A2-Black-64GB-Storage/dp/B077PW9VBW/ref=sr_1_1?dchild=1&amp;keywords=Xiaomi&amp;qid=1630244780&amp;sr=8-1#customerReviews\" target=\"_blank\"><span class=\"a-size-base\">45,576</span> </a> </span></div></div><div class=\"sg-row\"><div class=\"sg-col sg-col-4-of-12 sg-col-4-of-16 sg-col-4-of-20\"><div class=\"sg-col-inner\"><div class=\"a-section a-spacing-none a-spacing-top-small\"><div class=\"a-row a-size-base a-color-base\"><a class=\"a-size-mini a-link-normal a-text-normal\" href=\"/Mi-A2-Black-64GB-Storage/dp/B077PW9VBW/ref=sr_1_1?dchild=1&amp;keywords=Xiaomi&amp;qid=1630244780&amp;sr=8-1\" target=\"_blank\"><span class=\"a-price\" data-a-color=\"price\" data-a-size=\"l\"><span class=\"a-offscreen\">₹13,299</span><span aria-hidden=\"true\"><span class=\"a-price-symbol\">₹</span><span class=\"a-price-whole\">13,299</span></span></span> <span class=\"a-price a-text-price\" data-a-color=\"secondary\" data-a-size=\"b\" data-a-strike=\"true\"><span class=\"a-offscreen\">₹17,499</span><span aria-hidden=\"true\">₹17,499</span></span> </a> <span class=\"a-letter-space\"></span><span>Save ₹4,200 (24%)</span><span class=\"a-letter-space\"></span></div></div><div class=\"a-section a-spacing-none a-spacing-top-micro\"><div class=\"a-row a-size-base a-color-secondary s-align-children-center\"><div class=\"a-row s-align-children-center\"><span class=\"aok-inline-block s-image-logo-view\"><span class=\"aok-relative s-icon-text-medium s-prime\"><i aria-label=\"Amazon Prime\" class=\"a-icon a-icon-prime a-icon-medium\" role=\"img\"></i></span><span></span></span> <span aria-label=\"Get it by Tuesday, August 31\"><span>Get it by </span><span class=\"a-text-bold\">Tuesday, August 31</span></span></div><div class=\"a-row\"><span aria-label=\"FREE Delivery by Amazon\"><span>FREE Delivery by Amazon</span></span></div></div></div></div></div><div class=\"sg-col sg-col-4-of-12 sg-col-4-of-16 sg-col-8-of-20\"><div class=\"sg-col-inner\"></div></div></div></div></div></div></div></div></div>\n",
       "</span>\n",
       "</div></div>"
      ]
     },
     "execution_count": 180,
     "metadata": {},
     "output_type": "execute_result"
    }
   ],
   "source": [
    "results[0]"
   ]
  },
  {
   "cell_type": "code",
   "execution_count": 181,
   "id": "785b23bc",
   "metadata": {},
   "outputs": [
    {
     "name": "stdout",
     "output_type": "stream",
     "text": [
      "MI Xiaomi Mi A2 (Black, 4GB RAM, 64GB Storage)\n",
      "None\n"
     ]
    }
   ],
   "source": [
    "itemx = results[0]\n",
    "product_name = itemx.h2.a.span\n",
    "print(product_name.text)\n",
    "############ remove from list\n",
    "sponsored = itemx.find('span',{'aria-label':\"Amazon's Choice\"})\n",
    "print(sponsored)\n",
    "\n",
    "hover_sponsored =itemx.find('span', {'class':'s-label-popover-hover'})\n"
   ]
  },
  {
   "cell_type": "code",
   "execution_count": 182,
   "id": "33c0f80f",
   "metadata": {},
   "outputs": [],
   "source": [
    "link = driver.find_element_by_link_text(product_name.text)\n",
    "link.click()\n",
    "\n"
   ]
  },
  {
   "cell_type": "code",
   "execution_count": 189,
   "id": "d9cb627b",
   "metadata": {},
   "outputs": [
    {
     "name": "stdout",
     "output_type": "stream",
     "text": [
      "\n",
      "\n",
      "\n",
      "\n",
      "About this item\n",
      "\n",
      "\n",
      "\n",
      "12MP+20MP dual rear camera and 20MP front facing camera\n",
      "\n",
      "\n",
      "\n",
      "15.21 centimeters (5.99-inch) with 2160 x 1080 pixels resolution, 403 ppi pixel density\n",
      "\n",
      "\n",
      "\n",
      "Memory, Storage & SIM: 4GB RAM | 64GB storage | Dual nano SIM with dual standby (4G+4G)\n",
      "\n",
      "\n",
      "\n",
      "Android v8.1 Oreo operating system with 2.2GHz Qualcomm Snapdragon 660 octa core processor, Adreno 512 GPU\n",
      "\n",
      "\n",
      "\n",
      "3010mAH lithium-ion battery. Customer care: 1800 103 6286\n",
      "\n",
      "\n",
      "\n",
      "1 year manufacturer warranty for device and 6 months manufacturer warranty for in-box accessories including batteries from the date of purchase\n",
      "\n",
      "\n",
      "\n",
      "Box also includes: Adapter, USB cable, warranty card, User guide, SIM insertion tool and Back cover\n",
      "\n",
      "\n",
      "\n",
      "\n",
      "\n",
      "\n",
      "\n",
      "Smoother control & Flagship-level performance\n",
      "Low-light photos are brighter with the 20MP lens and 4-in-1 Super Pixel, based on pixel binning technology\n",
      "\n",
      "\n",
      "Show More\n",
      "\n",
      "\n",
      "\n"
     ]
    }
   ],
   "source": [
    "new_window = driver.window_handles[1]\n",
    "original_window = driver.window_handles[0]\n",
    "driver.switch_to.window(new_window)\n",
    "info_soup = BeautifulSoup(driver.page_source, 'html.parser')\n",
    "y = info_soup.find_all('div', {'id':'featurebullets_feature_div'})\n",
    "for t in y:\n",
    "    print(t.text)"
   ]
  },
  {
   "cell_type": "code",
   "execution_count": 74,
   "id": "86315af5",
   "metadata": {},
   "outputs": [
    {
     "ename": "NameError",
     "evalue": "name 'item' is not defined",
     "output_type": "error",
     "traceback": [
      "\u001b[1;31m---------------------------------------------------------------------------\u001b[0m",
      "\u001b[1;31mNameError\u001b[0m                                 Traceback (most recent call last)",
      "\u001b[1;32m~\\AppData\\Local\\Temp/ipykernel_16996/508880643.py\u001b[0m in \u001b[0;36m<module>\u001b[1;34m\u001b[0m\n\u001b[1;32m----> 1\u001b[1;33m \u001b[0mproduct_price\u001b[0m \u001b[1;33m=\u001b[0m \u001b[0mitem\u001b[0m\u001b[1;33m.\u001b[0m\u001b[0mfind\u001b[0m\u001b[1;33m(\u001b[0m\u001b[1;34m'a'\u001b[0m\u001b[1;33m,\u001b[0m \u001b[1;33m{\u001b[0m\u001b[1;34m'class'\u001b[0m\u001b[1;33m:\u001b[0m\u001b[1;34m'a-size-base a-link-normal a-text-normal'\u001b[0m\u001b[1;33m}\u001b[0m\u001b[1;33m)\u001b[0m\u001b[1;33m\u001b[0m\u001b[1;33m\u001b[0m\u001b[0m\n\u001b[0m\u001b[0;32m      2\u001b[0m \u001b[0mdiscounted_and_actual_wrong\u001b[0m \u001b[1;33m=\u001b[0m \u001b[0mproduct_price\u001b[0m\u001b[1;33m.\u001b[0m\u001b[0mtext\u001b[0m\u001b[1;33m.\u001b[0m\u001b[0msplit\u001b[0m\u001b[1;33m(\u001b[0m\u001b[1;34m' '\u001b[0m\u001b[1;33m,\u001b[0m \u001b[1;36m1\u001b[0m\u001b[1;33m)\u001b[0m\u001b[1;33m\u001b[0m\u001b[1;33m\u001b[0m\u001b[0m\n\u001b[0;32m      3\u001b[0m \u001b[0munwanted_discounted\u001b[0m \u001b[1;33m=\u001b[0m \u001b[0mdiscounted_and_actual_wrong\u001b[0m\u001b[1;33m[\u001b[0m\u001b[1;36m0\u001b[0m\u001b[1;33m]\u001b[0m\u001b[1;33m.\u001b[0m\u001b[0msplit\u001b[0m\u001b[1;33m(\u001b[0m\u001b[1;34m'₹'\u001b[0m\u001b[1;33m)\u001b[0m\u001b[1;33m\u001b[0m\u001b[1;33m\u001b[0m\u001b[0m\n\u001b[0;32m      4\u001b[0m \u001b[0mdiscounted\u001b[0m \u001b[1;33m=\u001b[0m \u001b[0munwanted_discounted\u001b[0m\u001b[1;33m[\u001b[0m\u001b[1;36m1\u001b[0m\u001b[1;33m]\u001b[0m\u001b[1;33m\u001b[0m\u001b[1;33m\u001b[0m\u001b[0m\n\u001b[0;32m      5\u001b[0m \u001b[0munwanted_actual\u001b[0m \u001b[1;33m=\u001b[0m \u001b[0mdiscounted_and_actual_wrong\u001b[0m\u001b[1;33m[\u001b[0m\u001b[1;36m1\u001b[0m\u001b[1;33m]\u001b[0m\u001b[1;33m.\u001b[0m\u001b[0msplit\u001b[0m\u001b[1;33m(\u001b[0m\u001b[1;34m'₹'\u001b[0m\u001b[1;33m)\u001b[0m\u001b[1;33m\u001b[0m\u001b[1;33m\u001b[0m\u001b[0m\n",
      "\u001b[1;31mNameError\u001b[0m: name 'item' is not defined"
     ]
    }
   ],
   "source": [
    "product_price = item.find('a', {'class':'a-size-base a-link-normal a-text-normal'})\n",
    "discounted_and_actual_wrong = product_price.text.split(' ', 1)\n",
    "unwanted_discounted = discounted_and_actual_wrong[0].split('₹')\n",
    "discounted = unwanted_discounted[1]\n",
    "unwanted_actual = discounted_and_actual_wrong[1].split('₹')\n",
    "actual = unwanted_actual[1]\n",
    "actual"
   ]
  },
  {
   "cell_type": "code",
   "execution_count": null,
   "id": "5cea7a8f",
   "metadata": {
    "scrolled": false
   },
   "outputs": [],
   "source": [
    "total_products_on_page = len(results)\n",
    "for i in range(total_products_on_page):\n",
    "    print(i)\n",
    "    item = results[i]\n",
    "    # check if they are sponsored or not\n",
    "    amazons_choice = item.find('span',{'aria-label':\"Amazon's Choice\"})\n",
    "    hovered_sponsor = item.find('span', {'class':'s-label-popover-hover'})\n",
    "    \n",
    "    \n",
    "    if amazons_choice is not None:\n",
    "        item_name_choice = item.h2.a.span\n",
    "        item_name_choice_text = item_name_choice.text\n",
    "        amazons_items.append(item_name_choice_text)\n",
    "        product_price = item.find('a', {'class':'a-size-base a-link-normal a-text-normal'})\n",
    "    \n",
    "        try:\n",
    "            discounted_and_actual_wrong = product_price.text.split(' ', 1)\n",
    "            unwanted_discounted = discounted_and_actual_wrong[0].split('₹')\n",
    "            discounted = unwanted_discounted[1]\n",
    "            unwanted_actual = discounted_and_actual_wrong[1].split('₹')\n",
    "            actual = unwanted_actual[1]\n",
    "            amazons_price_discount.append(discounted)\n",
    "            amazons_price_actual.append(actual)\n",
    "        except AttributeError:\n",
    "            amazons_price_discount.append('0')\n",
    "            amazons_price_actual.append('0')\n",
    "            print(\"Amazons Choice\")\n",
    "            continue\n",
    "        continue\n",
    "    \n",
    "    \n",
    "    if hovered_sponsor is not None:\n",
    "        item_name_hovered = item.h2.a.span\n",
    "        item_name_hovered_text = item_name_hovered.text\n",
    "        hovered_items.append(item_name_hovered_text)\n",
    "        product_price = item.find('a', {'class':'a-size-base a-link-normal a-text-normal'})\n",
    "    \n",
    "        try:\n",
    "            discounted_and_actual_wrong = product_price.text.split(' ', 1)\n",
    "            unwanted_discounted = discounted_and_actual_wrong[0].split('₹')\n",
    "            discounted = unwanted_discounted[1]\n",
    "            unwanted_actual = discounted_and_actual_wrong[1].split('₹')\n",
    "            actual = unwanted_actual[1]\n",
    "            hovered_price_discount.append(discounted)\n",
    "            hovered_price_actual.append(actual)\n",
    "        except AttributeError:\n",
    "            hovered_price_discount.append('0')\n",
    "            hovered_price_actual.append('0')\n",
    "            print(\"Hovered Sponsor\")\n",
    "            continue\n",
    "        continue\n",
    "    \n",
    "    \n",
    "    try:\n",
    "        item_name = item.h2.a.span\n",
    "        device_names.append(item_name.text)\n",
    "    except AttributeError:\n",
    "        print(\"No Name\")\n",
    "    \n",
    "    product_price = item.find('a', {'class':'a-size-base a-link-normal a-text-normal'})\n",
    "    \n",
    "    \n",
    "    \n",
    "    try:\n",
    "        discounted_and_actual_wrong = product_price.text.split(' ', 1)\n",
    "        unwanted_discounted = discounted_and_actual_wrong[0].split('₹')\n",
    "        discounted = unwanted_discounted[1]\n",
    "        unwanted_actual = discounted_and_actual_wrong[1].split('₹')\n",
    "        actual = unwanted_actual[1]\n",
    "        discounted_price.append(discounted)\n",
    "        actual_price.append(actual)\n",
    "    except AttributeError:\n",
    "        discounted_price.append('0')\n",
    "        actual_price.append('0')\n",
    "\n",
    "        \n",
    "not_done = True\n",
    "while not_done:\n",
    "    counter = 0\n",
    "    print ('\\n\\n')\n",
    "    print(\"Hovered Sponsored Group->\")\n",
    "    for z in hovered_items:\n",
    "        print(counter, z)\n",
    "        counter += 1\n",
    "    counter = 0\n",
    "    print('\\n\\n')\n",
    "    print(\"Amazons Choice Group->\")\n",
    "    for x in amazons_items:\n",
    "        print(counter, x)\n",
    "        counter += 1\n",
    "    selected_group = input('''Enter the first three leters of the group you want to delete from: \n",
    "Or Enter q to exit''')\n",
    "    delete_item_idx = int(input('''Enter the index of the item you want to delete\n",
    "Or Enter an negative number to exit'''))\n",
    "    if(selected_group == \"hov\" and delete_item_idx >= 0):\n",
    "        hovered_items.pop(delete_item_idx)\n",
    "        hovered_price_discount.pop(delete_item_idx)\n",
    "        hovered_price_actual.pop(delete_item_idx)\n",
    "    elif(selected_group == \"ama\" and delete_item_idx >= 0):\n",
    "        amazons_items.pop(delete_item_idx)\n",
    "        amazons_price_actual.pop(delete_item_idx)\n",
    "        amazons_price_discount.pop(delete_item_idx)\n",
    "    elif(selected_group == \"q\" or delete_item_idx < 0):\n",
    "        not_done = False\n",
    "        continue\n",
    "    else:\n",
    "        print(\"You may have selected a group which is not present\")\n",
    "        \n",
    "        \n",
    "print(\"These are the remaining items. What would you like to do with them ?\")\n",
    "for z in hovered_items:\n",
    "    print(counter, z)\n",
    "    counter += 1\n",
    "for x in amazons_items:\n",
    "    print(counter, x)\n",
    "    counter += 1\n",
    "\n",
    "print(\"Type ad to add all the remaining devices to the csv file if they are not already present\")\n",
    "print(\"Type de to discard all the remaining devices\")\n",
    "user_answer = input(\"Enter your choice\")\n",
    "if(user_answer == \"ad\"):\n",
    "    for i in range(len(hovered_items)):\n",
    "        if(hovered_items[i] not in device_names):\n",
    "            device_names.append(hovered_items[i])\n",
    "            actual_price.append(hovered_price_actual[i])\n",
    "            discounted_price.append(hovered_price_discounted[i])\n",
    "    for h in range(len(amazons_items)):\n",
    "        if (amazons_items[i] not in device_names):\n",
    "            device_names.append(amazons_items[i])\n",
    "            actual_price.append(amazons_price_actual[i])\n",
    "            discounted_price.append(amazons_price_discount[i])"
   ]
  },
  {
   "cell_type": "code",
   "execution_count": 299,
   "id": "d4b19ba8",
   "metadata": {},
   "outputs": [
    {
     "data": {
      "text/plain": [
       "[]"
      ]
     },
     "execution_count": 299,
     "metadata": {},
     "output_type": "execute_result"
    }
   ],
   "source": [
    "amazons_items"
   ]
  },
  {
   "cell_type": "code",
   "execution_count": 300,
   "id": "db2910d8",
   "metadata": {},
   "outputs": [
    {
     "data": {
      "text/plain": [
       "['13,299',\n",
       " '12,850',\n",
       " '17,399',\n",
       " '13,499',\n",
       " '17,399',\n",
       " '11,999',\n",
       " '17,399',\n",
       " '9,999',\n",
       " '8,999',\n",
       " '0',\n",
       " '39,999',\n",
       " '0',\n",
       " '0',\n",
       " '27,999',\n",
       " '0',\n",
       " '0']"
      ]
     },
     "execution_count": 300,
     "metadata": {},
     "output_type": "execute_result"
    }
   ],
   "source": [
    "discounted_price"
   ]
  },
  {
   "cell_type": "code",
   "execution_count": 301,
   "id": "a6562acb",
   "metadata": {},
   "outputs": [
    {
     "data": {
      "text/plain": [
       "['17,499',\n",
       " '17,499',\n",
       " '17,499',\n",
       " '16,999',\n",
       " '17,499',\n",
       " '14,999',\n",
       " '17,499',\n",
       " '11,999',\n",
       " '10,999',\n",
       " '0',\n",
       " '49,999',\n",
       " '0',\n",
       " '0',\n",
       " '33,999',\n",
       " '0',\n",
       " '0']"
      ]
     },
     "execution_count": 301,
     "metadata": {},
     "output_type": "execute_result"
    }
   ],
   "source": [
    "actual_price"
   ]
  },
  {
   "cell_type": "code",
   "execution_count": 302,
   "id": "c51801a4",
   "metadata": {},
   "outputs": [
    {
     "data": {
      "text/plain": [
       "['MI Xiaomi Mi A2 (Black, 4GB RAM, 64GB Storage)',\n",
       " 'Xiaomi Mi A2 (Gold, 4GB RAM, 64GB Storage)',\n",
       " 'Xiaomi Mi A3 (Kind of Grey, 6GB RAM, 128GB Storage)',\n",
       " 'Redmi 9 Power (Blazing Blue, 6GB RAM, 128GB Storage) - 6000mAh Battery |FHD+ Screen | 48MP Quad Camera | Snapdragon 662 Processor | Alexa Hands-Free Capable',\n",
       " 'Xiaomi Mi A3 (More Than White, 6GB RAM, 128GB Storage)',\n",
       " 'Redmi Note 9 (Pebble Grey, 4GB RAM 64GB Storage) - 48MP Quad Camera & Full HD+ Display',\n",
       " 'Xiaomi Mi A3 (Not Just Blue, 6GB RAM, 128GB Storage)',\n",
       " 'Redmi 9 Prime (Matte Black, 4GB RAM, 64GB Storage) - Full HD+ Display & AI Quad Camera',\n",
       " 'Redmi 9 (Sky Blue, 4GB RAM, 64GB Storage) | 2.3GHz Mediatek Helio G35 Octa core Processor',\n",
       " 'Xiaomi Redmi 8A 3GB 32GB Phone (Midnight Black)',\n",
       " 'Mi 11X Pro 5G (Cosmic Black, 8GB RAM, 256GB Storage) | Snapdragon 888 | 108MP Camera | Additional 5000 Off on Exchange',\n",
       " 'Redmi 8A Dual (Sky White, 2GB RAM, 32GB Storage) – Dual Cameras & 5,000 mAH Battery',\n",
       " 'Redmi 8A Dual (Sea Blue, 2GB RAM, 32GB Storage) – Dual Cameras & 5,000 mAH Battery',\n",
       " 'Mi 11X 5G Cosmic Black 6GB RAM 128GB ROM | SD 870 | DisplayMate A+ rated E4 AMOLED',\n",
       " 'Redmi 8A Dual (Sea Blue, 3GB RAM, 32GB Storage) – Dual Cameras & 5,000 mAH Battery',\n",
       " 'Redmi 9 (Sporty Orange, 4GB RAM, 64GB Storage) | 2.3GHz Mediatek Helio G35 Octa core Processor']"
      ]
     },
     "execution_count": 302,
     "metadata": {},
     "output_type": "execute_result"
    }
   ],
   "source": [
    "device_names"
   ]
  },
  {
   "cell_type": "code",
   "execution_count": 303,
   "id": "3e29a67f",
   "metadata": {},
   "outputs": [
    {
     "data": {
      "text/plain": [
       "16"
      ]
     },
     "execution_count": 303,
     "metadata": {},
     "output_type": "execute_result"
    }
   ],
   "source": [
    "len(discounted_price)"
   ]
  },
  {
   "cell_type": "code",
   "execution_count": 304,
   "id": "56f9524d",
   "metadata": {},
   "outputs": [
    {
     "data": {
      "text/plain": [
       "16"
      ]
     },
     "execution_count": 304,
     "metadata": {},
     "output_type": "execute_result"
    }
   ],
   "source": [
    "len(actual_price)"
   ]
  },
  {
   "cell_type": "code",
   "execution_count": 305,
   "id": "d7c24825",
   "metadata": {},
   "outputs": [
    {
     "data": {
      "text/plain": [
       "[['MI Xiaomi Mi A2 (Black, 4GB RAM, 64GB Storage)', '17,499', '13,299'],\n",
       " ['Xiaomi Mi A2 (Gold, 4GB RAM, 64GB Storage)', '17,499', '12,850'],\n",
       " ['Xiaomi Mi A3 (Kind of Grey, 6GB RAM, 128GB Storage)', '17,499', '17,399'],\n",
       " ['Redmi 9 Power (Blazing Blue, 6GB RAM, 128GB Storage) - 6000mAh Battery |FHD+ Screen | 48MP Quad Camera | Snapdragon 662 Processor | Alexa Hands-Free Capable',\n",
       "  '16,999',\n",
       "  '13,499'],\n",
       " ['Xiaomi Mi A3 (More Than White, 6GB RAM, 128GB Storage)',\n",
       "  '17,499',\n",
       "  '17,399'],\n",
       " ['Redmi Note 9 (Pebble Grey, 4GB RAM 64GB Storage) - 48MP Quad Camera & Full HD+ Display',\n",
       "  '14,999',\n",
       "  '11,999'],\n",
       " ['Xiaomi Mi A3 (Not Just Blue, 6GB RAM, 128GB Storage)', '17,499', '17,399'],\n",
       " ['Redmi 9 Prime (Matte Black, 4GB RAM, 64GB Storage) - Full HD+ Display & AI Quad Camera',\n",
       "  '11,999',\n",
       "  '9,999'],\n",
       " ['Redmi 9 (Sky Blue, 4GB RAM, 64GB Storage) | 2.3GHz Mediatek Helio G35 Octa core Processor',\n",
       "  '10,999',\n",
       "  '8,999'],\n",
       " ['Xiaomi Redmi 8A 3GB 32GB Phone (Midnight Black)', '0', '0'],\n",
       " ['Mi 11X Pro 5G (Cosmic Black, 8GB RAM, 256GB Storage) | Snapdragon 888 | 108MP Camera | Additional 5000 Off on Exchange',\n",
       "  '49,999',\n",
       "  '39,999'],\n",
       " ['Redmi 8A Dual (Sky White, 2GB RAM, 32GB Storage) – Dual Cameras & 5,000 mAH Battery',\n",
       "  '0',\n",
       "  '0'],\n",
       " ['Redmi 8A Dual (Sea Blue, 2GB RAM, 32GB Storage) – Dual Cameras & 5,000 mAH Battery',\n",
       "  '0',\n",
       "  '0'],\n",
       " ['Mi 11X 5G Cosmic Black 6GB RAM 128GB ROM | SD 870 | DisplayMate A+ rated E4 AMOLED',\n",
       "  '33,999',\n",
       "  '27,999'],\n",
       " ['Redmi 8A Dual (Sea Blue, 3GB RAM, 32GB Storage) – Dual Cameras & 5,000 mAH Battery',\n",
       "  '0',\n",
       "  '0'],\n",
       " ['Redmi 9 (Sporty Orange, 4GB RAM, 64GB Storage) | 2.3GHz Mediatek Helio G35 Octa core Processor',\n",
       "  '0',\n",
       "  '0']]"
      ]
     },
     "execution_count": 305,
     "metadata": {},
     "output_type": "execute_result"
    }
   ],
   "source": [
    "temp_list = []\n",
    "records_to_write = []\n",
    "for i in range(len(device_names)):\n",
    "    records_to_write.append([device_names[i], actual_price[i], discounted_price[i]])\n",
    "records_to_write"
   ]
  },
  {
   "cell_type": "code",
   "execution_count": 307,
   "id": "9cba7e4d",
   "metadata": {},
   "outputs": [],
   "source": [
    "if (os.path.isfile('Amazon.csv')):\n",
    "    with open(\"Amazon.csv\", 'a', newline='') as file_write:\n",
    "        writer = csv.writer(file_write)\n",
    "        for i in range(len(device_names)):\n",
    "            temp_list.append(device_names[i])\n",
    "            temp_list.append(actual_price[i])\n",
    "            temp_list.append(discounted_price[i])\n",
    "            writer.writerow(temp_list)\n",
    "            temp_list = []\n",
    "else:\n",
    "    fields = ['Name', 'Actual', 'Discounted']\n",
    "    with open('Amazon.csv', 'w', newline='') as file:\n",
    "        writer = csv.writer(file)\n",
    "        writer.writerow(fields)\n",
    "        for i in range(len(device_names)):\n",
    "            temp_list.append(device_names[i])\n",
    "            temp_list.append(actual_price[i])\n",
    "            temp_list.append(discounted_price[i])\n",
    "            writer.writerow(temp_list)\n",
    "            temp_list = []"
   ]
  },
  {
   "cell_type": "code",
   "execution_count": 308,
   "id": "eb344bd8",
   "metadata": {},
   "outputs": [],
   "source": [
    "import csv\n",
    "import random\n",
    "import time\n",
    "import os\n",
    "import Amazon_Functions\n",
    "from bs4 import BeautifulSoup\n",
    "from selenium import webdriver\n",
    "\n",
    "\n",
    "def Create_Url(search_item):\n",
    "    template = \"https://www.amazon.in/s?k={}&ref=nb_sb_noss_2\"\n",
    "    item = search_item.replace(' ', '+')\n",
    "    url = template.format(item)\n",
    "    url += \"&page={}\"\n",
    "    return url\n",
    "\n",
    "\n",
    "def Check_Amazons_Choice(item):\n",
    "    amazons_choice = item.find('span',{'aria-label':\"Amazon's Choice\"})\n",
    "    if amazons_choice is not None:\n",
    "        return True\n",
    "    elif amazons_choice is None:\n",
    "        return False\n",
    "\n",
    "\n",
    "def check_Hovered_Sponsor(item):\n",
    "    hovered_sponsor = item.find('span', {'class':'s-label-popover-hover'})\n",
    "    if hovered_sponsor is not None:\n",
    "        return True\n",
    "    elif hovered_sponsor is None:\n",
    "        return False\n",
    "\n",
    "\n",
    "def Return_Discount_Actual_Price(item):\n",
    "    product_price = item.find('a', {'class':'a-size-base a-link-normal a-text-normal'})\n",
    "    return_list = []\n",
    "    try:\n",
    "        discounted_and_actual_wrong = product_price.text.split(' ', 1)\n",
    "        unwanted_discounted = discounted_and_actual_wrong[0].split('₹')\n",
    "        discounted = unwanted_discounted[1]\n",
    "        unwanted_actual = discounted_and_actual_wrong[1].split('₹')\n",
    "        actual = unwanted_actual[1]\n",
    "    except AttributeError:\n",
    "        discounted = 0\n",
    "        actual = 0\n",
    "    return_list.append(discounted)\n",
    "    return_list.append(actual)\n",
    "    return return_list\n",
    "\n",
    "\n",
    "def Delete_Amazon_Or_Hovered(hovered_items, hovered_price_discount, hovered_price_actual, amazons_items, amazons_price_actual, amazons_price_discount):\n",
    "    not_done = True\n",
    "    while not_done:\n",
    "        counter = 0\n",
    "        print ('\\n\\n')\n",
    "        print(\"Hovered Sponsored Group->\")\n",
    "        for z in hovered_items:\n",
    "            print(counter, z)\n",
    "            counter += 1\n",
    "        counter = 0\n",
    "        print('\\n\\n')\n",
    "        print(\"Amazons Choice Group->\")\n",
    "        for x in amazons_items:\n",
    "            print(counter, x)\n",
    "            counter += 1\n",
    "        selected_group = input('''Enter the first three leters of the group you want to delete from: \n",
    "    Or Enter q to exit''')\n",
    "        delete_item_idx = int(input('''Enter the index of the item you want to delete\n",
    "    Or Enter an negative number to exit'''))\n",
    "        if(selected_group == \"hov\" and delete_item_idx >= 0):\n",
    "            hovered_items.pop(delete_item_idx)\n",
    "            hovered_price_discount.pop(delete_item_idx)\n",
    "            hovered_price_actual.pop(delete_item_idx)\n",
    "        elif(selected_group == \"ama\" and delete_item_idx >= 0):\n",
    "            amazons_items.pop(delete_item_idx)\n",
    "            amazons_price_actual.pop(delete_item_idx)\n",
    "            amazons_price_discount.pop(delete_item_idx)\n",
    "        elif(selected_group == \"q\" or delete_item_idx < 0):\n",
    "            not_done = False\n",
    "            continue\n",
    "        else:\n",
    "            print(\"You may have selected a group which is not present\")\n",
    "\n",
    "    return ([hovered_items, hovered_price_actual, hovered_price_discount], [amazons_items, amazons_price_actual, amazons_price_discount])\n",
    "\n",
    "def Add_Amazon_Or_Hovered_Items(hovered_items, amazons_items, device_names, actual_price, discount_price, amazons_price_discount, \n",
    "amazons_price_actual, hovered_price_actual, hovered_price_discount):\n",
    "\n",
    "    counter = 0\n",
    "    print(\"These are the remaining items. What would you like to do with them ?\")\n",
    "    for z in hovered_items:\n",
    "        print(counter, z)\n",
    "        counter += 1\n",
    "    for x in amazons_items:\n",
    "        print(counter, x)\n",
    "        counter += 1\n",
    "\n",
    "    print(\"Type ad to add all the remaining devices to the csv file if they are not already present\")\n",
    "    print(\"Type de to discard all the remaining devices\")\n",
    "    user_answer = input(\"Enter your choice\")\n",
    "    if(user_answer == \"ad\"):\n",
    "        for i in range(len(hovered_items)):\n",
    "            if(hovered_items[i] not in device_names):\n",
    "                device_names.append(hovered_items[i])\n",
    "                actual_price.append(hovered_price_actual[i])\n",
    "                discount_price.append(hovered_price_discount[i])\n",
    "        for h in range(len(amazons_items)):\n",
    "            if (amazons_items[i] not in device_names):\n",
    "                device_names.append(amazons_items[i])\n",
    "                actual_price.append(amazons_price_actual[i])\n",
    "                discount_price.append(amazons_price_discount[i])\n",
    "    \n",
    "    return ([device_names, actual_price, discount_price])\n",
    "\n",
    "\n",
    "def Write_To_CSV(device_names, actual_price, discounted_price):\n",
    "    temp_list = []\n",
    "    if (os.path.isfile('Amazon.csv')):\n",
    "        with open(\"Amazon.csv\", 'a', newline='') as file_write:\n",
    "            writer = csv.writer(file_write)\n",
    "            for i in range(len(device_names)):\n",
    "                temp_list.append(device_names[i])\n",
    "                temp_list.append(actual_price[i])\n",
    "                temp_list.append(discounted_price[i])\n",
    "                writer.writerow(temp_list)\n",
    "                temp_list = []\n",
    "    else:\n",
    "        fields = ['Name', 'Actual', 'Discounted']\n",
    "        with open('Amazon.csv', 'w', newline='') as file:\n",
    "            writer = csv.writer(file)\n",
    "            writer.writerow(fields)\n",
    "            for i in range(len(device_names)):\n",
    "                temp_list.append(device_names[i])\n",
    "                temp_list.append(actual_price[i])\n",
    "                temp_list.append(discounted_price[i])\n",
    "                writer.writerow(temp_list)\n",
    "                temp_list = []"
   ]
  },
  {
   "cell_type": "code",
   "execution_count": 309,
   "id": "188be668",
   "metadata": {},
   "outputs": [
    {
     "name": "stdout",
     "output_type": "stream",
     "text": [
      "Enter the search termXiaomi\n",
      "0\n",
      "\n",
      "\n",
      "\n",
      "Hovered Sponsored Group->\n",
      "\n",
      "\n",
      "\n",
      "Amazons Choice Group->\n"
     ]
    },
    {
     "ename": "KeyboardInterrupt",
     "evalue": "Interrupted by user",
     "output_type": "error",
     "traceback": [
      "\u001b[1;31m---------------------------------------------------------------------------\u001b[0m",
      "\u001b[1;31mKeyboardInterrupt\u001b[0m                         Traceback (most recent call last)",
      "\u001b[1;32m~\\AppData\\Local\\Temp/ipykernel_8336/3559519151.py\u001b[0m in \u001b[0;36m<module>\u001b[1;34m\u001b[0m\n\u001b[0;32m     77\u001b[0m \u001b[1;33m\u001b[0m\u001b[0m\n\u001b[0;32m     78\u001b[0m \u001b[1;32mif\u001b[0m \u001b[0m__name__\u001b[0m \u001b[1;33m==\u001b[0m \u001b[1;34m'__main__'\u001b[0m\u001b[1;33m:\u001b[0m\u001b[1;33m\u001b[0m\u001b[1;33m\u001b[0m\u001b[0m\n\u001b[1;32m---> 79\u001b[1;33m     \u001b[0mmain\u001b[0m\u001b[1;33m(\u001b[0m\u001b[1;33m)\u001b[0m\u001b[1;33m\u001b[0m\u001b[1;33m\u001b[0m\u001b[0m\n\u001b[0m",
      "\u001b[1;32m~\\AppData\\Local\\Temp/ipykernel_8336/3559519151.py\u001b[0m in \u001b[0;36mmain\u001b[1;34m()\u001b[0m\n\u001b[0;32m     55\u001b[0m             \u001b[0mdiscounted_price\u001b[0m\u001b[1;33m.\u001b[0m\u001b[0mappend\u001b[0m\u001b[1;33m(\u001b[0m\u001b[0mprice\u001b[0m\u001b[1;33m[\u001b[0m\u001b[1;36m0\u001b[0m\u001b[1;33m]\u001b[0m\u001b[1;33m)\u001b[0m\u001b[1;33m\u001b[0m\u001b[1;33m\u001b[0m\u001b[0m\n\u001b[0;32m     56\u001b[0m \u001b[1;33m\u001b[0m\u001b[0m\n\u001b[1;32m---> 57\u001b[1;33m             remaining_records = Amazon_Functions.Delete_Amazon_Or_Hovered(hovered_items, hovered_price_discount, hovered_price_actual,\n\u001b[0m\u001b[0;32m     58\u001b[0m             amazons_items, amazons_price_actual, amazons_price_discount)\n\u001b[0;32m     59\u001b[0m \u001b[1;33m\u001b[0m\u001b[0m\n",
      "\u001b[1;32mF:\\IDEs\\Python Saves\\WebScraping\\Amazon_Functions.py\u001b[0m in \u001b[0;36mDelete_Amazon_Or_Hovered\u001b[1;34m(hovered_items, hovered_price_discount, hovered_price_actual, amazons_items, amazons_price_actual, amazons_price_discount)\u001b[0m\n\u001b[0;32m     64\u001b[0m             \u001b[0mprint\u001b[0m\u001b[1;33m(\u001b[0m\u001b[0mcounter\u001b[0m\u001b[1;33m,\u001b[0m \u001b[0mx\u001b[0m\u001b[1;33m)\u001b[0m\u001b[1;33m\u001b[0m\u001b[1;33m\u001b[0m\u001b[0m\n\u001b[0;32m     65\u001b[0m             \u001b[0mcounter\u001b[0m \u001b[1;33m+=\u001b[0m \u001b[1;36m1\u001b[0m\u001b[1;33m\u001b[0m\u001b[1;33m\u001b[0m\u001b[0m\n\u001b[1;32m---> 66\u001b[1;33m         selected_group = input('''Enter the first three leters of the group you want to delete from: \n\u001b[0m\u001b[0;32m     67\u001b[0m     Or Enter q to exit''')\n\u001b[0;32m     68\u001b[0m         delete_item_idx = int(input('''Enter the index of the item you want to delete\n",
      "\u001b[1;32mF:\\Anaconda\\envs\\webscraping\\lib\\site-packages\\ipykernel\\kernelbase.py\u001b[0m in \u001b[0;36mraw_input\u001b[1;34m(self, prompt)\u001b[0m\n\u001b[0;32m   1004\u001b[0m                 \u001b[1;34m\"raw_input was called, but this frontend does not support input requests.\"\u001b[0m\u001b[1;33m\u001b[0m\u001b[1;33m\u001b[0m\u001b[0m\n\u001b[0;32m   1005\u001b[0m             )\n\u001b[1;32m-> 1006\u001b[1;33m         return self._input_request(\n\u001b[0m\u001b[0;32m   1007\u001b[0m             \u001b[0mstr\u001b[0m\u001b[1;33m(\u001b[0m\u001b[0mprompt\u001b[0m\u001b[1;33m)\u001b[0m\u001b[1;33m,\u001b[0m\u001b[1;33m\u001b[0m\u001b[1;33m\u001b[0m\u001b[0m\n\u001b[0;32m   1008\u001b[0m             \u001b[0mself\u001b[0m\u001b[1;33m.\u001b[0m\u001b[0m_parent_ident\u001b[0m\u001b[1;33m[\u001b[0m\u001b[1;34m\"shell\"\u001b[0m\u001b[1;33m]\u001b[0m\u001b[1;33m,\u001b[0m\u001b[1;33m\u001b[0m\u001b[1;33m\u001b[0m\u001b[0m\n",
      "\u001b[1;32mF:\\Anaconda\\envs\\webscraping\\lib\\site-packages\\ipykernel\\kernelbase.py\u001b[0m in \u001b[0;36m_input_request\u001b[1;34m(self, prompt, ident, parent, password)\u001b[0m\n\u001b[0;32m   1049\u001b[0m             \u001b[1;32mexcept\u001b[0m \u001b[0mKeyboardInterrupt\u001b[0m\u001b[1;33m:\u001b[0m\u001b[1;33m\u001b[0m\u001b[1;33m\u001b[0m\u001b[0m\n\u001b[0;32m   1050\u001b[0m                 \u001b[1;31m# re-raise KeyboardInterrupt, to truncate traceback\u001b[0m\u001b[1;33m\u001b[0m\u001b[1;33m\u001b[0m\u001b[1;33m\u001b[0m\u001b[0m\n\u001b[1;32m-> 1051\u001b[1;33m                 \u001b[1;32mraise\u001b[0m \u001b[0mKeyboardInterrupt\u001b[0m\u001b[1;33m(\u001b[0m\u001b[1;34m\"Interrupted by user\"\u001b[0m\u001b[1;33m)\u001b[0m \u001b[1;32mfrom\u001b[0m \u001b[1;32mNone\u001b[0m\u001b[1;33m\u001b[0m\u001b[1;33m\u001b[0m\u001b[0m\n\u001b[0m\u001b[0;32m   1052\u001b[0m             \u001b[1;32mexcept\u001b[0m \u001b[0mException\u001b[0m\u001b[1;33m:\u001b[0m\u001b[1;33m\u001b[0m\u001b[1;33m\u001b[0m\u001b[0m\n\u001b[0;32m   1053\u001b[0m                 \u001b[0mself\u001b[0m\u001b[1;33m.\u001b[0m\u001b[0mlog\u001b[0m\u001b[1;33m.\u001b[0m\u001b[0mwarning\u001b[0m\u001b[1;33m(\u001b[0m\u001b[1;34m\"Invalid Message:\"\u001b[0m\u001b[1;33m,\u001b[0m \u001b[0mexc_info\u001b[0m\u001b[1;33m=\u001b[0m\u001b[1;32mTrue\u001b[0m\u001b[1;33m)\u001b[0m\u001b[1;33m\u001b[0m\u001b[1;33m\u001b[0m\u001b[0m\n",
      "\u001b[1;31mKeyboardInterrupt\u001b[0m: Interrupted by user"
     ]
    }
   ],
   "source": [
    "import Amazon_Functions\n",
    "from bs4 import BeautifulSoup\n",
    "from selenium import webdriver\n",
    "\n",
    "def main():\n",
    "    driver = webdriver.Firefox()\n",
    "    term_to_search = input(\"Enter the search term\")\n",
    "    url = Amazon_Functions.Create_Url(term_to_search)\n",
    "\n",
    "    actual_price = []\n",
    "    discounted_price = []\n",
    "    device_names = []\n",
    "    hovered_items = []\n",
    "    hovered_price_actual = []\n",
    "    hovered_price_discount = []\n",
    "    amazons_items = []\n",
    "    amazons_price_actual = []\n",
    "    amazons_price_discount = []\n",
    "\n",
    "    for page in range(1, 21):\n",
    "        driver.get(url.format(page))\n",
    "        soup = BeautifulSoup(driver.page_source, 'html.parser')\n",
    "        results = soup.find_all('div', {'data-component-type' : 's-search-result'})\n",
    "        total_products_on_page = len(results)\n",
    "        for i in range(total_products_on_page):\n",
    "            print(i)\n",
    "            item = results[i]\n",
    "\n",
    "            if (Amazon_Functions.Check_Amazons_Choice(item)):\n",
    "                item_name_choice = item.h2.a.span\n",
    "                item_name_choice_text = item_name_choice.text\n",
    "                amazons_items.append(item_name_choice_text)\n",
    "                price = Amazon_Functions.Return_Discount_Actual_Price(item)\n",
    "                actual_price.append(price[1])\n",
    "                discounted_price.append(price[0])\n",
    "                continue\n",
    "\n",
    "            if(Amazon_Functions.check_Hovered_Sponsor(item)):\n",
    "                item_name_hovered = item.h2.a.span\n",
    "                item_name_hovered_text = item_name_hovered.text\n",
    "                hovered_items.append(item_name_hovered_text)\n",
    "                price = Amazon_Functions.Return_Discount_Actual_Price(item)\n",
    "                actual_price.append(price[1])\n",
    "                discounted_price.append(price[0])\n",
    "                continue\n",
    "\n",
    "            try:\n",
    "                item_name = item.h2.a.span\n",
    "                device_names.append(item_name.text)\n",
    "            except AttributeError:\n",
    "                print(\"No Name\")\n",
    "            \n",
    "            price = Amazon_Functions.Return_Discount_Actual_Price(item)\n",
    "            actual_price.append(price[1])\n",
    "            discounted_price.append(price[0])\n",
    "            \n",
    "            remaining_records = Amazon_Functions.Delete_Amazon_Or_Hovered(hovered_items, hovered_price_discount, hovered_price_actual,\n",
    "            amazons_items, amazons_price_actual, amazons_price_discount)\n",
    "\n",
    "            hovered_items = remaining_records[0][0]\n",
    "            hovered_price_actual = remaining_records[0][1]\n",
    "            hovered_price_discount = remaining_records[0][2]\n",
    "\n",
    "            amazons_items = remaining_records[1][0]\n",
    "            amazons_price_actual = remaining_records[1][1]\n",
    "            amazons_price_discount = remaining_records[1][2]\n",
    "\n",
    "            final_records = Amazon_Functions.Add_Amazon_Or_Hovered_Items(hovered_items, amazons_items, device_names, actual_price, discount_price, amazons_price_discount, \n",
    "            amazons_price_actual, hovered_price_actual, hovered_price_discount)\n",
    "\n",
    "            device_names = final_records[0][0]\n",
    "            actual_price = final_records[0][1]\n",
    "            discounted_price = final_records[0][2]\n",
    "        \n",
    "        Amazon_Functions.Write_To_CSV(device_names, actual_price, discounted_price)\n",
    "\n",
    "\n",
    "if __name__ == '__main__':\n",
    "    main()"
   ]
  },
  {
   "cell_type": "code",
   "execution_count": null,
   "id": "086ecc3b",
   "metadata": {},
   "outputs": [],
   "source": []
  }
 ],
 "metadata": {
  "kernelspec": {
   "display_name": "Python 3 (ipykernel)",
   "language": "python",
   "name": "python3"
  },
  "language_info": {
   "codemirror_mode": {
    "name": "ipython",
    "version": 3
   },
   "file_extension": ".py",
   "mimetype": "text/x-python",
   "name": "python",
   "nbconvert_exporter": "python",
   "pygments_lexer": "ipython3",
   "version": "3.9.6"
  }
 },
 "nbformat": 4,
 "nbformat_minor": 5
}
