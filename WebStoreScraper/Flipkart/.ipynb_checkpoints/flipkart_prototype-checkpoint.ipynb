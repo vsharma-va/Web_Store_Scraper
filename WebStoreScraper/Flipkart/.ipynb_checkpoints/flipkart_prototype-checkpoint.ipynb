{
 "cells": [
  {
   "cell_type": "code",
   "execution_count": 64,
   "id": "56722922",
   "metadata": {},
   "outputs": [],
   "source": [
    "import csv\n",
    "import os\n",
    "from bs4 import BeautifulSoup\n",
    "from selenium import webdriver"
   ]
  },
  {
   "cell_type": "code",
   "execution_count": 65,
   "id": "adf294fe",
   "metadata": {},
   "outputs": [],
   "source": [
    "driver = webdriver.Firefox(executable_path=r\"../Resources/geckodriver.exe\")"
   ]
  },
  {
   "cell_type": "code",
   "execution_count": 66,
   "id": "545109c7",
   "metadata": {},
   "outputs": [],
   "source": [
    "def create_url(search_item):\n",
    "    template = \"https://www.flipkart.com/search?q={}&otracker=search&otracker1=search&marketplace=FLIPKART&as-show=on&as=off\"\n",
    "    url = template.format(search_item)\n",
    "    return url\n",
    "\n",
    "driver.get(create_url(\"Samsung\"))\n",
    "device_name = []\n",
    "device_price_actual = []\n",
    "device_price_discounted = []\n",
    "device_info = []"
   ]
  },
  {
   "cell_type": "code",
   "execution_count": 67,
   "id": "2cf5787c",
   "metadata": {},
   "outputs": [],
   "source": [
    "soup = BeautifulSoup(driver.page_source, 'html.parser')\n",
    "results = soup.find_all('a', {'target':'_blank'})"
   ]
  },
  {
   "cell_type": "code",
   "execution_count": 71,
   "id": "bdd7fa0f",
   "metadata": {},
   "outputs": [
    {
     "data": {
      "text/plain": [
       "<a href=\"/samsung-galaxy-m12-black-64-gb/p/itm425898eedc4ce?pid=MOBGFG8H4A32HTKJ&amp;marketplace=FLIPKART\" rel=\"noopener noreferrer\" target=\"_blank\"><div class=\"_1W9f5C\"><div>2. SAMSUNG Galaxy M12 (Black, ...</div></div><div class=\"_3VDxyD\"><div class=\"_3LWZlK\">4.2<img class=\"_1wB99o\" src=\"data:image/svg+xml;base64,PHN2ZyB4bWxucz0iaHR0cDovL3d3dy53My5vcmcvMjAwMC9zdmciIHdpZHRoPSIxMyIgaGVpZ2h0PSIxMiI+PHBhdGggZmlsbD0iI0ZGRiIgZD0iTTYuNSA5LjQzOWwtMy42NzQgMi4yMy45NC00LjI2LTMuMjEtMi44ODMgNC4yNTQtLjQwNEw2LjUuMTEybDEuNjkgNC4wMSA0LjI1NC40MDQtMy4yMSAyLjg4Mi45NCA0LjI2eiIvPjwvc3ZnPg==\"/></div><span class=\"_34hpFu\"><span>2,721 Ratings</span><span><span class=\"_2oY1qB\">&amp;</span><span>222 Reviews</span></span></span></div><div class=\"_2wYYVP\"><div class=\"_25b18c\"><div class=\"_30jeq3 UMT9wN\">₹12,642</div><div class=\"_3Ay6Sb _2FuKQX\"><span>2% off</span></div></div></div></a>"
      ]
     },
     "execution_count": 71,
     "metadata": {},
     "output_type": "execute_result"
    }
   ],
   "source": [
    "results[25]"
   ]
  },
  {
   "cell_type": "code",
   "execution_count": 76,
   "id": "5044c523",
   "metadata": {},
   "outputs": [
    {
     "name": "stdout",
     "output_type": "stream",
     "text": [
      "['Showing', '1', '–', '24', 'of', '688', 'results', 'for', '\"Samsung\"']\n",
      "24\n",
      "SAMSUNG Galaxy F41 (Fusion Blue, 128 GB)\n",
      "SAMSUNG Galaxy F41 (Fusion Black, 128 GB)\n",
      "SAMSUNG M21 2021 Edition (Arctic blue, 64 GB)\n",
      "SAMSUNG Galaxy M11 (Black, 64 GB)\n",
      "SAMSUNG Galaxy F41 (Fusion Green, 128 GB)\n",
      "SAMSUNG Metro 313 Dual Sim\n",
      "SAMSUNG Guru 1200\n",
      "SAMSUNG Guru FM Plus SM-B110E/D\n",
      "SAMSUNG Guru FM Plus SM-B110E/D\n",
      "SAMSUNG Guru FM Plus\n",
      "SAMSUNG Galaxy A22 (Black, 128 GB)\n",
      "SAMSUNG Galaxy M02 (Gray, 32 GB)\n",
      "SAMSUNG Guru Plus B110\n",
      "SAMSUNG Galaxy A22 (Black, 128 GB)\n",
      "SAMSUNG M02s (Blue, 32 GB)\n",
      "SAMSUNG Guru FM Plus\n",
      "SAMSUNG Galaxy M12 (Black, 64 GB)\n",
      "SAMSUNG Galaxy A31 (Prism Crush Blue, 128 GB)\n",
      "SAMSUNG Galaxy M12 (Blue, 64 GB)\n",
      "SAMSUNG M31 (Ocean Blue, 128 GB)\n",
      "SAMSUNG Galaxy F22 (Denim Blue, 64 GB)\n",
      "SAMSUNG Galaxy F22 (Denim Black, 128 GB)\n",
      "SAMSUNG Galaxy M02 (Blue, 32 GB)\n",
      "SAMSUNG Galaxy M31s (Mirage Blue, 128 GB)\n"
     ]
    }
   ],
   "source": [
    "scentence_num = soup.find('span', {'class':'_10Ermr'})\n",
    "g = scentence_num.text.split(' ')\n",
    "print(g)\n",
    "print(g[3])\n",
    "for i in range(int(g[3])):\n",
    "    item = results[i]\n",
    "    product_name = item.find('div', {'class':'_4rR01T'})\n",
    "    print(product_name.text)"
   ]
  },
  {
   "cell_type": "code",
   "execution_count": 23,
   "id": "e0946035",
   "metadata": {},
   "outputs": [
    {
     "data": {
      "text/plain": [
       "'₹20,999'"
      ]
     },
     "execution_count": 23,
     "metadata": {},
     "output_type": "execute_result"
    }
   ],
   "source": [
    "product_price_discounted = item.find('div', {'class':'_30jeq3 _1_WHN1'})\n",
    "product_price_discounted.text\n",
    "product_price_actual = item.find('div', {'class':'_3I9_wc _27UcVY'})\n",
    "product_price_actual.text"
   ]
  },
  {
   "cell_type": "code",
   "execution_count": 24,
   "id": "56a9304a",
   "metadata": {},
   "outputs": [
    {
     "data": {
      "text/plain": [
       "'6 GB RAM | 128 GB ROM | Expandable Upto 512 GB16.26 cm (6.4 inch) Full HD+ Display64MP + 8MP + 5MP | 32MP Front Camera6000 mAh Lithium-ion BatteryExynos 9611 ProcessorSuper AMOLED Display1 Year Warranty Provided by the Manufacturer from Date of Purchase'"
      ]
     },
     "execution_count": 24,
     "metadata": {},
     "output_type": "execute_result"
    }
   ],
   "source": [
    "product_info = item.find('ul',{'class':'_1xgFaf'})\n",
    "product_info.text"
   ]
  },
  {
   "cell_type": "code",
   "execution_count": 56,
   "id": "63679f48",
   "metadata": {},
   "outputs": [
    {
     "name": "stdout",
     "output_type": "stream",
     "text": [
      "No actual\n",
      "No actual\n",
      "No actual\n",
      "No actual\n",
      "No actual\n",
      "No actual\n",
      "No actual\n",
      "No actual\n",
      "No actual\n",
      "No actual\n",
      "No name\n",
      "24\n",
      "No discounted\n",
      "No actual\n",
      "no info\n",
      "24\n",
      "No name\n",
      "25\n",
      "No discounted\n",
      "No actual\n",
      "no info\n",
      "25\n",
      "No name\n",
      "26\n",
      "No discounted\n",
      "No actual\n",
      "no info\n",
      "26\n",
      "No name\n",
      "27\n",
      "No discounted\n",
      "No actual\n",
      "no info\n",
      "27\n",
      "No name\n",
      "28\n",
      "No discounted\n",
      "No actual\n",
      "no info\n",
      "28\n",
      "No name\n",
      "29\n",
      "No discounted\n",
      "No actual\n",
      "no info\n",
      "29\n",
      "No name\n",
      "30\n",
      "No discounted\n",
      "No actual\n",
      "no info\n",
      "30\n"
     ]
    }
   ],
   "source": [
    "total_products_on_page = len(results)\n",
    "for i in range(total_products_on_page):\n",
    "    itemx = results[i]\n",
    "    product_name = itemx.find('div', {'class':'_4rR01T'})\n",
    "    try:\n",
    "        device_name.append(product_name.text)\n",
    "    except AttributeError:\n",
    "        print(\"No name\")\n",
    "        print(i)\n",
    "    product_price_discounted = itemx.find('div', {'class':'_30jeq3 _1_WHN1'})\n",
    "    try:\n",
    "        device_price_discounted.append(product_price_discounted.text)\n",
    "    except AttributeError:\n",
    "        print(\"No discounted\")\n",
    "    product_price_actual = itemx.find('div', {'class':'_3I9_wc _27UcVY'})\n",
    "    try:\n",
    "        device_price_actual.append(product_price_actual.text)\n",
    "    except AttributeError:\n",
    "        print(\"No actual\")\n",
    "        device_price_actual.append('0')\n",
    "    product_info = itemx.find('ul',{'class':'_1xgFaf'})\n",
    "    try:\n",
    "        device_info.append(product_info.text)\n",
    "    except AttributeError:\n",
    "        print(\"no info\")\n",
    "        print(i)\n",
    "    \n",
    "    \n",
    "    "
   ]
  },
  {
   "cell_type": "code",
   "execution_count": 57,
   "id": "03ab5827",
   "metadata": {},
   "outputs": [
    {
     "data": {
      "text/plain": [
       "24"
      ]
     },
     "execution_count": 57,
     "metadata": {},
     "output_type": "execute_result"
    }
   ],
   "source": [
    "len(device_name)"
   ]
  },
  {
   "cell_type": "code",
   "execution_count": 58,
   "id": "fcd69d1c",
   "metadata": {},
   "outputs": [
    {
     "data": {
      "text/plain": [
       "14"
      ]
     },
     "execution_count": 58,
     "metadata": {},
     "output_type": "execute_result"
    }
   ],
   "source": [
    "len(device_price_actual)"
   ]
  },
  {
   "cell_type": "code",
   "execution_count": 59,
   "id": "2b48dd45",
   "metadata": {},
   "outputs": [
    {
     "data": {
      "text/plain": [
       "24"
      ]
     },
     "execution_count": 59,
     "metadata": {},
     "output_type": "execute_result"
    }
   ],
   "source": [
    "len(device_price_discounted)"
   ]
  },
  {
   "cell_type": "code",
   "execution_count": 60,
   "id": "7ee40aab",
   "metadata": {},
   "outputs": [
    {
     "data": {
      "text/plain": [
       "24"
      ]
     },
     "execution_count": 60,
     "metadata": {},
     "output_type": "execute_result"
    }
   ],
   "source": [
    "len(device_info)"
   ]
  },
  {
   "cell_type": "code",
   "execution_count": null,
   "id": "e184f289",
   "metadata": {},
   "outputs": [],
   "source": []
  }
 ],
 "metadata": {
  "kernelspec": {
   "display_name": "Python 3 (ipykernel)",
   "language": "python",
   "name": "python3"
  },
  "language_info": {
   "codemirror_mode": {
    "name": "ipython",
    "version": 3
   },
   "file_extension": ".py",
   "mimetype": "text/x-python",
   "name": "python",
   "nbconvert_exporter": "python",
   "pygments_lexer": "ipython3",
   "version": "3.9.6"
  }
 },
 "nbformat": 4,
 "nbformat_minor": 5
}
