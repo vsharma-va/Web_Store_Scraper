{
 "cells": [
  {
   "cell_type": "code",
   "execution_count": 138,
   "id": "b437d0ef",
   "metadata": {},
   "outputs": [],
   "source": [
    "import csv\n",
    "import random\n",
    "import time\n",
    "from bs4 import BeautifulSoup"
   ]
  },
  {
   "cell_type": "code",
   "execution_count": 139,
   "id": "bf77030c",
   "metadata": {
    "scrolled": true
   },
   "outputs": [],
   "source": [
    "from selenium import webdriver"
   ]
  },
  {
   "cell_type": "code",
   "execution_count": 140,
   "id": "953a40bc",
   "metadata": {},
   "outputs": [],
   "source": [
    "driver = webdriver.Firefox()"
   ]
  },
  {
   "cell_type": "code",
   "execution_count": 141,
   "id": "eca07b46",
   "metadata": {},
   "outputs": [],
   "source": [
    "url = \"https://www.amazon.in\"\n",
    "driver.get(url)"
   ]
  },
  {
   "cell_type": "code",
   "execution_count": 168,
   "id": "e2598eac",
   "metadata": {},
   "outputs": [],
   "source": [
    "def create_url(search_item):\n",
    "    template = \"https://www.amazon.in/s?k={}&ref=nb_sb_noss_2\"\n",
    "    item = search_item.replace(' ', '+')\n",
    "    url = template.format(item)\n",
    "    return url\n",
    "\n",
    "driver.get(create_url(\"Xiaomi\"))"
   ]
  },
  {
   "cell_type": "code",
   "execution_count": 182,
   "id": "fce2d1ad",
   "metadata": {},
   "outputs": [],
   "source": [
    "soup = BeautifulSoup(driver.page_source, 'html.parser')\n",
    "results = soup.find_all('div', {'data-component-type' : 's-search-result'})\n",
    "\n",
    "actual_price = []\n",
    "discounted_price = []\n",
    "device_names = []"
   ]
  },
  {
   "cell_type": "code",
   "execution_count": 183,
   "id": "9ba59daf",
   "metadata": {
    "scrolled": true
   },
   "outputs": [
    {
     "data": {
      "text/plain": [
       "<div class=\"s-result-item s-asin sg-col-0-of-12 sg-col-16-of-20 sg-col sg-col-12-of-16\" data-asin=\"B07DJHWT5V\" data-cel-widget=\"search_result_1\" data-component-id=\"38\" data-component-type=\"s-search-result\" data-index=\"7\" data-uuid=\"1a31d45f-e7c2-4d9c-8336-c78af3671204\"><div class=\"sg-col-inner\">\n",
       "<span cel_widget_id=\"MAIN-SEARCH_RESULTS-7\" class=\"celwidget slot=MAIN template=SEARCH_RESULTS widgetId=search-results_1\" data-cel-widget=\"MAIN-SEARCH_RESULTS-7\" data-csa-c-id=\"fur9e3-v9gwoa-dscrg0-2lohib\">\n",
       "<div class=\"s-expand-height s-include-content-margin s-latency-cf-section s-border-bottom\"><div class=\"a-section a-spacing-medium\"><div class=\"sg-row\"><div class=\"a-section a-spacing-micro s-min-height-small\"></div></div><div class=\"sg-row\"><div class=\"sg-col sg-col-4-of-12 sg-col-4-of-16 sg-col-4-of-20\"><div class=\"sg-col-inner\"><div class=\"a-section a-spacing-none\"><span class=\"rush-component\" data-component-id=\"1\" data-component-type=\"s-product-image\"><a class=\"a-link-normal s-no-outline\" href=\"/Mi-A2-Gold-64GB-Storage/dp/B07DJHWT5V/ref=sr_1_1?dchild=1&amp;keywords=Xiaomi&amp;qid=1630128631&amp;sr=8-1\" target=\"_blank\"><div class=\"a-section aok-relative s-image-fixed-height\"><img alt=\"Xiaomi Mi A2 (Gold, 4GB RAM, 64GB Storage)\" class=\"s-image\" data-image-index=\"1\" data-image-latency=\"s-product-image\" data-image-load=\"\" data-image-source-density=\"1\" src=\"https://m.media-amazon.com/images/I/91zwD+7G9zL._AC_UY218_.jpg\" srcset=\"https://m.media-amazon.com/images/I/91zwD+7G9zL._AC_UY218_.jpg 1x, https://m.media-amazon.com/images/I/91zwD+7G9zL._AC_UY327_QL65_.jpg 1.5x, https://m.media-amazon.com/images/I/91zwD+7G9zL._AC_UY436_QL65_.jpg 2x, https://m.media-amazon.com/images/I/91zwD+7G9zL._AC_UY545_QL65_.jpg 2.5x, https://m.media-amazon.com/images/I/91zwD+7G9zL._AC_UY654_QL65_.jpg 3x\"/></div></a></span></div></div></div><div class=\"sg-col sg-col-4-of-12 sg-col-8-of-16 sg-col-12-of-20\"><div class=\"sg-col-inner\"><div class=\"a-section a-spacing-none\"><div class=\"a-section a-spacing-none\"><h2 class=\"a-size-mini a-spacing-none a-color-base s-line-clamp-2\"><a class=\"a-link-normal a-text-normal\" href=\"/Mi-A2-Gold-64GB-Storage/dp/B07DJHWT5V/ref=sr_1_1?dchild=1&amp;keywords=Xiaomi&amp;qid=1630128631&amp;sr=8-1\" target=\"_blank\"><span class=\"a-size-medium a-color-base a-text-normal\">Xiaomi Mi A2 (Gold, 4GB RAM, 64GB Storage)</span> </a> </h2></div><div class=\"a-section a-spacing-none a-spacing-top-micro\"><div class=\"a-row a-size-small\"><span aria-label=\"4.0 out of 5 stars\"><span class=\"a-declarative\" data-a-popover='{\"closeButton\":false,\"closeButtonLabel\":\"\",\"position\":\"triggerBottom\",\"popoverLabel\":\"\",\"url\":\"/review/widgets/average-customer-review/popover/ref=acr_search__popover?ie=UTF8&amp;asin=B07DJHWT5V&amp;ref=acr_search__popover&amp;contextId=search\"}' data-action=\"a-popover\"><a class=\"a-popover-trigger a-declarative\" href=\"javascript:void(0)\" role=\"button\"><i class=\"a-icon a-icon-star-small a-star-small-4 aok-align-bottom\"><span class=\"a-icon-alt\">4.0 out of 5 stars</span></i><i class=\"a-icon a-icon-popover\"></i></a></span> </span><span aria-label=\"45,484\"><a class=\"a-link-normal\" href=\"/Mi-A2-Gold-64GB-Storage/dp/B07DJHWT5V/ref=sr_1_1?dchild=1&amp;keywords=Xiaomi&amp;qid=1630128631&amp;sr=8-1#customerReviews\" target=\"_blank\"><span class=\"a-size-base\">45,484</span> </a> </span></div></div><div class=\"sg-row\"><div class=\"sg-col sg-col-4-of-12 sg-col-4-of-16 sg-col-4-of-20\"><div class=\"sg-col-inner\"><div class=\"a-section a-spacing-none a-spacing-top-small\"><div class=\"a-row a-size-base a-color-base\"><a class=\"a-size-base a-link-normal a-text-normal\" href=\"/Mi-A2-Gold-64GB-Storage/dp/B07DJHWT5V/ref=sr_1_1?dchild=1&amp;keywords=Xiaomi&amp;qid=1630128631&amp;sr=8-1\" target=\"_blank\"><span class=\"a-price\" data-a-color=\"price\" data-a-size=\"l\"><span class=\"a-offscreen\">₹12,850</span><span aria-hidden=\"true\"><span class=\"a-price-symbol\">₹</span><span class=\"a-price-whole\">12,850</span></span></span> <span class=\"a-price a-text-price\" data-a-color=\"secondary\" data-a-size=\"b\" data-a-strike=\"true\"><span class=\"a-offscreen\">₹17,499</span><span aria-hidden=\"true\">₹17,499</span></span> </a> <span class=\"a-letter-space\"></span><span>Save ₹4,649 (27%)</span><span class=\"a-letter-space\"></span></div></div><div class=\"a-section a-spacing-none a-spacing-top-micro\"><div class=\"a-row a-size-base a-color-secondary s-align-children-center\"><div class=\"a-row s-align-children-center\"><span class=\"aok-inline-block s-image-logo-view\"><span class=\"aok-relative s-icon-text-medium s-prime\"><i aria-label=\"Amazon Prime\" class=\"a-icon a-icon-prime a-icon-medium\" role=\"img\"></i></span><span></span></span> <span aria-label=\"Get it by Wednesday, September 1\"><span>Get it by </span><span class=\"a-text-bold\">Wednesday, September 1</span></span></div><div class=\"a-row\"><span aria-label=\"FREE Delivery by Amazon\"><span>FREE Delivery by Amazon</span></span></div></div></div></div></div><div class=\"sg-col sg-col-4-of-12 sg-col-4-of-16 sg-col-8-of-20\"><div class=\"sg-col-inner\"></div></div></div></div></div></div></div></div></div>\n",
       "</span>\n",
       "</div></div>"
      ]
     },
     "execution_count": 183,
     "metadata": {},
     "output_type": "execute_result"
    }
   ],
   "source": [
    "results[0]"
   ]
  },
  {
   "cell_type": "code",
   "execution_count": 184,
   "id": "ebc5117c",
   "metadata": {},
   "outputs": [
    {
     "name": "stdout",
     "output_type": "stream",
     "text": [
      "Xiaomi Mi A2 (Gold, 4GB RAM, 64GB Storage)\n",
      "None\n"
     ]
    }
   ],
   "source": [
    "itemx = results[0]\n",
    "product_name = itemx.h2.a.span\n",
    "print(product_name.text)\n",
    "############ remove from list\n",
    "sponsored = itemx.find('span',{'aria-label':\"Amazon's Choice\"})\n",
    "print(sponsored)\n",
    "\n",
    "hover_sponsored =itemx.find('span', {'class':'s-label-popover-hover'})\n"
   ]
  },
  {
   "cell_type": "code",
   "execution_count": 185,
   "id": "9ec442bb",
   "metadata": {},
   "outputs": [
    {
     "data": {
      "text/plain": [
       "'27,990'"
      ]
     },
     "execution_count": 185,
     "metadata": {},
     "output_type": "execute_result"
    }
   ],
   "source": [
    "product_price = item.find('a', {'class':'a-size-base a-link-normal a-text-normal'})\n",
    "discounted_and_actual_wrong = product_price.text.split(' ', 1)\n",
    "unwanted_discounted = discounted_and_actual_wrong[0].split('₹')\n",
    "discounted = unwanted_discounted[1]\n",
    "unwanted_actual = discounted_and_actual_wrong[1].split('₹')\n",
    "actual = unwanted_actual[1]\n",
    "actual"
   ]
  },
  {
   "cell_type": "code",
   "execution_count": 186,
   "id": "71b02d13",
   "metadata": {},
   "outputs": [
    {
     "name": "stdout",
     "output_type": "stream",
     "text": [
      "0\n",
      "1\n",
      "2\n",
      "3\n",
      "4\n",
      "5\n",
      "6\n",
      "7\n",
      "8\n",
      "Hovered Sponsor\n",
      "9\n",
      "Hovered Sponsor\n",
      "10\n",
      "11\n",
      "12\n",
      "Amazons Choice\n",
      "13\n",
      "14\n",
      "15\n",
      "16\n",
      "17\n",
      "18\n",
      "Hovered Sponsor\n",
      "19\n",
      "Hovered Sponsor\n",
      "20\n",
      "Hovered Sponsor\n",
      "21\n",
      "Hovered Sponsor\n"
     ]
    }
   ],
   "source": [
    "total_products_on_page = len(results)\n",
    "for i in range(total_products_on_page):\n",
    "    print(i)\n",
    "    item = results[i]\n",
    "    # check if they are sponsored or not\n",
    "    amazons_choice = item.find('span',{'aria-label':\"Amazon's Choice\"})\n",
    "    hovered_sponsor = item.find('span', {'class':'s-label-popover-hover'})\n",
    "    if amazons_choice is not None:\n",
    "        print(\"Amazons Choice\")\n",
    "        continue\n",
    "    \n",
    "    if hovered_sponsor is not None:\n",
    "        print(\"Hovered Sponsor\")\n",
    "        continue\n",
    "        \n",
    "    try:\n",
    "        item_name = item.h2.a.span\n",
    "        device_names.append(item_name.text)\n",
    "    except AttributeError:\n",
    "        print(\"No Name\")\n",
    "    \n",
    "    product_price = item.find('a', {'class':'a-size-base a-link-normal a-text-normal'})\n",
    "    try:\n",
    "        discounted_and_actual_wrong = product_price.text.split(' ', 1)\n",
    "        unwanted_discounted = discounted_and_actual_wrong[0].split('₹')\n",
    "        discounted = unwanted_discounted[1]\n",
    "        unwanted_actual = discounted_and_actual_wrong[1].split('₹')\n",
    "        actual = unwanted_actual[1]\n",
    "        discounted_price.append(discounted)\n",
    "        actual_price.append(actual)\n",
    "    except AttributeError:\n",
    "        discounted_price.append('0')\n",
    "        actual_price.append('0')\n",
    "   "
   ]
  },
  {
   "cell_type": "code",
   "execution_count": 187,
   "id": "9ce6ff64",
   "metadata": {},
   "outputs": [
    {
     "data": {
      "text/plain": [
       "['12,850',\n",
       " '13,499',\n",
       " '11,999',\n",
       " '9,999',\n",
       " '8,999',\n",
       " '27,999',\n",
       " '10,999',\n",
       " '8,999',\n",
       " '11,999',\n",
       " '9,999',\n",
       " '21,999',\n",
       " '13,499',\n",
       " '21,999',\n",
       " '0',\n",
       " '1,699']"
      ]
     },
     "execution_count": 187,
     "metadata": {},
     "output_type": "execute_result"
    }
   ],
   "source": [
    "discounted_price"
   ]
  },
  {
   "cell_type": "code",
   "execution_count": 188,
   "id": "8c96a732",
   "metadata": {},
   "outputs": [
    {
     "data": {
      "text/plain": [
       "['17,499',\n",
       " '16,999',\n",
       " '14,999',\n",
       " '11,999',\n",
       " '10,999',\n",
       " '33,999',\n",
       " '13,999',\n",
       " '10,999',\n",
       " '14,999',\n",
       " '11,999',\n",
       " '24,999',\n",
       " '16,999',\n",
       " '24,999',\n",
       " '0',\n",
       " '2,199']"
      ]
     },
     "execution_count": 188,
     "metadata": {},
     "output_type": "execute_result"
    }
   ],
   "source": [
    "actual_price"
   ]
  },
  {
   "cell_type": "code",
   "execution_count": 189,
   "id": "9d848a62",
   "metadata": {},
   "outputs": [
    {
     "data": {
      "text/plain": [
       "['Xiaomi Mi A2 (Gold, 4GB RAM, 64GB Storage)',\n",
       " 'Redmi 9 Power (Blazing Blue, 6GB RAM, 128GB Storage) - 6000mAh Battery |FHD+ Screen | 48MP Quad Camera | Snapdragon 662 Processor | Alexa Hands-Free Capable',\n",
       " 'Redmi Note 9 (Pebble Grey, 4GB RAM 64GB Storage) - 48MP Quad Camera & Full HD+ Display',\n",
       " 'Redmi 9 Prime (Matte Black, 4GB RAM, 64GB Storage) - Full HD+ Display & AI Quad Camera',\n",
       " 'Redmi 9 (Sky Blue, 4GB RAM, 64GB Storage) | 2.3GHz Mediatek Helio G35 Octa core Processor',\n",
       " 'Mi 11X 5G Cosmic Black 6GB RAM 128GB ROM | SD 870 | DisplayMate A+ rated E4 AMOLED',\n",
       " 'Redmi 9 Power (Mighty Black 4GB RAM 64GB Storage) - 6000mAh Battery |FHD+ Screen | 48MP Quad Camera | Alexa Hands-Free Capable',\n",
       " 'Redmi 9 (Sporty Orange, 4GB RAM, 64GB Storage) | 2.3GHz Mediatek Helio G35 Octa core Processor',\n",
       " 'Redmi Note 9 (Aqua Green, 4GB RAM, 64GB Storage) - 48MP Quad Camera & Full HD+ Display',\n",
       " 'Redmi 9 Prime (Sunrise Flare, 4GB RAM, 64GB Storage)- Full HD+ Display & AI Quad Camera',\n",
       " 'Mi 10i 5G (Atlantic Blue, 6GB RAM, 128GB Storage) - 108MP Quad Camera | Snapdragon 750G Processor',\n",
       " 'Redmi 9 Power (Mighty Black, 6GB RAM, 128GB Storage) - 6000mAh Battery |FHD+ Screen| 48MP Quad Camera | Snapdragon 662 Processor | Alexa Hands-Free Capable',\n",
       " 'Mi 10i 5G (Midnight Black, 6GB RAM, 128GB Storage) - 108MP Quad Camera | Snapdragon 750G Processor',\n",
       " 'Redmi 9 Prime (Mint Green, 4GB RAM, 64GB Storage)- Full HD+ Display & AI Quad Camera',\n",
       " 'Mi Power Bank 3i 20000mAh | 18W Fast PD Charging | Input- Type C and Micro USB| Triple Output | Sandstone Black']"
      ]
     },
     "execution_count": 189,
     "metadata": {},
     "output_type": "execute_result"
    }
   ],
   "source": [
    "device_names"
   ]
  },
  {
   "cell_type": "code",
   "execution_count": 190,
   "id": "79443e6d",
   "metadata": {},
   "outputs": [
    {
     "data": {
      "text/plain": [
       "15"
      ]
     },
     "execution_count": 190,
     "metadata": {},
     "output_type": "execute_result"
    }
   ],
   "source": [
    "len(discounted_price)"
   ]
  },
  {
   "cell_type": "code",
   "execution_count": 191,
   "id": "b6add9d0",
   "metadata": {},
   "outputs": [
    {
     "data": {
      "text/plain": [
       "15"
      ]
     },
     "execution_count": 191,
     "metadata": {},
     "output_type": "execute_result"
    }
   ],
   "source": [
    "len(actual_price)"
   ]
  },
  {
   "cell_type": "code",
   "execution_count": 195,
   "id": "e0b1ad94",
   "metadata": {},
   "outputs": [
    {
     "data": {
      "text/plain": [
       "[['Xiaomi Mi A2 (Gold, 4GB RAM, 64GB Storage)', '17,499', '12,850'],\n",
       " ['Redmi 9 Power (Blazing Blue, 6GB RAM, 128GB Storage) - 6000mAh Battery |FHD+ Screen | 48MP Quad Camera | Snapdragon 662 Processor | Alexa Hands-Free Capable',\n",
       "  '16,999',\n",
       "  '13,499'],\n",
       " ['Redmi Note 9 (Pebble Grey, 4GB RAM 64GB Storage) - 48MP Quad Camera & Full HD+ Display',\n",
       "  '14,999',\n",
       "  '11,999'],\n",
       " ['Redmi 9 Prime (Matte Black, 4GB RAM, 64GB Storage) - Full HD+ Display & AI Quad Camera',\n",
       "  '11,999',\n",
       "  '9,999'],\n",
       " ['Redmi 9 (Sky Blue, 4GB RAM, 64GB Storage) | 2.3GHz Mediatek Helio G35 Octa core Processor',\n",
       "  '10,999',\n",
       "  '8,999'],\n",
       " ['Mi 11X 5G Cosmic Black 6GB RAM 128GB ROM | SD 870 | DisplayMate A+ rated E4 AMOLED',\n",
       "  '33,999',\n",
       "  '27,999'],\n",
       " ['Redmi 9 Power (Mighty Black 4GB RAM 64GB Storage) - 6000mAh Battery |FHD+ Screen | 48MP Quad Camera | Alexa Hands-Free Capable',\n",
       "  '13,999',\n",
       "  '10,999'],\n",
       " ['Redmi 9 (Sporty Orange, 4GB RAM, 64GB Storage) | 2.3GHz Mediatek Helio G35 Octa core Processor',\n",
       "  '10,999',\n",
       "  '8,999'],\n",
       " ['Redmi Note 9 (Aqua Green, 4GB RAM, 64GB Storage) - 48MP Quad Camera & Full HD+ Display',\n",
       "  '14,999',\n",
       "  '11,999'],\n",
       " ['Redmi 9 Prime (Sunrise Flare, 4GB RAM, 64GB Storage)- Full HD+ Display & AI Quad Camera',\n",
       "  '11,999',\n",
       "  '9,999'],\n",
       " ['Mi 10i 5G (Atlantic Blue, 6GB RAM, 128GB Storage) - 108MP Quad Camera | Snapdragon 750G Processor',\n",
       "  '24,999',\n",
       "  '21,999'],\n",
       " ['Redmi 9 Power (Mighty Black, 6GB RAM, 128GB Storage) - 6000mAh Battery |FHD+ Screen| 48MP Quad Camera | Snapdragon 662 Processor | Alexa Hands-Free Capable',\n",
       "  '16,999',\n",
       "  '13,499'],\n",
       " ['Mi 10i 5G (Midnight Black, 6GB RAM, 128GB Storage) - 108MP Quad Camera | Snapdragon 750G Processor',\n",
       "  '24,999',\n",
       "  '21,999'],\n",
       " ['Redmi 9 Prime (Mint Green, 4GB RAM, 64GB Storage)- Full HD+ Display & AI Quad Camera',\n",
       "  '0',\n",
       "  '0'],\n",
       " ['Mi Power Bank 3i 20000mAh | 18W Fast PD Charging | Input- Type C and Micro USB| Triple Output | Sandstone Black',\n",
       "  '2,199',\n",
       "  '1,699']]"
      ]
     },
     "execution_count": 195,
     "metadata": {},
     "output_type": "execute_result"
    }
   ],
   "source": [
    "temp_list = []\n",
    "records_to_write = []\n",
    "for i in range(len(device_names)):\n",
    "    records_to_write.append([device_names[i], actual_price[i], discounted_price[i]])\n",
    "records_to_write"
   ]
  },
  {
   "cell_type": "code",
   "execution_count": 199,
   "id": "3a84870f",
   "metadata": {},
   "outputs": [],
   "source": [
    "fields = ['Name', 'Actual', 'Discounted']\n",
    "with open('Amazon.csv', 'w', newline='') as file:\n",
    "    writer = csv.writer(file)\n",
    "    writer.writerow(fields)\n",
    "    for i in range(len(device_names)):\n",
    "        temp_list.append(device_names[i])\n",
    "        temp_list.append(actual_price[i])\n",
    "        temp_list.append(discounted_price[i])\n",
    "        writer.writerow(temp_list)\n",
    "        temp_list = []"
   ]
  },
  {
   "cell_type": "code",
   "execution_count": null,
   "id": "39bede1d",
   "metadata": {},
   "outputs": [],
   "source": []
  }
 ],
 "metadata": {
  "kernelspec": {
   "display_name": "Python 3 (ipykernel)",
   "language": "python",
   "name": "python3"
  },
  "language_info": {
   "codemirror_mode": {
    "name": "ipython",
    "version": 3
   },
   "file_extension": ".py",
   "mimetype": "text/x-python",
   "name": "python",
   "nbconvert_exporter": "python",
   "pygments_lexer": "ipython3",
   "version": "3.9.6"
  }
 },
 "nbformat": 4,
 "nbformat_minor": 5
}
