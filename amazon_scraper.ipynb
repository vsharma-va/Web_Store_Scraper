{
 "cells": [
  {
   "cell_type": "code",
   "execution_count": 277,
   "id": "b437d0ef",
   "metadata": {},
   "outputs": [],
   "source": [
    "import csv\n",
    "import random\n",
    "import time\n",
    "import os\n",
    "from bs4 import BeautifulSoup"
   ]
  },
  {
   "cell_type": "code",
   "execution_count": 278,
   "id": "bf77030c",
   "metadata": {
    "scrolled": true
   },
   "outputs": [],
   "source": [
    "from selenium import webdriver"
   ]
  },
  {
   "cell_type": "code",
   "execution_count": 279,
   "id": "953a40bc",
   "metadata": {},
   "outputs": [],
   "source": [
    "driver = webdriver.Firefox()"
   ]
  },
  {
   "cell_type": "code",
   "execution_count": 280,
   "id": "b2e73bb6",
   "metadata": {},
   "outputs": [],
   "source": [
    "url = \"https://www.amazon.in\"\n",
    "driver.get(url)"
   ]
  },
  {
   "cell_type": "code",
   "execution_count": 281,
   "id": "c3d370ec",
   "metadata": {},
   "outputs": [],
   "source": [
    "def create_url(search_item):\n",
    "    template = \"https://www.amazon.in/s?k={}&ref=nb_sb_noss_2\"\n",
    "    item = search_item.replace(' ', '+')\n",
    "    url = template.format(item)\n",
    "    return url\n",
    "\n",
    "search = \"Xiaomi\"\n",
    "driver.get(create_url(search))"
   ]
  },
  {
   "cell_type": "code",
   "execution_count": 294,
   "id": "2651c615",
   "metadata": {},
   "outputs": [],
   "source": [
    "soup = BeautifulSoup(driver.page_source, 'html.parser')\n",
    "results = soup.find_all('div', {'data-component-type' : 's-search-result'})\n",
    "\n",
    "actual_price = []\n",
    "discounted_price = []\n",
    "device_names = []\n",
    "hovered_items = []\n",
    "hovered_price_actual = []\n",
    "hovered_price_discount = []\n",
    "amazons_items = []\n",
    "amazons_price_actual = []\n",
    "amazons_price_discount = []"
   ]
  },
  {
   "cell_type": "code",
   "execution_count": 295,
   "id": "b1e84d08",
   "metadata": {
    "scrolled": true
   },
   "outputs": [
    {
     "data": {
      "text/plain": [
       "<div class=\"s-result-item s-asin sg-col-0-of-12 sg-col-16-of-20 sg-col sg-col-12-of-16\" data-asin=\"B077PW9VBW\" data-cel-widget=\"search_result_1\" data-component-id=\"35\" data-component-type=\"s-search-result\" data-index=\"7\" data-uuid=\"c4b5327e-f60c-4ad5-bfc9-d5794f7b31dc\"><div class=\"sg-col-inner\">\n",
       "<span cel_widget_id=\"MAIN-SEARCH_RESULTS-7\" class=\"celwidget slot=MAIN template=SEARCH_RESULTS widgetId=search-results_1\" data-cel-widget=\"MAIN-SEARCH_RESULTS-7\" data-csa-c-id=\"4651lt-ih4gaa-ys05r2-6p35tm\">\n",
       "<div class=\"s-expand-height s-include-content-margin s-latency-cf-section s-border-bottom\"><div class=\"a-section a-spacing-medium\"><div class=\"sg-row\"><div class=\"a-section a-spacing-micro s-min-height-small\"></div></div><div class=\"sg-row\"><div class=\"sg-col sg-col-4-of-12 sg-col-4-of-16 sg-col-4-of-20\"><div class=\"sg-col-inner\"><div class=\"a-section a-spacing-none\"><span class=\"rush-component\" data-component-id=\"1\" data-component-type=\"s-product-image\"><a class=\"a-link-normal s-no-outline\" href=\"/Mi-A2-Black-64GB-Storage/dp/B077PW9VBW/ref=sr_1_1?dchild=1&amp;keywords=Xiaomi&amp;qid=1630139904&amp;sr=8-1\" target=\"_blank\"><div class=\"a-section aok-relative s-image-fixed-height\"><img alt=\"MI Xiaomi Mi A2 (Black, 4GB RAM, 64GB Storage)\" class=\"s-image\" data-image-index=\"1\" data-image-latency=\"s-product-image\" data-image-load=\"\" data-image-source-density=\"1\" src=\"https://m.media-amazon.com/images/I/91v4EIl4uiL._AC_UY218_.jpg\" srcset=\"https://m.media-amazon.com/images/I/91v4EIl4uiL._AC_UY218_.jpg 1x, https://m.media-amazon.com/images/I/91v4EIl4uiL._AC_UY327_QL65_.jpg 1.5x, https://m.media-amazon.com/images/I/91v4EIl4uiL._AC_UY436_QL65_.jpg 2x, https://m.media-amazon.com/images/I/91v4EIl4uiL._AC_UY545_QL65_.jpg 2.5x, https://m.media-amazon.com/images/I/91v4EIl4uiL._AC_UY654_QL65_.jpg 3x\"/></div></a></span></div></div></div><div class=\"sg-col sg-col-4-of-12 sg-col-8-of-16 sg-col-12-of-20\"><div class=\"sg-col-inner\"><div class=\"a-section a-spacing-none\"><div class=\"a-section a-spacing-none\"><h2 class=\"a-size-mini a-spacing-none a-color-base s-line-clamp-2\"><a class=\"a-link-normal a-text-normal\" href=\"/Mi-A2-Black-64GB-Storage/dp/B077PW9VBW/ref=sr_1_1?dchild=1&amp;keywords=Xiaomi&amp;qid=1630139904&amp;sr=8-1\" target=\"_blank\"><span class=\"a-size-medium a-color-base a-text-normal\">MI Xiaomi Mi A2 (Black, 4GB RAM, 64GB Storage)</span> </a> </h2></div><div class=\"a-section a-spacing-none a-spacing-top-micro\"><div class=\"a-row a-size-small\"><span aria-label=\"4.0 out of 5 stars\"><span class=\"a-declarative\" data-a-popover='{\"closeButton\":false,\"closeButtonLabel\":\"\",\"position\":\"triggerBottom\",\"popoverLabel\":\"\",\"url\":\"/review/widgets/average-customer-review/popover/ref=acr_search__popover?ie=UTF8&amp;asin=B077PW9VBW&amp;ref=acr_search__popover&amp;contextId=search\"}' data-action=\"a-popover\"><a class=\"a-popover-trigger a-declarative\" href=\"javascript:void(0)\" role=\"button\"><i class=\"a-icon a-icon-star-small a-star-small-4 aok-align-bottom\"><span class=\"a-icon-alt\">4.0 out of 5 stars</span></i><i class=\"a-icon a-icon-popover\"></i></a></span> </span><span aria-label=\"45,484\"><a class=\"a-link-normal\" href=\"/Mi-A2-Black-64GB-Storage/dp/B077PW9VBW/ref=sr_1_1?dchild=1&amp;keywords=Xiaomi&amp;qid=1630139904&amp;sr=8-1#customerReviews\" target=\"_blank\"><span class=\"a-size-base\">45,484</span> </a> </span></div></div><div class=\"sg-row\"><div class=\"sg-col sg-col-4-of-12 sg-col-4-of-16 sg-col-4-of-20\"><div class=\"sg-col-inner\"><div class=\"a-section a-spacing-none a-spacing-top-small\"><div class=\"a-row a-size-base a-color-base\"><a class=\"a-size-base a-link-normal a-text-normal\" href=\"/Mi-A2-Black-64GB-Storage/dp/B077PW9VBW/ref=sr_1_1?dchild=1&amp;keywords=Xiaomi&amp;qid=1630139904&amp;sr=8-1\" target=\"_blank\"><span class=\"a-price\" data-a-color=\"price\" data-a-size=\"l\"><span class=\"a-offscreen\">₹13,299</span><span aria-hidden=\"true\"><span class=\"a-price-symbol\">₹</span><span class=\"a-price-whole\">13,299</span></span></span> <span class=\"a-price a-text-price\" data-a-color=\"secondary\" data-a-size=\"b\" data-a-strike=\"true\"><span class=\"a-offscreen\">₹17,499</span><span aria-hidden=\"true\">₹17,499</span></span> </a> <span class=\"a-letter-space\"></span><span>Save ₹4,200 (24%)</span><span class=\"a-letter-space\"></span></div></div><div class=\"a-section a-spacing-none a-spacing-top-micro\"><div class=\"a-row a-size-base a-color-secondary s-align-children-center\"><div class=\"a-row s-align-children-center\"><span class=\"aok-inline-block s-image-logo-view\"><span class=\"aok-relative s-icon-text-medium s-prime\"><i aria-label=\"Amazon Prime\" class=\"a-icon a-icon-prime a-icon-medium\" role=\"img\"></i></span><span></span></span> <span aria-label=\"Get it by Monday, August 30\"><span>Get it by </span><span class=\"a-text-bold\">Monday, August 30</span></span></div><div class=\"a-row\"><span aria-label=\"FREE Delivery by Amazon\"><span>FREE Delivery by Amazon</span></span></div></div></div></div></div><div class=\"sg-col sg-col-4-of-12 sg-col-4-of-16 sg-col-8-of-20\"><div class=\"sg-col-inner\"></div></div></div></div></div></div></div></div></div>\n",
       "</span>\n",
       "</div></div>"
      ]
     },
     "execution_count": 295,
     "metadata": {},
     "output_type": "execute_result"
    }
   ],
   "source": [
    "results[0]"
   ]
  },
  {
   "cell_type": "code",
   "execution_count": 296,
   "id": "785b23bc",
   "metadata": {},
   "outputs": [
    {
     "name": "stdout",
     "output_type": "stream",
     "text": [
      "MI Xiaomi Mi A2 (Black, 4GB RAM, 64GB Storage)\n",
      "None\n"
     ]
    }
   ],
   "source": [
    "itemx = results[0]\n",
    "product_name = itemx.h2.a.span\n",
    "print(product_name.text)\n",
    "############ remove from list\n",
    "sponsored = itemx.find('span',{'aria-label':\"Amazon's Choice\"})\n",
    "print(sponsored)\n",
    "\n",
    "hover_sponsored =itemx.find('span', {'class':'s-label-popover-hover'})\n"
   ]
  },
  {
   "cell_type": "code",
   "execution_count": 297,
   "id": "86315af5",
   "metadata": {},
   "outputs": [
    {
     "data": {
      "text/plain": [
       "'27,990'"
      ]
     },
     "execution_count": 297,
     "metadata": {},
     "output_type": "execute_result"
    }
   ],
   "source": [
    "product_price = item.find('a', {'class':'a-size-base a-link-normal a-text-normal'})\n",
    "discounted_and_actual_wrong = product_price.text.split(' ', 1)\n",
    "unwanted_discounted = discounted_and_actual_wrong[0].split('₹')\n",
    "discounted = unwanted_discounted[1]\n",
    "unwanted_actual = discounted_and_actual_wrong[1].split('₹')\n",
    "actual = unwanted_actual[1]\n",
    "actual"
   ]
  },
  {
   "cell_type": "code",
   "execution_count": 298,
   "id": "5cea7a8f",
   "metadata": {
    "scrolled": false
   },
   "outputs": [
    {
     "name": "stdout",
     "output_type": "stream",
     "text": [
      "0\n",
      "1\n",
      "2\n",
      "3\n",
      "4\n",
      "5\n",
      "6\n",
      "7\n",
      "8\n",
      "9\n",
      "10\n",
      "11\n",
      "12\n",
      "13\n",
      "14\n",
      "15\n",
      "16\n",
      "17\n",
      "18\n",
      "19\n",
      "20\n",
      "21\n",
      "\n",
      "\n",
      "\n",
      "Hovered Sponsored Group->\n",
      "0 Mi 11X 5G Cosmic Black 6GB RAM 128GB ROM | SD 870 | DisplayMate A+ rated E4 AMOLED\n",
      "1 Mi 11X Pro 5G (Cosmic Black, 8GB RAM, 256GB Storage) | Snapdragon 888 | 108MP Camera | Additional 5000 Off on Exchange\n",
      "2 Samsung Galaxy M21 2021 Edition (Charcoal Black , 4GB RAM, 64GB Storage) | FHD+ sAMOLED | 6 Months Free Screen Replacement for Prime\n",
      "3 Samsung Galaxy M32 (Black, 6GB RAM, 128GB Storage) 6 Months Free Screen Replacement for Prime\n",
      "4 Tecno Spark 7 Pro (Spruce Green, 6GB RAM 64GB Storage)\n",
      "5 Vivo V21e 5G (Dark Pearl, 8GB RAM, 128GB Storage) with No Cost EMI/Additional Exchange Offers\n",
      "\n",
      "\n",
      "\n",
      "Amazons Choice Group->\n",
      "Enter the first three leters of the group you want to delete from: \n",
      "Or Enter q to exithov\n",
      "Enter the index of the item you want to delete\n",
      "Or Enter an negative number to exit2\n",
      "\n",
      "\n",
      "\n",
      "Hovered Sponsored Group->\n",
      "0 Mi 11X 5G Cosmic Black 6GB RAM 128GB ROM | SD 870 | DisplayMate A+ rated E4 AMOLED\n",
      "1 Mi 11X Pro 5G (Cosmic Black, 8GB RAM, 256GB Storage) | Snapdragon 888 | 108MP Camera | Additional 5000 Off on Exchange\n",
      "2 Samsung Galaxy M32 (Black, 6GB RAM, 128GB Storage) 6 Months Free Screen Replacement for Prime\n",
      "3 Tecno Spark 7 Pro (Spruce Green, 6GB RAM 64GB Storage)\n",
      "4 Vivo V21e 5G (Dark Pearl, 8GB RAM, 128GB Storage) with No Cost EMI/Additional Exchange Offers\n",
      "\n",
      "\n",
      "\n",
      "Amazons Choice Group->\n",
      "Enter the first three leters of the group you want to delete from: \n",
      "Or Enter q to exithov\n",
      "Enter the index of the item you want to delete\n",
      "Or Enter an negative number to exit2\n",
      "\n",
      "\n",
      "\n",
      "Hovered Sponsored Group->\n",
      "0 Mi 11X 5G Cosmic Black 6GB RAM 128GB ROM | SD 870 | DisplayMate A+ rated E4 AMOLED\n",
      "1 Mi 11X Pro 5G (Cosmic Black, 8GB RAM, 256GB Storage) | Snapdragon 888 | 108MP Camera | Additional 5000 Off on Exchange\n",
      "2 Tecno Spark 7 Pro (Spruce Green, 6GB RAM 64GB Storage)\n",
      "3 Vivo V21e 5G (Dark Pearl, 8GB RAM, 128GB Storage) with No Cost EMI/Additional Exchange Offers\n",
      "\n",
      "\n",
      "\n",
      "Amazons Choice Group->\n",
      "Enter the first three leters of the group you want to delete from: \n",
      "Or Enter q to exithov\n",
      "Enter the index of the item you want to delete\n",
      "Or Enter an negative number to exit2\n",
      "\n",
      "\n",
      "\n",
      "Hovered Sponsored Group->\n",
      "0 Mi 11X 5G Cosmic Black 6GB RAM 128GB ROM | SD 870 | DisplayMate A+ rated E4 AMOLED\n",
      "1 Mi 11X Pro 5G (Cosmic Black, 8GB RAM, 256GB Storage) | Snapdragon 888 | 108MP Camera | Additional 5000 Off on Exchange\n",
      "2 Vivo V21e 5G (Dark Pearl, 8GB RAM, 128GB Storage) with No Cost EMI/Additional Exchange Offers\n",
      "\n",
      "\n",
      "\n",
      "Amazons Choice Group->\n",
      "Enter the first three leters of the group you want to delete from: \n",
      "Or Enter q to exithov\n",
      "Enter the index of the item you want to delete\n",
      "Or Enter an negative number to exit2\n",
      "\n",
      "\n",
      "\n",
      "Hovered Sponsored Group->\n",
      "0 Mi 11X 5G Cosmic Black 6GB RAM 128GB ROM | SD 870 | DisplayMate A+ rated E4 AMOLED\n",
      "1 Mi 11X Pro 5G (Cosmic Black, 8GB RAM, 256GB Storage) | Snapdragon 888 | 108MP Camera | Additional 5000 Off on Exchange\n",
      "\n",
      "\n",
      "\n",
      "Amazons Choice Group->\n",
      "Enter the first three leters of the group you want to delete from: \n",
      "Or Enter q to exitq\n",
      "Enter the index of the item you want to delete\n",
      "Or Enter an negative number to exit-1\n",
      "These are the remaining items. What would you like to do with them ?\n",
      "0 Mi 11X 5G Cosmic Black 6GB RAM 128GB ROM | SD 870 | DisplayMate A+ rated E4 AMOLED\n",
      "1 Mi 11X Pro 5G (Cosmic Black, 8GB RAM, 256GB Storage) | Snapdragon 888 | 108MP Camera | Additional 5000 Off on Exchange\n",
      "Type ad to add all the remaining devices to the csv file if they are not already present\n",
      "Type de to discard all the remaining devices\n",
      "Enter your choicead\n"
     ]
    }
   ],
   "source": [
    "total_products_on_page = len(results)\n",
    "for i in range(total_products_on_page):\n",
    "    print(i)\n",
    "    item = results[i]\n",
    "    # check if they are sponsored or not\n",
    "    amazons_choice = item.find('span',{'aria-label':\"Amazon's Choice\"})\n",
    "    hovered_sponsor = item.find('span', {'class':'s-label-popover-hover'})\n",
    "    \n",
    "    \n",
    "    if amazons_choice is not None:\n",
    "        item_name_choice = item.h2.a.span\n",
    "        item_name_choice_text = item_name_choice.text\n",
    "        amazons_items.append(item_name_choice_text)\n",
    "        product_price = item.find('a', {'class':'a-size-base a-link-normal a-text-normal'})\n",
    "    \n",
    "        try:\n",
    "            discounted_and_actual_wrong = product_price.text.split(' ', 1)\n",
    "            unwanted_discounted = discounted_and_actual_wrong[0].split('₹')\n",
    "            discounted = unwanted_discounted[1]\n",
    "            unwanted_actual = discounted_and_actual_wrong[1].split('₹')\n",
    "            actual = unwanted_actual[1]\n",
    "            amazons_price_discount.append(discounted)\n",
    "            amazons_price_actual.append(actual)\n",
    "        except AttributeError:\n",
    "            amazons_price_discount.append('0')\n",
    "            amazons_price_actual.append('0')\n",
    "            print(\"Amazons Choice\")\n",
    "            continue\n",
    "        continue\n",
    "    \n",
    "    \n",
    "    if hovered_sponsor is not None:\n",
    "        item_name_hovered = item.h2.a.span\n",
    "        item_name_hovered_text = item_name_hovered.text\n",
    "        hovered_items.append(item_name_hovered_text)\n",
    "        product_price = item.find('a', {'class':'a-size-base a-link-normal a-text-normal'})\n",
    "    \n",
    "        try:\n",
    "            discounted_and_actual_wrong = product_price.text.split(' ', 1)\n",
    "            unwanted_discounted = discounted_and_actual_wrong[0].split('₹')\n",
    "            discounted = unwanted_discounted[1]\n",
    "            unwanted_actual = discounted_and_actual_wrong[1].split('₹')\n",
    "            actual = unwanted_actual[1]\n",
    "            hovered_price_discount.append(discounted)\n",
    "            hovered_price_actual.append(actual)\n",
    "        except AttributeError:\n",
    "            hovered_price_discount.append('0')\n",
    "            hovered_price_actual.append('0')\n",
    "            print(\"Hovered Sponsor\")\n",
    "            continue\n",
    "        continue\n",
    "    \n",
    "    \n",
    "    try:\n",
    "        item_name = item.h2.a.span\n",
    "        device_names.append(item_name.text)\n",
    "    except AttributeError:\n",
    "        print(\"No Name\")\n",
    "    \n",
    "    product_price = item.find('a', {'class':'a-size-base a-link-normal a-text-normal'})\n",
    "    \n",
    "    \n",
    "    \n",
    "    try:\n",
    "        discounted_and_actual_wrong = product_price.text.split(' ', 1)\n",
    "        unwanted_discounted = discounted_and_actual_wrong[0].split('₹')\n",
    "        discounted = unwanted_discounted[1]\n",
    "        unwanted_actual = discounted_and_actual_wrong[1].split('₹')\n",
    "        actual = unwanted_actual[1]\n",
    "        discounted_price.append(discounted)\n",
    "        actual_price.append(actual)\n",
    "    except AttributeError:\n",
    "        discounted_price.append('0')\n",
    "        actual_price.append('0')\n",
    "\n",
    "        \n",
    "not_done = True\n",
    "while not_done:\n",
    "    counter = 0\n",
    "    print ('\\n\\n')\n",
    "    print(\"Hovered Sponsored Group->\")\n",
    "    for z in hovered_items:\n",
    "        print(counter, z)\n",
    "        counter += 1\n",
    "    counter = 0\n",
    "    print('\\n\\n')\n",
    "    print(\"Amazons Choice Group->\")\n",
    "    for x in amazons_items:\n",
    "        print(counter, x)\n",
    "        counter += 1\n",
    "    selected_group = input('''Enter the first three leters of the group you want to delete from: \n",
    "Or Enter q to exit''')\n",
    "    delete_item_idx = int(input('''Enter the index of the item you want to delete\n",
    "Or Enter an negative number to exit'''))\n",
    "    if(selected_group == \"hov\" and delete_item_idx >= 0):\n",
    "        hovered_items.pop(delete_item_idx)\n",
    "        hovered_price_discount.pop(delete_item_idx)\n",
    "        hovered_price_actual.pop(delete_item_idx)\n",
    "    elif(selected_group == \"ama\" and delete_item_idx >= 0):\n",
    "        amazons_items.pop(delete_item_idx)\n",
    "        amazons_price_actual.pop(delete_item_idx)\n",
    "        amazons_price_discount.pop(delete_item_idx)\n",
    "    elif(selected_group == \"q\" or delete_item_idx < 0):\n",
    "        not_done = False\n",
    "        continue\n",
    "    else:\n",
    "        print(\"You may have selected a group which is not present\")\n",
    "        \n",
    "        \n",
    "print(\"These are the remaining items. What would you like to do with them ?\")\n",
    "for z in hovered_items:\n",
    "    print(counter, z)\n",
    "    counter += 1\n",
    "for x in amazons_items:\n",
    "    print(counter, x)\n",
    "    counter += 1\n",
    "\n",
    "print(\"Type ad to add all the remaining devices to the csv file if they are not already present\")\n",
    "print(\"Type de to discard all the remaining devices\")\n",
    "user_answer = input(\"Enter your choice\")\n",
    "if(user_answer == \"ad\"):\n",
    "    for i in range(len(hovered_items)):\n",
    "        if(hovered_items[i] not in device_names):\n",
    "            device_names.append(hovered_items[i])\n",
    "            actual_price.append(hovered_price_actual[i])\n",
    "            discounted_price.append(hovered_price_discounted[i])\n",
    "    for h in range(len(amazons_items)):\n",
    "        if (amazons_items[i] not in device_names):\n",
    "            device_names.append(amazons_items[i])\n",
    "            actual_price.append(amazons_price_actual[i])\n",
    "            discounted_price.append(amazons_price_discount[i])"
   ]
  },
  {
   "cell_type": "code",
   "execution_count": 299,
   "id": "d4b19ba8",
   "metadata": {},
   "outputs": [
    {
     "data": {
      "text/plain": [
       "[]"
      ]
     },
     "execution_count": 299,
     "metadata": {},
     "output_type": "execute_result"
    }
   ],
   "source": [
    "amazons_items"
   ]
  },
  {
   "cell_type": "code",
   "execution_count": 300,
   "id": "db2910d8",
   "metadata": {},
   "outputs": [
    {
     "data": {
      "text/plain": [
       "['13,299',\n",
       " '12,850',\n",
       " '17,399',\n",
       " '13,499',\n",
       " '17,399',\n",
       " '11,999',\n",
       " '17,399',\n",
       " '9,999',\n",
       " '8,999',\n",
       " '0',\n",
       " '39,999',\n",
       " '0',\n",
       " '0',\n",
       " '27,999',\n",
       " '0',\n",
       " '0']"
      ]
     },
     "execution_count": 300,
     "metadata": {},
     "output_type": "execute_result"
    }
   ],
   "source": [
    "discounted_price"
   ]
  },
  {
   "cell_type": "code",
   "execution_count": 301,
   "id": "a6562acb",
   "metadata": {},
   "outputs": [
    {
     "data": {
      "text/plain": [
       "['17,499',\n",
       " '17,499',\n",
       " '17,499',\n",
       " '16,999',\n",
       " '17,499',\n",
       " '14,999',\n",
       " '17,499',\n",
       " '11,999',\n",
       " '10,999',\n",
       " '0',\n",
       " '49,999',\n",
       " '0',\n",
       " '0',\n",
       " '33,999',\n",
       " '0',\n",
       " '0']"
      ]
     },
     "execution_count": 301,
     "metadata": {},
     "output_type": "execute_result"
    }
   ],
   "source": [
    "actual_price"
   ]
  },
  {
   "cell_type": "code",
   "execution_count": 302,
   "id": "c51801a4",
   "metadata": {},
   "outputs": [
    {
     "data": {
      "text/plain": [
       "['MI Xiaomi Mi A2 (Black, 4GB RAM, 64GB Storage)',\n",
       " 'Xiaomi Mi A2 (Gold, 4GB RAM, 64GB Storage)',\n",
       " 'Xiaomi Mi A3 (Kind of Grey, 6GB RAM, 128GB Storage)',\n",
       " 'Redmi 9 Power (Blazing Blue, 6GB RAM, 128GB Storage) - 6000mAh Battery |FHD+ Screen | 48MP Quad Camera | Snapdragon 662 Processor | Alexa Hands-Free Capable',\n",
       " 'Xiaomi Mi A3 (More Than White, 6GB RAM, 128GB Storage)',\n",
       " 'Redmi Note 9 (Pebble Grey, 4GB RAM 64GB Storage) - 48MP Quad Camera & Full HD+ Display',\n",
       " 'Xiaomi Mi A3 (Not Just Blue, 6GB RAM, 128GB Storage)',\n",
       " 'Redmi 9 Prime (Matte Black, 4GB RAM, 64GB Storage) - Full HD+ Display & AI Quad Camera',\n",
       " 'Redmi 9 (Sky Blue, 4GB RAM, 64GB Storage) | 2.3GHz Mediatek Helio G35 Octa core Processor',\n",
       " 'Xiaomi Redmi 8A 3GB 32GB Phone (Midnight Black)',\n",
       " 'Mi 11X Pro 5G (Cosmic Black, 8GB RAM, 256GB Storage) | Snapdragon 888 | 108MP Camera | Additional 5000 Off on Exchange',\n",
       " 'Redmi 8A Dual (Sky White, 2GB RAM, 32GB Storage) – Dual Cameras & 5,000 mAH Battery',\n",
       " 'Redmi 8A Dual (Sea Blue, 2GB RAM, 32GB Storage) – Dual Cameras & 5,000 mAH Battery',\n",
       " 'Mi 11X 5G Cosmic Black 6GB RAM 128GB ROM | SD 870 | DisplayMate A+ rated E4 AMOLED',\n",
       " 'Redmi 8A Dual (Sea Blue, 3GB RAM, 32GB Storage) – Dual Cameras & 5,000 mAH Battery',\n",
       " 'Redmi 9 (Sporty Orange, 4GB RAM, 64GB Storage) | 2.3GHz Mediatek Helio G35 Octa core Processor']"
      ]
     },
     "execution_count": 302,
     "metadata": {},
     "output_type": "execute_result"
    }
   ],
   "source": [
    "device_names"
   ]
  },
  {
   "cell_type": "code",
   "execution_count": 303,
   "id": "3e29a67f",
   "metadata": {},
   "outputs": [
    {
     "data": {
      "text/plain": [
       "16"
      ]
     },
     "execution_count": 303,
     "metadata": {},
     "output_type": "execute_result"
    }
   ],
   "source": [
    "len(discounted_price)"
   ]
  },
  {
   "cell_type": "code",
   "execution_count": 304,
   "id": "56f9524d",
   "metadata": {},
   "outputs": [
    {
     "data": {
      "text/plain": [
       "16"
      ]
     },
     "execution_count": 304,
     "metadata": {},
     "output_type": "execute_result"
    }
   ],
   "source": [
    "len(actual_price)"
   ]
  },
  {
   "cell_type": "code",
   "execution_count": 305,
   "id": "d7c24825",
   "metadata": {},
   "outputs": [
    {
     "data": {
      "text/plain": [
       "[['MI Xiaomi Mi A2 (Black, 4GB RAM, 64GB Storage)', '17,499', '13,299'],\n",
       " ['Xiaomi Mi A2 (Gold, 4GB RAM, 64GB Storage)', '17,499', '12,850'],\n",
       " ['Xiaomi Mi A3 (Kind of Grey, 6GB RAM, 128GB Storage)', '17,499', '17,399'],\n",
       " ['Redmi 9 Power (Blazing Blue, 6GB RAM, 128GB Storage) - 6000mAh Battery |FHD+ Screen | 48MP Quad Camera | Snapdragon 662 Processor | Alexa Hands-Free Capable',\n",
       "  '16,999',\n",
       "  '13,499'],\n",
       " ['Xiaomi Mi A3 (More Than White, 6GB RAM, 128GB Storage)',\n",
       "  '17,499',\n",
       "  '17,399'],\n",
       " ['Redmi Note 9 (Pebble Grey, 4GB RAM 64GB Storage) - 48MP Quad Camera & Full HD+ Display',\n",
       "  '14,999',\n",
       "  '11,999'],\n",
       " ['Xiaomi Mi A3 (Not Just Blue, 6GB RAM, 128GB Storage)', '17,499', '17,399'],\n",
       " ['Redmi 9 Prime (Matte Black, 4GB RAM, 64GB Storage) - Full HD+ Display & AI Quad Camera',\n",
       "  '11,999',\n",
       "  '9,999'],\n",
       " ['Redmi 9 (Sky Blue, 4GB RAM, 64GB Storage) | 2.3GHz Mediatek Helio G35 Octa core Processor',\n",
       "  '10,999',\n",
       "  '8,999'],\n",
       " ['Xiaomi Redmi 8A 3GB 32GB Phone (Midnight Black)', '0', '0'],\n",
       " ['Mi 11X Pro 5G (Cosmic Black, 8GB RAM, 256GB Storage) | Snapdragon 888 | 108MP Camera | Additional 5000 Off on Exchange',\n",
       "  '49,999',\n",
       "  '39,999'],\n",
       " ['Redmi 8A Dual (Sky White, 2GB RAM, 32GB Storage) – Dual Cameras & 5,000 mAH Battery',\n",
       "  '0',\n",
       "  '0'],\n",
       " ['Redmi 8A Dual (Sea Blue, 2GB RAM, 32GB Storage) – Dual Cameras & 5,000 mAH Battery',\n",
       "  '0',\n",
       "  '0'],\n",
       " ['Mi 11X 5G Cosmic Black 6GB RAM 128GB ROM | SD 870 | DisplayMate A+ rated E4 AMOLED',\n",
       "  '33,999',\n",
       "  '27,999'],\n",
       " ['Redmi 8A Dual (Sea Blue, 3GB RAM, 32GB Storage) – Dual Cameras & 5,000 mAH Battery',\n",
       "  '0',\n",
       "  '0'],\n",
       " ['Redmi 9 (Sporty Orange, 4GB RAM, 64GB Storage) | 2.3GHz Mediatek Helio G35 Octa core Processor',\n",
       "  '0',\n",
       "  '0']]"
      ]
     },
     "execution_count": 305,
     "metadata": {},
     "output_type": "execute_result"
    }
   ],
   "source": [
    "temp_list = []\n",
    "records_to_write = []\n",
    "for i in range(len(device_names)):\n",
    "    records_to_write.append([device_names[i], actual_price[i], discounted_price[i]])\n",
    "records_to_write"
   ]
  },
  {
   "cell_type": "code",
   "execution_count": 307,
   "id": "9cba7e4d",
   "metadata": {},
   "outputs": [],
   "source": [
    "if (os.path.isfile('Amazon.csv')):\n",
    "    with open(\"Amazon.csv\", 'a', newline='') as file_write:\n",
    "        writer = csv.writer(file_write)\n",
    "        for i in range(len(device_names)):\n",
    "            temp_list.append(device_names[i])\n",
    "            temp_list.append(actual_price[i])\n",
    "            temp_list.append(discounted_price[i])\n",
    "            writer.writerow(temp_list)\n",
    "            temp_list = []\n",
    "else:\n",
    "    fields = ['Name', 'Actual', 'Discounted']\n",
    "    with open('Amazon.csv', 'w', newline='') as file:\n",
    "        writer = csv.writer(file)\n",
    "        writer.writerow(fields)\n",
    "        for i in range(len(device_names)):\n",
    "            temp_list.append(device_names[i])\n",
    "            temp_list.append(actual_price[i])\n",
    "            temp_list.append(discounted_price[i])\n",
    "            writer.writerow(temp_list)\n",
    "            temp_list = []"
   ]
  },
  {
   "cell_type": "code",
   "execution_count": null,
   "id": "eb344bd8",
   "metadata": {},
   "outputs": [],
   "source": []
  },
  {
   "cell_type": "code",
   "execution_count": null,
   "id": "188be668",
   "metadata": {},
   "outputs": [],
   "source": []
  }
 ],
 "metadata": {
  "kernelspec": {
   "display_name": "Python 3 (ipykernel)",
   "language": "python",
   "name": "python3"
  },
  "language_info": {
   "codemirror_mode": {
    "name": "ipython",
    "version": 3
   },
   "file_extension": ".py",
   "mimetype": "text/x-python",
   "name": "python",
   "nbconvert_exporter": "python",
   "pygments_lexer": "ipython3",
   "version": "3.9.6"
  }
 },
 "nbformat": 4,
 "nbformat_minor": 5
}
